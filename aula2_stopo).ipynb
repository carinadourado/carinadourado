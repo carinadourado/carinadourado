{
  "nbformat": 4,
  "nbformat_minor": 5,
  "metadata": {
    "kernelspec": {
      "display_name": "Python 3",
      "language": "python",
      "name": "python3"
    },
    "language_info": {
      "codemirror_mode": {
        "name": "ipython",
        "version": 3
      },
      "file_extension": ".py",
      "mimetype": "text/x-python",
      "name": "python",
      "nbconvert_exporter": "python",
      "pygments_lexer": "ipython3",
      "version": "3.8.5"
    },
    "colab": {
      "name": "aula2_exemplos(1)(1).ipynb",
      "provenance": [],
      "include_colab_link": true
    }
  },
  "cells": [
    {
      "cell_type": "markdown",
      "metadata": {
        "id": "view-in-github",
        "colab_type": "text"
      },
      "source": [
        "<a href=\"https://colab.research.google.com/github/carinadourado/carinadourado/blob/main/aula2_stopo).ipynb\" target=\"_parent\"><img src=\"https://colab.research.google.com/assets/colab-badge.svg\" alt=\"Open In Colab\"/></a>"
      ]
    },
    {
      "cell_type": "code",
      "metadata": {
        "colab": {
          "base_uri": "https://localhost:8080/"
        },
        "id": "367c993b",
        "outputId": "87710127-febb-4de5-e0a7-3b5afda6a82f"
      },
      "source": [
        "!pip install nltk"
      ],
      "id": "367c993b",
      "execution_count": null,
      "outputs": [
        {
          "output_type": "stream",
          "name": "stdout",
          "text": [
            "Requirement already satisfied: nltk in /usr/local/lib/python3.7/dist-packages (3.2.5)\n",
            "Requirement already satisfied: six in /usr/local/lib/python3.7/dist-packages (from nltk) (1.15.0)\n"
          ]
        }
      ]
    },
    {
      "cell_type": "code",
      "metadata": {
        "colab": {
          "base_uri": "https://localhost:8080/"
        },
        "id": "89b4ccaf",
        "outputId": "10214a25-52cb-46e2-e046-ae5b4312535c"
      },
      "source": [
        "#Loading NLTK\n",
        "import nltk\n",
        "nltk.download('punkt')"
      ],
      "id": "89b4ccaf",
      "execution_count": null,
      "outputs": [
        {
          "output_type": "stream",
          "name": "stdout",
          "text": [
            "[nltk_data] Downloading package punkt to /root/nltk_data...\n",
            "[nltk_data]   Unzipping tokenizers/punkt.zip.\n"
          ]
        },
        {
          "output_type": "execute_result",
          "data": {
            "text/plain": [
              "True"
            ]
          },
          "metadata": {},
          "execution_count": 4
        }
      ]
    },
    {
      "cell_type": "code",
      "metadata": {
        "colab": {
          "base_uri": "https://localhost:8080/"
        },
        "id": "77a405a4",
        "outputId": "e9126714-8fa6-4974-9095-c7b12bef45ca"
      },
      "source": [
        "#Sentence Tokenization\n",
        "\n",
        "#Sentence tokenizer breaks text paragraph into sentences.\n",
        "from nltk.tokenize import sent_tokenize\n",
        "text=\"\"\"Stopwords são palavras que podem ser consideradas irrelevantes para o entedimento do\n",
        "sentido de um texto, ou seja, palavras semanticamente irrelavantes. Exemplos: as, e, os,\n",
        "de, para, com, sem, foi. Essas palavras são geralmente removidas de um texto durante a\n",
        "fase de pré-processamento.\"\"\"\n",
        "tokenized_text=sent_tokenize(text)\n",
        "tokenized_text\n",
        "\n"
      ],
      "id": "77a405a4",
      "execution_count": null,
      "outputs": [
        {
          "output_type": "execute_result",
          "data": {
            "text/plain": [
              "['Stopwords são palavras que podem ser consideradas irrelevantes para o entedimento do\\nsentido de um texto, ou seja, palavras semanticamente irrelavantes.',\n",
              " 'Exemplos: as, e, os,\\nde, para, com, sem, foi.',\n",
              " 'Essas palavras são geralmente removidas de um texto durante a\\nfase de pré-processamento.']"
            ]
          },
          "metadata": {},
          "execution_count": 5
        }
      ]
    },
    {
      "cell_type": "code",
      "metadata": {
        "colab": {
          "base_uri": "https://localhost:8080/"
        },
        "id": "65e9846c",
        "outputId": "7c5de11a-a3b0-4794-9e31-f1312db017ca"
      },
      "source": [
        "#Word Tokenization\n",
        "\n",
        "#Word tokenizer breaks text paragraph into words.\n",
        "\n",
        "from nltk.tokenize import word_tokenize\n",
        "tokenized_word=word_tokenize(text)\n",
        "print(tokenized_word)\n"
      ],
      "id": "65e9846c",
      "execution_count": null,
      "outputs": [
        {
          "output_type": "stream",
          "name": "stdout",
          "text": [
            "['Stopwords', 'são', 'palavras', 'que', 'podem', 'ser', 'consideradas', 'irrelevantes', 'para', 'o', 'entedimento', 'do', 'sentido', 'de', 'um', 'texto', ',', 'ou', 'seja', ',', 'palavras', 'semanticamente', 'irrelavantes', '.', 'Exemplos', ':', 'as', ',', 'e', ',', 'os', ',', 'de', ',', 'para', ',', 'com', ',', 'sem', ',', 'foi', '.', 'Essas', 'palavras', 'são', 'geralmente', 'removidas', 'de', 'um', 'texto', 'durante', 'a', 'fase', 'de', 'pré-processamento', '.']\n"
          ]
        }
      ]
    },
    {
      "cell_type": "raw",
      "metadata": {
        "id": "1076d60e"
      },
      "source": [
        "# Frequency Distribution"
      ],
      "id": "1076d60e"
    },
    {
      "cell_type": "code",
      "metadata": {
        "colab": {
          "base_uri": "https://localhost:8080/"
        },
        "id": "2645c0e6",
        "outputId": "9929c80d-17d2-4ee2-e460-f62cf4e0bdb8"
      },
      "source": [
        "from nltk.probability import FreqDist\n",
        "fdist = FreqDist(tokenized_word)\n",
        "print(fdist)"
      ],
      "id": "2645c0e6",
      "execution_count": null,
      "outputs": [
        {
          "output_type": "stream",
          "name": "stdout",
          "text": [
            "<FreqDist with 37 samples and 56 outcomes>\n"
          ]
        }
      ]
    },
    {
      "cell_type": "code",
      "metadata": {
        "colab": {
          "base_uri": "https://localhost:8080/"
        },
        "id": "879adcee",
        "outputId": "dd0f3bb4-dacc-4b87-f1c6-87f93c326dbf"
      },
      "source": [
        "fdist.most_common(2)"
      ],
      "id": "879adcee",
      "execution_count": null,
      "outputs": [
        {
          "output_type": "execute_result",
          "data": {
            "text/plain": [
              "[(',', 9), ('de', 4)]"
            ]
          },
          "metadata": {},
          "execution_count": 9
        }
      ]
    },
    {
      "cell_type": "code",
      "metadata": {
        "colab": {
          "base_uri": "https://localhost:8080/",
          "height": 353
        },
        "id": "f13340b7",
        "outputId": "d9c3f7de-ee8a-442b-ea5d-ba951f94cc28"
      },
      "source": [
        "# Frequency Distribution Plot\n",
        "import matplotlib.pyplot as plt\n",
        "fdist.plot(30,cumulative=False)\n",
        "plt.show()"
      ],
      "id": "f13340b7",
      "execution_count": null,
      "outputs": [
        {
          "output_type": "display_data",
          "data": {
            "image/png": "[encoded data removed]",
            "text/plain": [
              "<Figure size 432x288 with 1 Axes>"
            ]
          },
          "metadata": {
            "needs_background": "light"
          }
        }
      ]
    },
    {
      "cell_type": "code",
      "metadata": {
        "colab": {
          "base_uri": "https://localhost:8080/"
        },
        "id": "bdWxRoUYY5JV",
        "outputId": "0d328a73-9774-4fb3-dc00-4cc8fc924de2"
      },
      "source": [
        "nltk.download('stopwords')"
      ],
      "id": "bdWxRoUYY5JV",
      "execution_count": null,
      "outputs": [
        {
          "output_type": "stream",
          "name": "stdout",
          "text": [
            "[nltk_data] Downloading package stopwords to /root/nltk_data...\n",
            "[nltk_data]   Unzipping corpora/stopwords.zip.\n"
          ]
        },
        {
          "output_type": "execute_result",
          "data": {
            "text/plain": [
              "True"
            ]
          },
          "metadata": {},
          "execution_count": 6
        }
      ]
    },
    {
      "cell_type": "markdown",
      "metadata": {
        "id": "e62b421e"
      },
      "source": [
        "Stopwords\n",
        "\n",
        "Stopwords considered as noise in the text. Text may contain stop words such as is, am, are, this, a, an, the, etc.\n",
        "\n",
        "In NLTK for removing stopwords, you need to create a list of stopwords and filter out your list of tokens from these words."
      ],
      "id": "e62b421e"
    },
    {
      "cell_type": "code",
      "metadata": {
        "colab": {
          "base_uri": "https://localhost:8080/"
        },
        "id": "15b1ff16",
        "outputId": "3988de51-888a-4f24-9c5c-d0a7efeef41d"
      },
      "source": [
        "from nltk.corpus import stopwords\n",
        "stop_words=set(stopwords.words(\"portuguese\"))\n",
        "print(stop_words)\n",
        "print(len(stop_words))"
      ],
      "id": "15b1ff16",
      "execution_count": null,
      "outputs": [
        {
          "output_type": "stream",
          "name": "stdout",
          "text": [
            "{'nossos', 'ou', 'estivéramos', 'houvemos', 'quem', 'nem', 'tu', 'estivéssemos', 'tenhamos', 'aquilo', 'teriam', 'tiveram', 'tivemos', 'estiver', 'foi', 'isso', 'era', 'sejam', 'tiver', 'esteja', 'aquela', 'somos', 'você', 'em', 'estejam', 'houvéssemos', 'houveríamos', 'das', 'este', 'elas', 'por', 'estava', 'na', 'eu', 'esses', 'esse', 'estivemos', 'de', 'houve', 'houverei', 'eles', 'nossa', 'tínhamos', 'vocês', 'hei', 'sejamos', 'houverem', 'seria', 'nossas', 'essas', 'um', 'dos', 'teve', 'esta', 'forem', 'terão', 'depois', 'lhe', 'éramos', 'aqueles', 'te', 'os', 'uma', 'ao', 'não', 'esteve', 'hajam', 'como', 'mas', 'sua', 'tinham', 'for', 'para', 'houvesse', 'tinha', 'às', 'dele', 'pela', 'estivermos', 'fôssemos', 'haja', 'sou', 'teremos', 'houverá', 'teu', 'com', 'seja', 'havemos', 'tive', 'tua', 'houver', 'mais', 'tenha', 'lhes', 'vos', 'delas', 'entre', 'numa', 'terei', 'seriam', 'me', 'muito', 'teria', 'houveremos', 'estivessem', 'será', 'teríamos', 'seríamos', 'fosse', 'seremos', 'tem', 'estas', 'fomos', 'se', 'hajamos', 'suas', 'houvéramos', 'foram', 'tivéramos', 'nosso', 'e', 'já', 'quando', 'estavam', 'houveriam', 'fossem', 'sem', 'houveria', 'num', 'está', 'são', 'tivessem', 'tivéssemos', 'houvermos', 'estiveram', 'da', 'isto', 'seus', 'há', 'tiverem', 'estiverem', 'no', 'houverão', 'tenho', 'dela', 'aquele', 'estávamos', 'pelas', 'do', 'ele', 'aos', 'serei', 'estamos', 'tuas', 'que', 'serão', 'seu', 'fôramos', 'formos', 'tém', 'à', 'até', 'estão', 'estivera', 'estive', 'tivermos', 'pelo', 'só', 'meu', 'houvera', 'é', 'mesmo', 'estivesse', 'houveram', 'meus', 'tenham', 'minha', 'a', 'ela', 'teus', 'fui', 'nos', 'estou', 'deles', 'pelos', 'minhas', 'essa', 'eram', 'tivesse', 'terá', 'nós', 'nas', 'estes', 'qual', 'hão', 'houvessem', 'temos', 'aquelas', 'o', 'fora', 'as', 'também', 'tivera', 'estejamos'}\n",
            "204\n"
          ]
        }
      ]
    },
    {
      "cell_type": "code",
      "metadata": {
        "colab": {
          "base_uri": "https://localhost:8080/"
        },
        "id": "zWwcwNr0hH1D",
        "outputId": "c0063c49-6fd4-4e52-cfd1-ff9ed4b53e85"
      },
      "source": [
        "#stop_words.remove('são')\n",
        "print(len(stop_words))\n",
        "stop_words.add('@',',','.',':')\n",
        "print(len(stop_words))\n"
      ],
      "id": "zWwcwNr0hH1D",
      "execution_count": null,
      "outputs": [
        {
          "output_type": "stream",
          "name": "stdout",
          "text": [
            "203\n",
            "204\n"
          ]
        }
      ]
    },
    {
      "cell_type": "markdown",
      "metadata": {
        "id": "GlXaczNWg877"
      },
      "source": [
        ""
      ],
      "id": "GlXaczNWg877"
    },
    {
      "cell_type": "markdown",
      "metadata": {
        "id": "04063eba"
      },
      "source": [
        "Removing Stopwords"
      ],
      "id": "04063eba"
    },
    {
      "cell_type": "code",
      "metadata": {
        "colab": {
          "base_uri": "https://localhost:8080/"
        },
        "id": "014355e0",
        "outputId": "f7aa8622-5f51-4b1b-c907-1b06b91b024f"
      },
      "source": [
        "tokenized_sent = tokenized_word #recebe os tokens do texto que a gente está trabalhando, é o texto tokenizado\n",
        "filtered_sent=[] #uma lista vazia que a gente cria para receber a sentença sem stopwords\n",
        "for w in tokenized_sent: #para cada token em tokenized_sent\n",
        "    if w not in stop_words: #se este token não é uma stopword\n",
        "        filtered_sent.append(w) #eu insiro o token na lista filtered_sent\n",
        "print(\"Tokenized Sentence:\",tokenized_sent)\n",
        "print(\"Filterd Sentence:\",filtered_sent) #sem stopwords"
      ],
      "id": "014355e0",
      "execution_count": null,
      "outputs": [
        {
          "output_type": "stream",
          "name": "stdout",
          "text": [
            "Tokenized Sentence: ['Stopwords', 'são', 'palavras', 'que', 'podem', 'ser', 'consideradas', 'irrelevantes', 'para', 'o', 'entedimento', 'do', 'sentido', 'de', 'um', 'texto', ',', 'ou', 'seja', ',', 'palavras', 'semanticamente', 'irrelavantes', '.', 'Exemplos', ':', 'as', ',', 'e', ',', 'os', ',', 'de', ',', 'para', ',', 'com', ',', 'sem', ',', 'foi', '.', 'Essas', 'palavras', 'são', 'geralmente', 'removidas', 'de', 'um', 'texto', 'durante', 'a', 'fase', 'de', 'pré-processamento', '.']\n",
            "Filterd Sentence: ['Stopwords', 'são', 'palavras', 'podem', 'ser', 'consideradas', 'irrelevantes', 'entedimento', 'sentido', 'texto', ',', ',', 'palavras', 'semanticamente', 'irrelavantes', '.', 'Exemplos', ':', ',', ',', ',', ',', ',', ',', ',', '.', 'Essas', 'palavras', 'são', 'geralmente', 'removidas', 'texto', 'durante', 'fase', 'pré-processamento', '.']\n"
          ]
        }
      ]
    },
    {
      "cell_type": "code",
      "metadata": {
        "colab": {
          "base_uri": "https://localhost:8080/",
          "height": 559
        },
        "id": "6p_NJ1i_ZC69",
        "outputId": "a13be19e-2924-4b46-976d-c286786a81bf"
      },
      "source": [
        "# Frequency Distribution Plot\n",
        "fdist = FreqDist(filtered_sent)\n",
        "fdist.plot(30,cumulative=False)\n",
        "plt.show()"
      ],
      "id": "6p_NJ1i_ZC69",
      "execution_count": null,
      "outputs": [
        {
          "output_type": "display_data",
          "data": {
            "image/png": "[encoded data removed]",
            "text/plain": [
              "<Figure size 432x288 with 1 Axes>"
            ]
          },
          "metadata": {
            "needs_background": "light"
          }
        },
        {
          "output_type": "error",
          "ename": "NameError",
          "evalue": "ignored",
          "traceback": [
            "\u001b[0;31m---------------------------------------------------------------------------\u001b[0m",
            "\u001b[0;31mNameError\u001b[0m                                 Traceback (most recent call last)",
            "\u001b[0;32m<ipython-input-24-3f26454c23c5>\u001b[0m in \u001b[0;36m<module>\u001b[0;34m()\u001b[0m\n\u001b[1;32m      2\u001b[0m \u001b[0mfdist\u001b[0m \u001b[0;34m=\u001b[0m \u001b[0mFreqDist\u001b[0m\u001b[0;34m(\u001b[0m\u001b[0mfiltered_sent\u001b[0m\u001b[0;34m)\u001b[0m\u001b[0;34m\u001b[0m\u001b[0;34m\u001b[0m\u001b[0m\n\u001b[1;32m      3\u001b[0m \u001b[0mfdist\u001b[0m\u001b[0;34m.\u001b[0m\u001b[0mplot\u001b[0m\u001b[0;34m(\u001b[0m\u001b[0;36m30\u001b[0m\u001b[0;34m,\u001b[0m\u001b[0mcumulative\u001b[0m\u001b[0;34m=\u001b[0m\u001b[0;32mFalse\u001b[0m\u001b[0;34m)\u001b[0m\u001b[0;34m\u001b[0m\u001b[0;34m\u001b[0m\u001b[0m\n\u001b[0;32m----> 4\u001b[0;31m \u001b[0mplt\u001b[0m\u001b[0;34m.\u001b[0m\u001b[0mshow\u001b[0m\u001b[0;34m(\u001b[0m\u001b[0;34m)\u001b[0m\u001b[0;34m\u001b[0m\u001b[0;34m\u001b[0m\u001b[0m\n\u001b[0m",
            "\u001b[0;31mNameError\u001b[0m: name 'plt' is not defined"
          ]
        }
      ]
    },
    {
      "cell_type": "markdown",
      "metadata": {
        "id": "c235931f"
      },
      "source": [
        "Lexicon Normalization\n",
        "\n",
        "Lexicon normalization considers another type of noise in the text. For example, connection, connected, connecting word reduce to a common word \"connect\". It reduces derivationally related forms of a word to a common root word.\n",
        "Stemming\n",
        "\n",
        "Stemming is a process of linguistic normalization, which reduces words to their word root word or chops off the derivational affixes. For example, connection, connected, connecting word reduce to a common word \"connect\"."
      ],
      "id": "c235931f"
    },
    {
      "cell_type": "code",
      "metadata": {
        "colab": {
          "base_uri": "https://localhost:8080/"
        },
        "id": "8187bcc6",
        "outputId": "64c08eb2-2bc0-4349-f870-f6dcfc036310"
      },
      "source": [
        "#REmover pontuação\n",
        "from nltk.tokenize import RegexpTokenizer\n",
        "\n",
        "tokenizer = RegexpTokenizer(r'\\w+') #é um objeto do tipo regextokenizer feito para aceitar apenas palavras e ignorar pontuação\n",
        "#aplica o método tokenize deste #objeto para remover a pontuação da variavel filted_sent\n",
        "filtered_sent = tokenizer.tokenize(' '.join(filtered_sent)) \n",
        "print(filtered_sent) #filtered_sent agora nao tem mais pontuação"
      ],
      "id": "8187bcc6",
      "execution_count": null,
      "outputs": [
        {
          "output_type": "stream",
          "name": "stdout",
          "text": [
            "['Stopwords', 'são', 'palavras', 'podem', 'ser', 'consideradas', 'irrelevantes', 'entedimento', 'sentido', 'texto', 'palavras', 'semanticamente', 'irrelavantes', 'Exemplos', 'Essas', 'palavras', 'são', 'geralmente', 'removidas', 'texto', 'durante', 'fase', 'pré', 'processamento']\n"
          ]
        }
      ]
    },
    {
      "cell_type": "code",
      "metadata": {
        "colab": {
          "base_uri": "https://localhost:8080/",
          "height": 93
        },
        "id": "8mqXi4t1jv_z",
        "outputId": "87a94a4a-c490-4db2-bb55-a597549ad5bd"
      },
      "source": [
        "print(filtered_sent)\n",
        "' '.join(filtered_sent) #transforma uma lista em string"
      ],
      "id": "8mqXi4t1jv_z",
      "execution_count": null,
      "outputs": [
        {
          "output_type": "stream",
          "name": "stdout",
          "text": [
            "['Stopwords', 'são', 'palavras', 'podem', 'ser', 'consideradas', 'irrelevantes', 'entedimento', 'sentido', 'texto', 'palavras', 'semanticamente', 'irrelavantes', 'Exemplos', 'Essas', 'palavras', 'são', 'geralmente', 'removidas', 'texto', 'durante', 'fase', 'pré', 'processamento']\n"
          ]
        },
        {
          "output_type": "execute_result",
          "data": {
            "application/vnd.google.colaboratory.intrinsic+json": {
              "type": "string"
            },
            "text/plain": [
              "'Stopwords são palavras podem ser consideradas irrelevantes entedimento sentido texto palavras semanticamente irrelavantes Exemplos Essas palavras são geralmente removidas texto durante fase pré processamento'"
            ]
          },
          "metadata": {},
          "execution_count": 31
        }
      ]
    },
    {
      "cell_type": "code",
      "metadata": {
        "colab": {
          "base_uri": "https://localhost:8080/"
        },
        "id": "qBC-xojoZb9t",
        "outputId": "32dee1cc-c24e-4c41-f5e0-ee774d592622"
      },
      "source": [
        "nltk.download('rslp')"
      ],
      "id": "qBC-xojoZb9t",
      "execution_count": null,
      "outputs": [
        {
          "output_type": "stream",
          "name": "stdout",
          "text": [
            "[nltk_data] Downloading package rslp to /root/nltk_data...\n",
            "[nltk_data]   Unzipping stemmers/rslp.zip.\n"
          ]
        },
        {
          "output_type": "execute_result",
          "data": {
            "text/plain": [
              "True"
            ]
          },
          "metadata": {},
          "execution_count": 26
        }
      ]
    },
    {
      "cell_type": "code",
      "metadata": {
        "colab": {
          "base_uri": "https://localhost:8080/"
        },
        "id": "e154e1f5",
        "outputId": "4fc8f01f-05c8-43bf-946f-e9c3835e5925"
      },
      "source": [
        "#Lexicon Normalization\n",
        "#performing stemming and Lemmatization\n",
        "# Stemming/ : redução da palavra ao seu radical. \n",
        "\n",
        "from nltk import stem\n",
        "from nltk.tokenize import sent_tokenize, word_tokenize\n",
        "\n",
        "ps = stem.RSLPStemmer() #PorterStemmer() objeto com o potter stemmer - trablha PT\n",
        "\n",
        "stemmed_words=[] #cria lista vazia\n",
        "for w in filtered_sent: #para cada tokem em filtered_sent\n",
        "  #w é cada token de filtered_sent\n",
        "  #ps.stem é passar o stemmer em w\n",
        "  stemmed_words.append(ps.stem(w)) #aplicar o stemmer e inserir este token na nova lista stemmed_words\n",
        "\n",
        "print(\"Filtered Sentence:\",filtered_sent) #lista original (sem stopwords e pontos)\n",
        "print(\"Stemmed Sentence:\",stemmed_words) # lista com o stemmer do nltk\n",
        "\n"
      ],
      "id": "e154e1f5",
      "execution_count": null,
      "outputs": [
        {
          "output_type": "stream",
          "name": "stdout",
          "text": [
            "Filtered Sentence: ['Stopwords', 'são', 'palavras', 'podem', 'ser', 'consideradas', 'irrelevantes', 'entedimento', 'sentido', 'texto', 'palavras', 'semanticamente', 'irrelavantes', 'Exemplos', 'Essas', 'palavras', 'são', 'geralmente', 'removidas', 'texto', 'durante', 'fase', 'pré', 'processamento']\n",
            "Stemmed Sentence: ['stopword', 'são', 'palavr', 'pod', 'ser', 'consider', 'irrelev', 'ented', 'sent', 'text', 'palavr', 'semantic', 'irrelav', 'exempl', 'ess', 'palavr', 'são', 'geral', 'remov', 'text', 'dur', 'fas', 'pré', 'process']\n"
          ]
        }
      ]
    },
    {
      "cell_type": "markdown",
      "metadata": {
        "id": "d2040677"
      },
      "source": [
        "POS Tagging\n",
        "\n",
        "The primary target of Part-of-Speech(POS) tagging is to identify the grammatical group of a given word. Whether it is a NOUN, PRONOUN, ADJECTIVE, VERB, ADVERBS, etc. based on the context. POS Tagging looks for relationships within the sentence and assigns a corresponding tag to the word."
      ],
      "id": "d2040677"
    },
    {
      "cell_type": "code",
      "metadata": {
        "id": "52a6e789",
        "outputId": "eb90bb2a-9108-4c26-fa7c-2177c05e0f4e"
      },
      "source": [
        " nltk.download('averaged_perceptron_tagger')"
      ],
      "id": "52a6e789",
      "execution_count": null,
      "outputs": [
        {
          "name": "stderr",
          "output_type": "stream",
          "text": [
            "[nltk_data] Downloading package averaged_perceptron_tagger to\n",
            "[nltk_data]     /Users/clarissa/nltk_data...\n",
            "[nltk_data]   Package averaged_perceptron_tagger is already up-to-\n",
            "[nltk_data]       date!\n"
          ]
        },
        {
          "data": {
            "text/plain": [
              "True"
            ]
          },
          "execution_count": 13,
          "metadata": {},
          "output_type": "execute_result"
        }
      ]
    },
    {
      "cell_type": "code",
      "metadata": {
        "id": "d91033e9",
        "outputId": "90e3f5b3-a806-4784-d5d7-440c2e35815d"
      },
      "source": [
        "sent = \"Albert Einstein was born in Ulm, Germany in 1879.\"\n",
        "\n",
        "tokens=nltk.word_tokenize(sent)\n",
        "print(tokens)\n",
        "\n",
        "\n",
        "nltk.pos_tag(tokens)\n"
      ],
      "id": "d91033e9",
      "execution_count": null,
      "outputs": [
        {
          "name": "stdout",
          "output_type": "stream",
          "text": [
            "['Albert', 'Einstein', 'was', 'born', 'in', 'Ulm', ',', 'Germany', 'in', '1879', '.']\n"
          ]
        },
        {
          "data": {
            "text/plain": [
              "[('Albert', 'NNP'),\n",
              " ('Einstein', 'NNP'),\n",
              " ('was', 'VBD'),\n",
              " ('born', 'VBN'),\n",
              " ('in', 'IN'),\n",
              " ('Ulm', 'NNP'),\n",
              " (',', ','),\n",
              " ('Germany', 'NNP'),\n",
              " ('in', 'IN'),\n",
              " ('1879', 'CD'),\n",
              " ('.', '.')]"
            ]
          },
          "execution_count": 14,
          "metadata": {},
          "output_type": "execute_result"
        }
      ]
    },
    {
      "cell_type": "markdown",
      "metadata": {
        "id": "42363716"
      },
      "source": [
        "# TAGGING"
      ],
      "id": "42363716"
    },
    {
      "cell_type": "code",
      "metadata": {
        "colab": {
          "base_uri": "https://localhost:8080/"
        },
        "id": "2a357dda",
        "outputId": "ce0d8cd7-8885-48ae-a4a4-d7170b28fb6d"
      },
      "source": [
        "#importa corpus\n",
        "nltk.download('mac_morpho')\n"
      ],
      "id": "2a357dda",
      "execution_count": null,
      "outputs": [
        {
          "output_type": "stream",
          "name": "stdout",
          "text": [
            "[nltk_data] Downloading package mac_morpho to /root/nltk_data...\n",
            "[nltk_data]   Unzipping corpora/mac_morpho.zip.\n"
          ]
        },
        {
          "output_type": "execute_result",
          "data": {
            "text/plain": [
              "True"
            ]
          },
          "metadata": {},
          "execution_count": 22
        }
      ]
    },
    {
      "cell_type": "code",
      "metadata": {
        "id": "30951df8"
      },
      "source": [
        "#Importa a biblioteca\n",
        "from nltk.corpus import mac_morpho\n",
        "#Carrega as sentença rotuladas do Corpus\n",
        "sentencas_etiquetadas = mac_morpho.tagged_sents()"
      ],
      "id": "30951df8",
      "execution_count": null,
      "outputs": []
    },
    {
      "cell_type": "markdown",
      "metadata": {
        "id": "3b09ea97"
      },
      "source": [
        "5.4.2. N-Gram Tagging\n",
        "O unigram tagger é baseado em um simples algoritmo estatístico no qual para cada token\n",
        "é atribuído uma tag que seja a mais provável para aquele token em particular. Por\n",
        "exemplo, ele vai atribuir a tag N a qualquer ocorrência da palavra Piauí, desde que Piauí\n",
        "seja mais usada como um substantivo do que ser usado como um verbo. No exemplo de código a seguir, nós treinamos um unigram tagger, usando-o para etiquetar uma sentença."
      ],
      "id": "3b09ea97"
    },
    {
      "cell_type": "code",
      "metadata": {
        "colab": {
          "base_uri": "https://localhost:8080/"
        },
        "id": "10d33f42",
        "outputId": "c8c47bea-ed0f-4614-a435-c37f9afdc64c"
      },
      "source": [
        "texto = 'A manhã está ensolarada'\n",
        "tokens = nltk.word_tokenize(texto)\n",
        "unigram_tagger = nltk.tag.UnigramTagger(sentencas_etiquetadas)\n",
        "unigram_tagger.tag(tokens)"
      ],
      "id": "10d33f42",
      "execution_count": null,
      "outputs": [
        {
          "output_type": "execute_result",
          "data": {
            "text/plain": [
              "[('A', 'ART'), ('manhã', 'N'), ('está', 'V'), ('ensolarada', 'ADJ')]"
            ]
          },
          "metadata": {},
          "execution_count": 24
        }
      ]
    },
    {
      "cell_type": "markdown",
      "metadata": {
        "id": "809f82ac"
      },
      "source": [
        "5.4.2.1. Salvando um tagger\n",
        "O treinamento de um etiquetador em um Corpus grande pode tomar um tempo significativo,\n",
        "então é mais conveniente salvar um modelo treinado em um arquivo para mais tarde\n",
        "usa-lo. Vamos salvar nosso tagger para o arquivo mac_morpho.pkl."
      ],
      "id": "809f82ac"
    },
    {
      "cell_type": "code",
      "metadata": {
        "id": "eab749f1"
      },
      "source": [
        "from pickle import dump\n",
        "output = open('mac_morpho.pkl', 'wb')\n",
        "dump(unigram_tagger, output, -1)\n",
        "output.close()"
      ],
      "id": "eab749f1",
      "execution_count": null,
      "outputs": []
    },
    {
      "cell_type": "markdown",
      "metadata": {
        "id": "ab737461"
      },
      "source": [
        "5.4.2.2. Carregando um tagger treinado\n",
        "Agora nos podemos carregar um modelo treinado usando:\n"
      ],
      "id": "ab737461"
    },
    {
      "cell_type": "code",
      "metadata": {
        "id": "ce83217a"
      },
      "source": [
        "from pickle import load\n",
        "input = open('mac_morpho.pkl', 'rb')\n",
        "tagger = load(input)\n",
        "input.close()"
      ],
      "id": "ce83217a",
      "execution_count": null,
      "outputs": []
    },
    {
      "cell_type": "markdown",
      "metadata": {
        "id": "ac34eb7a"
      },
      "source": [
        "# 3 primeiras tarefas de Extração da Informação"
      ],
      "id": "ac34eb7a"
    },
    {
      "cell_type": "code",
      "metadata": {
        "id": "804df23c"
      },
      "source": [
        "sentences = nltk.sent_tokenize(text) #segmentação em sentenças\n",
        "sentences = [nltk.word_tokenize(sent) for sent in sentences] #segmentação das sentenças em tokens\n",
        "sentences = [tagger.tag(sent) for sent in sentences] # etiquetagem dos tokens"
      ],
      "id": "804df23c",
      "execution_count": null,
      "outputs": []
    },
    {
      "cell_type": "code",
      "metadata": {
        "colab": {
          "base_uri": "https://localhost:8080/"
        },
        "id": "ZkzzgZtWbkk6",
        "outputId": "1d50dcac-673d-40fe-8043-65e4dffacc87"
      },
      "source": [
        "#Codigo para tratamento do erro  \n",
        "#TclError: no display name and no $DISPLAY environment variable\n",
        "\n",
        "!apt-get install -y xvfb # Install X Virtual Frame Buffer\n",
        "import os\n",
        "os.system('Xvfb :1 -screen 0 1600x1200x16  &')    # create virtual display with size 1600x1200 and 16 bit color. Color can be changed to 24 or 8\n",
        "os.environ['DISPLAY']=':1.0'"
      ],
      "id": "ZkzzgZtWbkk6",
      "execution_count": null,
      "outputs": [
        {
          "output_type": "stream",
          "name": "stdout",
          "text": [
            "Reading package lists... Done\n",
            "Building dependency tree       \n",
            "Reading state information... Done\n",
            "The following NEW packages will be installed:\n",
            "  xvfb\n",
            "0 upgraded, 1 newly installed, 0 to remove and 37 not upgraded.\n",
            "Need to get 784 kB of archives.\n",
            "After this operation, 2,270 kB of additional disk space will be used.\n",
            "Get:1 http://archive.ubuntu.com/ubuntu bionic-updates/universe amd64 xvfb amd64 2:1.19.6-1ubuntu4.9 [784 kB]\n",
            "Fetched 784 kB in 1s (735 kB/s)\n",
            "Selecting previously unselected package xvfb.\n",
            "(Reading database ... 155047 files and directories currently installed.)\n",
            "Preparing to unpack .../xvfb_2%3a1.19.6-1ubuntu4.9_amd64.deb ...\n",
            "Unpacking xvfb (2:1.19.6-1ubuntu4.9) ...\n",
            "Setting up xvfb (2:1.19.6-1ubuntu4.9) ...\n",
            "Processing triggers for man-db (2.8.3-2ubuntu0.1) ...\n"
          ]
        }
      ]
    },
    {
      "cell_type": "markdown",
      "metadata": {
        "id": "1a981519"
      },
      "source": [
        "Reconhecimento de entidade nomeada"
      ],
      "id": "1a981519"
    },
    {
      "cell_type": "code",
      "metadata": {
        "colab": {
          "base_uri": "https://localhost:8080/"
        },
        "id": "8108a285",
        "outputId": "f0df0282-4df8-4ab6-b470-9cc658ceecd0"
      },
      "source": [
        "text = \"George nasceu na Romênia\"\n",
        "tokens = nltk.word_tokenize(text)\n",
        "tagged = tagger.tag(tokens)\n",
        "gramatica = r\"\"\"NE: {<NPROP>+}\"\"\"\n",
        "analiseGramatical = nltk.RegexpParser(gramatica)\n",
        "print(analiseGramatical.parse(tagged))"
      ],
      "id": "8108a285",
      "execution_count": null,
      "outputs": [
        {
          "output_type": "stream",
          "name": "stdout",
          "text": [
            "(S (NE George/NPROP) nasceu/V (NE na/NPROP Romênia/NPROP))\n"
          ]
        }
      ]
    },
    {
      "cell_type": "markdown",
      "metadata": {
        "id": "264461fe"
      },
      "source": [
        "Extração de relações"
      ],
      "id": "264461fe"
    },
    {
      "cell_type": "code",
      "metadata": {
        "colab": {
          "base_uri": "https://localhost:8080/"
        },
        "id": "4ce4b7e1",
        "outputId": "58444e79-df71-4230-e007-c45a1bbb8533"
      },
      "source": [
        "text = \"Paulo Coelho vive em Genebra, na Suíça, desde 2007.\"\n",
        "tokens = nltk.word_tokenize(text)\n",
        "tagged = tagger.tag(tokens)\n",
        "gramatica = r\"\"\" NE: {<NPROP>+} \n",
        "REL: {<NE> <.*>* <PREP.*> <.*>* <NE>} \"\"\"\n",
        "analiseGramatical = nltk.RegexpParser(gramatica)\n",
        "print(analiseGramatical.parse(tagged))"
      ],
      "id": "4ce4b7e1",
      "execution_count": null,
      "outputs": [
        {
          "output_type": "stream",
          "name": "stdout",
          "text": [
            "(S\n",
            "  (REL\n",
            "    (NE Paulo/NPROP Coelho/NPROP)\n",
            "    vive/V\n",
            "    em/PREP|+\n",
            "    (NE Genebra/NPROP)\n",
            "    ,/,\n",
            "    (NE na/NPROP Suíça/NPROP))\n",
            "  ,/,\n",
            "  desde/PREP\n",
            "  2007/N\n",
            "  ./.)\n"
          ]
        }
      ]
    },
    {
      "cell_type": "code",
      "metadata": {
        "id": "ffb12c0f"
      },
      "source": [
        ""
      ],
      "id": "ffb12c0f",
      "execution_count": null,
      "outputs": []
    }
  ]
}