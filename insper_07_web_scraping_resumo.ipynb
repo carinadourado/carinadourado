{
  "nbformat": 4,
  "nbformat_minor": 0,
  "metadata": {
    "colab": {
      "name": "insper_07_web_scraping_resumo.ipynb",
      "provenance": [],
      "include_colab_link": true
    },
    "kernelspec": {
      "name": "python3",
      "display_name": "Python 3"
    },
    "language_info": {
      "name": "python"
    }
  },
  "cells": [
    {
      "cell_type": "markdown",
      "metadata": {
        "id": "view-in-github",
        "colab_type": "text"
      },
      "source": [
        "<a href=\"https://colab.research.google.com/github/carinadourado/carinadourado/blob/main/insper_07_web_scraping_resumo.ipynb\" target=\"_parent\"><img src=\"https://colab.research.google.com/assets/colab-badge.svg\" alt=\"Open In Colab\"/></a>"
      ]
    },
    {
      "cell_type": "markdown",
      "metadata": {
        "id": "JrStzRdh6gD1"
      },
      "source": [
        ""
      ]
    },
    {
      "cell_type": "markdown",
      "metadata": {
        "id": "U1aHRCEvwpML"
      },
      "source": [
        "## Web Scraping\n",
        "\n",
        "### Capturando a página\n",
        "\n",
        "- Visite a página que contém o dado que você precisa\n",
        "- Acesse o código-fonte (HTML) para verificar se a informação consta no HTML original.\n",
        "  - Se sim:\n",
        "    - Crie um programa para baixar o HTML (baixe a URL que você visitou inicialmente)\n",
        "  - Se não:\n",
        "    - Descubra, através da aba **Network**, qual requisição trouxe os dados (a que trouxe o HTML é a primeira - provavelmente foi alguma do tipo `xhr` ou `fetch`)\n",
        "    - Ao encontrar a requisição, verifique:\n",
        "      - URL\n",
        "      - Método (em geral vai ser `GET` ou `POST`)\n",
        "        - Caso o método seja `POST`, verifique quais dados foram enviados no formulário (você precisará enviá-los na requisição)\n",
        "      - Formato dos dados de resposta (HTML, JSON etc.)\n",
        "\n",
        "> Caso necessite baixar os dados via `POST`, utilize: `resposta = requests.post(url, data=dados)`, onde `dados` é um dicionário (chave-valor) com os dados do formulário que você deverá submeter.\n",
        "\n",
        "Existem casos em que `requests` não vai ser suficiente:\n",
        "- Pode ser que em alguns casos você precise executar bibliotecas mais complexas, como `selenium`, para conseguir capturar as informações que necessita.\n",
        "- Quando você precisa fazer muitas requisições, use a biblioteca `scrapy`.\n",
        "\n",
        "\n",
        "### Extraindo os dados\n",
        "\n",
        "- Caso a página baixada seja um HTML, você pode utilizar diversas técnicas para extrair os dados:\n",
        "  - Manipulação de strings (`.split`, `.strip`, `.lower` etc.)\n",
        "  - Expressões regulares (`import re`)\n",
        "  - XPath (`pip install lxml`)\n",
        "  - Outras bibliotecas de mais alto nível (`pip install beautifulsoup4`)\n",
        "- Caso a página seja um JSON, você pode utilizar: `dados = resposta.json()`\n",
        "- Caso esteja em um outro formato, você precisará buscar uma biblioteca que consiga lidar com esse formato.\n",
        "\n",
        "### Exemplos\n",
        "\n",
        "- Dados no HTML: [Links de CSVs no OpenDataSUS](https://opendatasus.saude.gov.br/dataset/covid-19-vacinacao/resource/ef3bd0b8-b605-474b-9ae5-c97390c197a8)\n",
        "- Dados requisitados de maneira assíncrona, via JavaScript: [Verbete da Wikipedia](https://pt.wikipedia.org/wiki/Python) (passe o mouse em cima de um link para outro verbete)\n",
        "- Dados requisitados de maneira assíncrona via `POST`:\n",
        "  - [De Olho na Fila](https://deolhonafila.prefeitura.sp.gov.br/index.php)\n",
        "  - [Barragens de Mineração](https://app.anm.gov.br/SIGBM/Publico/GerenciarPublico)"
      ]
    },
    {
      "cell_type": "markdown",
      "metadata": {
        "id": "FYvw3kl3LONu"
      },
      "source": [
        "# Voltaremos às 21:10."
      ]
    },
    {
      "cell_type": "code",
      "metadata": {
        "id": "8TvAf0iA-LJW"
      },
      "source": [
        "import requests\n",
        "\n",
        "url = \"https://app.anm.gov.br/SIGBM/Publico/GerenciarPublico\"\n",
        "dados = {\n",
        "  \"startIndex\": \"0\",\n",
        "  \"pageSize\": \"1000\",\n",
        "  \"orderProperty\": \"TotalPontuacao\",\n",
        "  \"orderAscending\": \"false\",\n",
        "  \"DTOGerenciarFiltroPublico[CodigoBarragem]\": \"\",\n",
        "  \"DTOGerenciarFiltroPublico[NecessitaPAEBM]\": \"0\",\n",
        "  \"DTOGerenciarFiltroPublico[BarragemInseridaPNSB]\": \"0\",\n",
        "  \"DTOGerenciarFiltroPublico[PossuiBackUpDam]\": \"0\",\n",
        "  \"DTOGerenciarFiltroPublico[SituacaoDeclaracaoCondicaoEstabilidade]\": \"0\",\n",
        "}\n",
        "resposta = requests.post(url, data=dados)"
      ],
      "execution_count": null,
      "outputs": []
    },
    {
      "cell_type": "code",
      "metadata": {
        "id": "tERc43MpDpzg"
      },
      "source": [
        "import json\n",
        "resultado = json.loads(resposta.text)"
      ],
      "execution_count": null,
      "outputs": []
    },
    {
      "cell_type": "code",
      "metadata": {
        "colab": {
          "base_uri": "https://localhost:8080/"
        },
        "id": "74Drj8MbB_Pc",
        "outputId": "eac5aa9f-e504-43fe-fb4c-aae966205f43"
      },
      "source": [
        "barragens = resposta.json()\n",
        "print(len(barragens[\"Entities\"]))\n",
        "#for barragem in barragens[\"Entities\"]:\n",
        "#  print(f\"{barragem['Codigo']}: {barragem['NomeBarragem']}\")"
      ],
      "execution_count": null,
      "outputs": [
        {
          "output_type": "stream",
          "name": "stdout",
          "text": [
            "883\n"
          ]
        }
      ]
    },
    {
      "cell_type": "code",
      "metadata": {
        "colab": {
          "base_uri": "https://localhost:8080/"
        },
        "id": "0ui9QUJH51H-",
        "outputId": "af292081-a4de-4510-ee7f-fc628f4284f8"
      },
      "source": [
        "import pandas as pd\n",
        "barragens = resposta.json()\n",
        "df = pd.DataFrame(barragens[\"Entities\"])\n",
        "df.columns"
      ],
      "execution_count": null,
      "outputs": [
        {
          "output_type": "execute_result",
          "data": {
            "text/plain": [
              "Index(['Chave', 'CodigoBarragemEncrypted', 'CodigoDeclaracaoAtual', 'Codigo',\n",
              "       'Posicao', 'TotalPontuacao', 'NomeBarragem', 'Empreendedor',\n",
              "       'Municipio', 'UF', 'CategoriaRisco', 'DanoPotencialAssociado',\n",
              "       'Classificacao', 'Descadastramento', 'PontuacaoEstadoConservacao',\n",
              "       'ExistePendenciasEmAberto', 'ExisteOficioBarragem', 'CpfCnpj',\n",
              "       'NecessitaPaebm', 'BarragemInseridaPnsb', 'SituacaoNivelEmergencial',\n",
              "       'SituacaoDeclaracaoCondicaoEstabilidade', 'CodigoVisivel'],\n",
              "      dtype='object')"
            ]
          },
          "metadata": {},
          "execution_count": 22
        }
      ]
    },
    {
      "cell_type": "code",
      "metadata": {
        "colab": {
          "base_uri": "https://localhost:8080/",
          "height": 1000
        },
        "id": "IyDMoiTiF1SI",
        "outputId": "fb4d7020-93b5-4c8d-ecdc-f83035583f46"
      },
      "source": [
        "url_declaracao = \"https://app.anm.gov.br/SIGBM/BarragemPublico/ListarUsinas?idDeclaracao=\"\n",
        "for barragem in barragens[\"Entities\"]:\n",
        "  url_declaracao_barragem = url_declaracao + str(barragem[\"CodigoDeclaracaoAtual\"])\n",
        "  resposta_usinas = requests.get(url_declaracao_barragem)\n",
        "  print(resposta_usinas.json())"
      ],
      "execution_count": null,
      "outputs": [
        {
          "output_type": "stream",
          "name": "stdout",
          "text": [
            "{'Lista': '[{\"Codigo\":305,\"NomeUsina\":\"PLANTA ENGENHO D\\\\u0027ÁGUA\",\"CpfCnpj\":7950015000160}]'}\n",
            "{'Lista': '[{\"Codigo\":305,\"NomeUsina\":\"PLANTA ENGENHO D\\\\u0027ÁGUA\",\"CpfCnpj\":7950015000160}]'}\n",
            "{'Lista': '[]'}\n",
            "{'Lista': '[]'}\n",
            "{'Lista': '[{\"Codigo\":51,\"NomeUsina\":\"FÁBRICA (ITM UMD FAB, ITM SEC FAB, ITM PNIV FAB, ITM SEC M1 e ITM SEC M2)\",\"CpfCnpj\":33592510004494}]'}\n",
            "{'Lista': '[]'}\n",
            "{'Lista': '[]'}\n",
            "{'Lista': '[{\"Codigo\":51,\"NomeUsina\":\"FÁBRICA (ITM UMD FAB, ITM SEC FAB, ITM PNIV FAB, ITM SEC M1 e ITM SEC M2)\",\"CpfCnpj\":33592510004494}]'}\n",
            "{'Lista': '[{\"Codigo\":182,\"NomeUsina\":\"Timbopeba\",\"CpfCnpj\":33592510041268}]'}\n",
            "{'Lista': '[]'}\n",
            "{'Lista': '[]'}\n",
            "{'Lista': '[]'}\n",
            "{'Lista': '[]'}\n",
            "{'Lista': '[]'}\n",
            "{'Lista': '[]'}\n",
            "{'Lista': '[]'}\n",
            "{'Lista': '[{\"Codigo\":32,\"NomeUsina\":\"CAUÊ/CONCEIÇÃO FERRO (Usina do Cauê; Usina Conceição I e Usina Conceição II)\",\"CpfCnpj\":33592510016409}]'}\n",
            "{'Lista': '[]'}\n",
            "{'Lista': '[{\"Codigo\":51,\"NomeUsina\":\"FÁBRICA (ITM UMD FAB, ITM SEC FAB, ITM PNIV FAB, ITM SEC M1 e ITM SEC M2)\",\"CpfCnpj\":33592510004494}]'}\n",
            "{'Lista': '[]'}\n",
            "{'Lista': '[{\"Codigo\":80,\"NomeUsina\":\"ITM VGR01\",\"CpfCnpj\":33592510003412},{\"Codigo\":81,\"NomeUsina\":\"ITM VGR02\",\"CpfCnpj\":33592510003412}]'}\n",
            "{'Lista': '[]'}\n",
            "{'Lista': '[{\"Codigo\":79,\"NomeUsina\":\"ITM PIC (ITM A, ITM B, ITM D, ITM I, PN02)\",\"CpfCnpj\":33592510004494}]'}\n",
            "{'Lista': '[]'}\n",
            "{'Lista': '[{\"Codigo\":310,\"NomeUsina\":\"Planta do Serginho\",\"CpfCnpj\":20618999191}]'}\n",
            "{'Lista': '[]'}\n",
            "{'Lista': '[]'}\n",
            "{'Lista': '[]'}\n",
            "{'Lista': '[]'}\n",
            "{'Lista': '[]'}\n",
            "{'Lista': '[{\"Codigo\":265,\"NomeUsina\":\"UTM - Ipê\",\"CpfCnpj\":8830308000176},{\"Codigo\":321,\"NomeUsina\":\"UTM - Ipê\",\"CpfCnpj\":8830308000176}]'}\n",
            "{'Lista': '[{\"Codigo\":22,\"NomeUsina\":\"Brucutu\",\"CpfCnpj\":33592510044798}]'}\n",
            "{'Lista': '[]'}\n",
            "{'Lista': '[]'}\n",
            "{'Lista': '[]'}\n",
            "{'Lista': '[]'}\n",
            "{'Lista': '[]'}\n",
            "{'Lista': '[{\"Codigo\":306,\"NomeUsina\":\"Usina PBA\",\"CpfCnpj\":6030747000179}]'}\n",
            "{'Lista': '[]'}\n",
            "{'Lista': '[{\"Codigo\":302,\"NomeUsina\":\"UTM IPÊ\",\"CpfCnpj\":22902554000117}]'}\n",
            "{'Lista': '[]'}\n",
            "{'Lista': '[{\"Codigo\":133,\"NomeUsina\":\"PLANTA DE BENEFICIAMENTO\",\"CpfCnpj\":8838089000171}]'}\n",
            "{'Lista': '[{\"Codigo\":133,\"NomeUsina\":\"PLANTA DE BENEFICIAMENTO\",\"CpfCnpj\":8838089000171}]'}\n",
            "{'Lista': '[]'}\n",
            "{'Lista': '[]'}\n",
            "{'Lista': '[{\"Codigo\":280,\"NomeUsina\":\"mineração nossa sra do carmo\",\"CpfCnpj\":83647750000187}]'}\n",
            "{'Lista': '[{\"Codigo\":445,\"NomeUsina\":\"GERALDO MAIA\",\"CpfCnpj\":20346524000146}]'}\n",
            "{'Lista': '[]'}\n",
            "{'Lista': '[{\"Codigo\":443,\"NomeUsina\":\"Planta de beneficiamento Mina Lais\",\"CpfCnpj\":61247870000154}]'}\n",
            "{'Lista': '[]'}\n",
            "{'Lista': '[]'}\n",
            "{'Lista': '[]'}\n",
            "{'Lista': '[{\"Codigo\":191,\"NomeUsina\":\"Usina 320\",\"CpfCnpj\":33931486000564}]'}\n",
            "{'Lista': '[]'}\n",
            "{'Lista': '[{\"Codigo\":312,\"NomeUsina\":\"Planta de Beneficiamento 01 \",\"CpfCnpj\":10302599000171},{\"Codigo\":313,\"NomeUsina\":\"Planta de Beneficiamento 02\",\"CpfCnpj\":10302599000171},{\"Codigo\":434,\"NomeUsina\":\"Planta de Beneficiamento 03\",\"CpfCnpj\":19882154000182},{\"Codigo\":435,\"NomeUsina\":\"Planta de Beneficiamento 04\",\"CpfCnpj\":19882154000182}]'}\n",
            "{'Lista': '[{\"Codigo\":280,\"NomeUsina\":\"mineração nossa sra do carmo\",\"CpfCnpj\":83647750000187}]'}\n",
            "{'Lista': '[]'}\n",
            "{'Lista': '[{\"Codigo\":89,\"NomeUsina\":\"Lavador da Mina do Recreio\",\"CpfCnpj\":33059528000195}]'}\n",
            "{'Lista': '[{\"Codigo\":226,\"NomeUsina\":\"Usina de Manganês do Azul\",\"CpfCnpj\":33592510013051}]'}\n",
            "{'Lista': '[{\"Codigo\":292,\"NomeUsina\":\"Planta Bosco\",\"CpfCnpj\":4794290144}]'}\n",
            "{'Lista': '[]'}\n",
            "{'Lista': '[]'}\n",
            "{'Lista': '[]'}\n",
            "{'Lista': '[{\"Codigo\":248,\"NomeUsina\":\"USINA RIO FIORITA\",\"CpfCnpj\":83163576000105}]'}\n",
            "{'Lista': '[{\"Codigo\":188,\"NomeUsina\":\"UBM- USINA DE BENEFICIAMENTO MINERAL\",\"CpfCnpj\":34019992000110}]'}\n",
            "{'Lista': '[]'}\n",
            "{'Lista': '[{\"Codigo\":207,\"NomeUsina\":\"Usina CMT\",\"CpfCnpj\":33931486002001}]'}\n",
            "{'Lista': '[{\"Codigo\":262,\"NomeUsina\":\"Usina Viga 4Mtpa\",\"CpfCnpj\":8852207000104}]'}\n"
          ]
        },
        {
          "output_type": "error",
          "ename": "KeyboardInterrupt",
          "evalue": "ignored",
          "traceback": [
            "\u001b[0;31m---------------------------------------------------------------------------\u001b[0m",
            "\u001b[0;31mKeyboardInterrupt\u001b[0m                         Traceback (most recent call last)",
            "\u001b[0;32m<ipython-input-21-829ead345735>\u001b[0m in \u001b[0;36m<module>\u001b[0;34m()\u001b[0m\n\u001b[1;32m      2\u001b[0m \u001b[0;32mfor\u001b[0m \u001b[0mbarragem\u001b[0m \u001b[0;32min\u001b[0m \u001b[0mbarragens\u001b[0m\u001b[0;34m[\u001b[0m\u001b[0;34m\"Entities\"\u001b[0m\u001b[0;34m]\u001b[0m\u001b[0;34m:\u001b[0m\u001b[0;34m\u001b[0m\u001b[0;34m\u001b[0m\u001b[0m\n\u001b[1;32m      3\u001b[0m   \u001b[0murl_declaracao_barragem\u001b[0m \u001b[0;34m=\u001b[0m \u001b[0murl_declaracao\u001b[0m \u001b[0;34m+\u001b[0m \u001b[0mstr\u001b[0m\u001b[0;34m(\u001b[0m\u001b[0mbarragem\u001b[0m\u001b[0;34m[\u001b[0m\u001b[0;34m\"CodigoDeclaracaoAtual\"\u001b[0m\u001b[0;34m]\u001b[0m\u001b[0;34m)\u001b[0m\u001b[0;34m\u001b[0m\u001b[0;34m\u001b[0m\u001b[0m\n\u001b[0;32m----> 4\u001b[0;31m   \u001b[0mresposta_usinas\u001b[0m \u001b[0;34m=\u001b[0m \u001b[0mrequests\u001b[0m\u001b[0;34m.\u001b[0m\u001b[0mget\u001b[0m\u001b[0;34m(\u001b[0m\u001b[0murl_declaracao_barragem\u001b[0m\u001b[0;34m)\u001b[0m\u001b[0;34m\u001b[0m\u001b[0;34m\u001b[0m\u001b[0m\n\u001b[0m\u001b[1;32m      5\u001b[0m   \u001b[0mprint\u001b[0m\u001b[0;34m(\u001b[0m\u001b[0mresposta_usinas\u001b[0m\u001b[0;34m.\u001b[0m\u001b[0mjson\u001b[0m\u001b[0;34m(\u001b[0m\u001b[0;34m)\u001b[0m\u001b[0;34m)\u001b[0m\u001b[0;34m\u001b[0m\u001b[0;34m\u001b[0m\u001b[0m\n",
            "\u001b[0;32m/usr/local/lib/python3.7/dist-packages/requests/api.py\u001b[0m in \u001b[0;36mget\u001b[0;34m(url, params, **kwargs)\u001b[0m\n\u001b[1;32m     74\u001b[0m \u001b[0;34m\u001b[0m\u001b[0m\n\u001b[1;32m     75\u001b[0m     \u001b[0mkwargs\u001b[0m\u001b[0;34m.\u001b[0m\u001b[0msetdefault\u001b[0m\u001b[0;34m(\u001b[0m\u001b[0;34m'allow_redirects'\u001b[0m\u001b[0;34m,\u001b[0m \u001b[0;32mTrue\u001b[0m\u001b[0;34m)\u001b[0m\u001b[0;34m\u001b[0m\u001b[0;34m\u001b[0m\u001b[0m\n\u001b[0;32m---> 76\u001b[0;31m     \u001b[0;32mreturn\u001b[0m \u001b[0mrequest\u001b[0m\u001b[0;34m(\u001b[0m\u001b[0;34m'get'\u001b[0m\u001b[0;34m,\u001b[0m \u001b[0murl\u001b[0m\u001b[0;34m,\u001b[0m \u001b[0mparams\u001b[0m\u001b[0;34m=\u001b[0m\u001b[0mparams\u001b[0m\u001b[0;34m,\u001b[0m \u001b[0;34m**\u001b[0m\u001b[0mkwargs\u001b[0m\u001b[0;34m)\u001b[0m\u001b[0;34m\u001b[0m\u001b[0;34m\u001b[0m\u001b[0m\n\u001b[0m\u001b[1;32m     77\u001b[0m \u001b[0;34m\u001b[0m\u001b[0m\n\u001b[1;32m     78\u001b[0m \u001b[0;34m\u001b[0m\u001b[0m\n",
            "\u001b[0;32m/usr/local/lib/python3.7/dist-packages/requests/api.py\u001b[0m in \u001b[0;36mrequest\u001b[0;34m(method, url, **kwargs)\u001b[0m\n\u001b[1;32m     59\u001b[0m     \u001b[0;31m# cases, and look like a memory leak in others.\u001b[0m\u001b[0;34m\u001b[0m\u001b[0;34m\u001b[0m\u001b[0;34m\u001b[0m\u001b[0m\n\u001b[1;32m     60\u001b[0m     \u001b[0;32mwith\u001b[0m \u001b[0msessions\u001b[0m\u001b[0;34m.\u001b[0m\u001b[0mSession\u001b[0m\u001b[0;34m(\u001b[0m\u001b[0;34m)\u001b[0m \u001b[0;32mas\u001b[0m \u001b[0msession\u001b[0m\u001b[0;34m:\u001b[0m\u001b[0;34m\u001b[0m\u001b[0;34m\u001b[0m\u001b[0m\n\u001b[0;32m---> 61\u001b[0;31m         \u001b[0;32mreturn\u001b[0m \u001b[0msession\u001b[0m\u001b[0;34m.\u001b[0m\u001b[0mrequest\u001b[0m\u001b[0;34m(\u001b[0m\u001b[0mmethod\u001b[0m\u001b[0;34m=\u001b[0m\u001b[0mmethod\u001b[0m\u001b[0;34m,\u001b[0m \u001b[0murl\u001b[0m\u001b[0;34m=\u001b[0m\u001b[0murl\u001b[0m\u001b[0;34m,\u001b[0m \u001b[0;34m**\u001b[0m\u001b[0mkwargs\u001b[0m\u001b[0;34m)\u001b[0m\u001b[0;34m\u001b[0m\u001b[0;34m\u001b[0m\u001b[0m\n\u001b[0m\u001b[1;32m     62\u001b[0m \u001b[0;34m\u001b[0m\u001b[0m\n\u001b[1;32m     63\u001b[0m \u001b[0;34m\u001b[0m\u001b[0m\n",
            "\u001b[0;32m/usr/local/lib/python3.7/dist-packages/requests/sessions.py\u001b[0m in \u001b[0;36mrequest\u001b[0;34m(self, method, url, params, data, headers, cookies, files, auth, timeout, allow_redirects, proxies, hooks, stream, verify, cert, json)\u001b[0m\n\u001b[1;32m    528\u001b[0m         }\n\u001b[1;32m    529\u001b[0m         \u001b[0msend_kwargs\u001b[0m\u001b[0;34m.\u001b[0m\u001b[0mupdate\u001b[0m\u001b[0;34m(\u001b[0m\u001b[0msettings\u001b[0m\u001b[0;34m)\u001b[0m\u001b[0;34m\u001b[0m\u001b[0;34m\u001b[0m\u001b[0m\n\u001b[0;32m--> 530\u001b[0;31m         \u001b[0mresp\u001b[0m \u001b[0;34m=\u001b[0m \u001b[0mself\u001b[0m\u001b[0;34m.\u001b[0m\u001b[0msend\u001b[0m\u001b[0;34m(\u001b[0m\u001b[0mprep\u001b[0m\u001b[0;34m,\u001b[0m \u001b[0;34m**\u001b[0m\u001b[0msend_kwargs\u001b[0m\u001b[0;34m)\u001b[0m\u001b[0;34m\u001b[0m\u001b[0;34m\u001b[0m\u001b[0m\n\u001b[0m\u001b[1;32m    531\u001b[0m \u001b[0;34m\u001b[0m\u001b[0m\n\u001b[1;32m    532\u001b[0m         \u001b[0;32mreturn\u001b[0m \u001b[0mresp\u001b[0m\u001b[0;34m\u001b[0m\u001b[0;34m\u001b[0m\u001b[0m\n",
            "\u001b[0;32m/usr/local/lib/python3.7/dist-packages/requests/sessions.py\u001b[0m in \u001b[0;36msend\u001b[0;34m(self, request, **kwargs)\u001b[0m\n\u001b[1;32m    641\u001b[0m \u001b[0;34m\u001b[0m\u001b[0m\n\u001b[1;32m    642\u001b[0m         \u001b[0;31m# Send the request\u001b[0m\u001b[0;34m\u001b[0m\u001b[0;34m\u001b[0m\u001b[0;34m\u001b[0m\u001b[0m\n\u001b[0;32m--> 643\u001b[0;31m         \u001b[0mr\u001b[0m \u001b[0;34m=\u001b[0m \u001b[0madapter\u001b[0m\u001b[0;34m.\u001b[0m\u001b[0msend\u001b[0m\u001b[0;34m(\u001b[0m\u001b[0mrequest\u001b[0m\u001b[0;34m,\u001b[0m \u001b[0;34m**\u001b[0m\u001b[0mkwargs\u001b[0m\u001b[0;34m)\u001b[0m\u001b[0;34m\u001b[0m\u001b[0;34m\u001b[0m\u001b[0m\n\u001b[0m\u001b[1;32m    644\u001b[0m \u001b[0;34m\u001b[0m\u001b[0m\n\u001b[1;32m    645\u001b[0m         \u001b[0;31m# Total elapsed time of the request (approximately)\u001b[0m\u001b[0;34m\u001b[0m\u001b[0;34m\u001b[0m\u001b[0;34m\u001b[0m\u001b[0m\n",
            "\u001b[0;32m/usr/local/lib/python3.7/dist-packages/requests/adapters.py\u001b[0m in \u001b[0;36msend\u001b[0;34m(self, request, stream, timeout, verify, cert, proxies)\u001b[0m\n\u001b[1;32m    447\u001b[0m                     \u001b[0mdecode_content\u001b[0m\u001b[0;34m=\u001b[0m\u001b[0;32mFalse\u001b[0m\u001b[0;34m,\u001b[0m\u001b[0;34m\u001b[0m\u001b[0;34m\u001b[0m\u001b[0m\n\u001b[1;32m    448\u001b[0m                     \u001b[0mretries\u001b[0m\u001b[0;34m=\u001b[0m\u001b[0mself\u001b[0m\u001b[0;34m.\u001b[0m\u001b[0mmax_retries\u001b[0m\u001b[0;34m,\u001b[0m\u001b[0;34m\u001b[0m\u001b[0;34m\u001b[0m\u001b[0m\n\u001b[0;32m--> 449\u001b[0;31m                     \u001b[0mtimeout\u001b[0m\u001b[0;34m=\u001b[0m\u001b[0mtimeout\u001b[0m\u001b[0;34m\u001b[0m\u001b[0;34m\u001b[0m\u001b[0m\n\u001b[0m\u001b[1;32m    450\u001b[0m                 )\n\u001b[1;32m    451\u001b[0m \u001b[0;34m\u001b[0m\u001b[0m\n",
            "\u001b[0;32m/usr/local/lib/python3.7/dist-packages/urllib3/connectionpool.py\u001b[0m in \u001b[0;36murlopen\u001b[0;34m(self, method, url, body, headers, retries, redirect, assert_same_host, timeout, pool_timeout, release_conn, chunked, body_pos, **response_kw)\u001b[0m\n\u001b[1;32m    598\u001b[0m                                                   \u001b[0mtimeout\u001b[0m\u001b[0;34m=\u001b[0m\u001b[0mtimeout_obj\u001b[0m\u001b[0;34m,\u001b[0m\u001b[0;34m\u001b[0m\u001b[0;34m\u001b[0m\u001b[0m\n\u001b[1;32m    599\u001b[0m                                                   \u001b[0mbody\u001b[0m\u001b[0;34m=\u001b[0m\u001b[0mbody\u001b[0m\u001b[0;34m,\u001b[0m \u001b[0mheaders\u001b[0m\u001b[0;34m=\u001b[0m\u001b[0mheaders\u001b[0m\u001b[0;34m,\u001b[0m\u001b[0;34m\u001b[0m\u001b[0;34m\u001b[0m\u001b[0m\n\u001b[0;32m--> 600\u001b[0;31m                                                   chunked=chunked)\n\u001b[0m\u001b[1;32m    601\u001b[0m \u001b[0;34m\u001b[0m\u001b[0m\n\u001b[1;32m    602\u001b[0m             \u001b[0;31m# If we're going to release the connection in ``finally:``, then\u001b[0m\u001b[0;34m\u001b[0m\u001b[0;34m\u001b[0m\u001b[0;34m\u001b[0m\u001b[0m\n",
            "\u001b[0;32m/usr/local/lib/python3.7/dist-packages/urllib3/connectionpool.py\u001b[0m in \u001b[0;36m_make_request\u001b[0;34m(self, conn, method, url, timeout, chunked, **httplib_request_kw)\u001b[0m\n\u001b[1;32m    341\u001b[0m         \u001b[0;31m# Trigger any extra validation we need to do.\u001b[0m\u001b[0;34m\u001b[0m\u001b[0;34m\u001b[0m\u001b[0;34m\u001b[0m\u001b[0m\n\u001b[1;32m    342\u001b[0m         \u001b[0;32mtry\u001b[0m\u001b[0;34m:\u001b[0m\u001b[0;34m\u001b[0m\u001b[0;34m\u001b[0m\u001b[0m\n\u001b[0;32m--> 343\u001b[0;31m             \u001b[0mself\u001b[0m\u001b[0;34m.\u001b[0m\u001b[0m_validate_conn\u001b[0m\u001b[0;34m(\u001b[0m\u001b[0mconn\u001b[0m\u001b[0;34m)\u001b[0m\u001b[0;34m\u001b[0m\u001b[0;34m\u001b[0m\u001b[0m\n\u001b[0m\u001b[1;32m    344\u001b[0m         \u001b[0;32mexcept\u001b[0m \u001b[0;34m(\u001b[0m\u001b[0mSocketTimeout\u001b[0m\u001b[0;34m,\u001b[0m \u001b[0mBaseSSLError\u001b[0m\u001b[0;34m)\u001b[0m \u001b[0;32mas\u001b[0m \u001b[0me\u001b[0m\u001b[0;34m:\u001b[0m\u001b[0;34m\u001b[0m\u001b[0;34m\u001b[0m\u001b[0m\n\u001b[1;32m    345\u001b[0m             \u001b[0;31m# Py2 raises this as a BaseSSLError, Py3 raises it as socket timeout.\u001b[0m\u001b[0;34m\u001b[0m\u001b[0;34m\u001b[0m\u001b[0;34m\u001b[0m\u001b[0m\n",
            "\u001b[0;32m/usr/local/lib/python3.7/dist-packages/urllib3/connectionpool.py\u001b[0m in \u001b[0;36m_validate_conn\u001b[0;34m(self, conn)\u001b[0m\n\u001b[1;32m    837\u001b[0m         \u001b[0;31m# Force connect early to allow us to validate the connection.\u001b[0m\u001b[0;34m\u001b[0m\u001b[0;34m\u001b[0m\u001b[0;34m\u001b[0m\u001b[0m\n\u001b[1;32m    838\u001b[0m         \u001b[0;32mif\u001b[0m \u001b[0;32mnot\u001b[0m \u001b[0mgetattr\u001b[0m\u001b[0;34m(\u001b[0m\u001b[0mconn\u001b[0m\u001b[0;34m,\u001b[0m \u001b[0;34m'sock'\u001b[0m\u001b[0;34m,\u001b[0m \u001b[0;32mNone\u001b[0m\u001b[0;34m)\u001b[0m\u001b[0;34m:\u001b[0m  \u001b[0;31m# AppEngine might not have  `.sock`\u001b[0m\u001b[0;34m\u001b[0m\u001b[0;34m\u001b[0m\u001b[0m\n\u001b[0;32m--> 839\u001b[0;31m             \u001b[0mconn\u001b[0m\u001b[0;34m.\u001b[0m\u001b[0mconnect\u001b[0m\u001b[0;34m(\u001b[0m\u001b[0;34m)\u001b[0m\u001b[0;34m\u001b[0m\u001b[0;34m\u001b[0m\u001b[0m\n\u001b[0m\u001b[1;32m    840\u001b[0m \u001b[0;34m\u001b[0m\u001b[0m\n\u001b[1;32m    841\u001b[0m         \u001b[0;32mif\u001b[0m \u001b[0;32mnot\u001b[0m \u001b[0mconn\u001b[0m\u001b[0;34m.\u001b[0m\u001b[0mis_verified\u001b[0m\u001b[0;34m:\u001b[0m\u001b[0;34m\u001b[0m\u001b[0;34m\u001b[0m\u001b[0m\n",
            "\u001b[0;32m/usr/local/lib/python3.7/dist-packages/urllib3/connection.py\u001b[0m in \u001b[0;36mconnect\u001b[0;34m(self)\u001b[0m\n\u001b[1;32m    342\u001b[0m             \u001b[0mca_cert_dir\u001b[0m\u001b[0;34m=\u001b[0m\u001b[0mself\u001b[0m\u001b[0;34m.\u001b[0m\u001b[0mca_cert_dir\u001b[0m\u001b[0;34m,\u001b[0m\u001b[0;34m\u001b[0m\u001b[0;34m\u001b[0m\u001b[0m\n\u001b[1;32m    343\u001b[0m             \u001b[0mserver_hostname\u001b[0m\u001b[0;34m=\u001b[0m\u001b[0mserver_hostname\u001b[0m\u001b[0;34m,\u001b[0m\u001b[0;34m\u001b[0m\u001b[0;34m\u001b[0m\u001b[0m\n\u001b[0;32m--> 344\u001b[0;31m             ssl_context=context)\n\u001b[0m\u001b[1;32m    345\u001b[0m \u001b[0;34m\u001b[0m\u001b[0m\n\u001b[1;32m    346\u001b[0m         \u001b[0;32mif\u001b[0m \u001b[0mself\u001b[0m\u001b[0;34m.\u001b[0m\u001b[0massert_fingerprint\u001b[0m\u001b[0;34m:\u001b[0m\u001b[0;34m\u001b[0m\u001b[0;34m\u001b[0m\u001b[0m\n",
            "\u001b[0;32m/usr/local/lib/python3.7/dist-packages/urllib3/util/ssl_.py\u001b[0m in \u001b[0;36mssl_wrap_socket\u001b[0;34m(sock, keyfile, certfile, cert_reqs, ca_certs, server_hostname, ssl_version, ciphers, ssl_context, ca_cert_dir)\u001b[0m\n\u001b[1;32m    343\u001b[0m             or IS_SECURETRANSPORT):\n\u001b[1;32m    344\u001b[0m         \u001b[0;32mif\u001b[0m \u001b[0mHAS_SNI\u001b[0m \u001b[0;32mand\u001b[0m \u001b[0mserver_hostname\u001b[0m \u001b[0;32mis\u001b[0m \u001b[0;32mnot\u001b[0m \u001b[0;32mNone\u001b[0m\u001b[0;34m:\u001b[0m\u001b[0;34m\u001b[0m\u001b[0;34m\u001b[0m\u001b[0m\n\u001b[0;32m--> 345\u001b[0;31m             \u001b[0;32mreturn\u001b[0m \u001b[0mcontext\u001b[0m\u001b[0;34m.\u001b[0m\u001b[0mwrap_socket\u001b[0m\u001b[0;34m(\u001b[0m\u001b[0msock\u001b[0m\u001b[0;34m,\u001b[0m \u001b[0mserver_hostname\u001b[0m\u001b[0;34m=\u001b[0m\u001b[0mserver_hostname\u001b[0m\u001b[0;34m)\u001b[0m\u001b[0;34m\u001b[0m\u001b[0;34m\u001b[0m\u001b[0m\n\u001b[0m\u001b[1;32m    346\u001b[0m \u001b[0;34m\u001b[0m\u001b[0m\n\u001b[1;32m    347\u001b[0m         warnings.warn(\n",
            "\u001b[0;32m/usr/lib/python3.7/ssl.py\u001b[0m in \u001b[0;36mwrap_socket\u001b[0;34m(self, sock, server_side, do_handshake_on_connect, suppress_ragged_eofs, server_hostname, session)\u001b[0m\n\u001b[1;32m    421\u001b[0m             \u001b[0mserver_hostname\u001b[0m\u001b[0;34m=\u001b[0m\u001b[0mserver_hostname\u001b[0m\u001b[0;34m,\u001b[0m\u001b[0;34m\u001b[0m\u001b[0;34m\u001b[0m\u001b[0m\n\u001b[1;32m    422\u001b[0m             \u001b[0mcontext\u001b[0m\u001b[0;34m=\u001b[0m\u001b[0mself\u001b[0m\u001b[0;34m,\u001b[0m\u001b[0;34m\u001b[0m\u001b[0;34m\u001b[0m\u001b[0m\n\u001b[0;32m--> 423\u001b[0;31m             \u001b[0msession\u001b[0m\u001b[0;34m=\u001b[0m\u001b[0msession\u001b[0m\u001b[0;34m\u001b[0m\u001b[0;34m\u001b[0m\u001b[0m\n\u001b[0m\u001b[1;32m    424\u001b[0m         )\n\u001b[1;32m    425\u001b[0m \u001b[0;34m\u001b[0m\u001b[0m\n",
            "\u001b[0;32m/usr/lib/python3.7/ssl.py\u001b[0m in \u001b[0;36m_create\u001b[0;34m(cls, sock, server_side, do_handshake_on_connect, suppress_ragged_eofs, server_hostname, context, session)\u001b[0m\n\u001b[1;32m    868\u001b[0m                         \u001b[0;31m# non-blocking\u001b[0m\u001b[0;34m\u001b[0m\u001b[0;34m\u001b[0m\u001b[0;34m\u001b[0m\u001b[0m\n\u001b[1;32m    869\u001b[0m                         \u001b[0;32mraise\u001b[0m \u001b[0mValueError\u001b[0m\u001b[0;34m(\u001b[0m\u001b[0;34m\"do_handshake_on_connect should not be specified for non-blocking sockets\"\u001b[0m\u001b[0;34m)\u001b[0m\u001b[0;34m\u001b[0m\u001b[0;34m\u001b[0m\u001b[0m\n\u001b[0;32m--> 870\u001b[0;31m                     \u001b[0mself\u001b[0m\u001b[0;34m.\u001b[0m\u001b[0mdo_handshake\u001b[0m\u001b[0;34m(\u001b[0m\u001b[0;34m)\u001b[0m\u001b[0;34m\u001b[0m\u001b[0;34m\u001b[0m\u001b[0m\n\u001b[0m\u001b[1;32m    871\u001b[0m             \u001b[0;32mexcept\u001b[0m \u001b[0;34m(\u001b[0m\u001b[0mOSError\u001b[0m\u001b[0;34m,\u001b[0m \u001b[0mValueError\u001b[0m\u001b[0;34m)\u001b[0m\u001b[0;34m:\u001b[0m\u001b[0;34m\u001b[0m\u001b[0;34m\u001b[0m\u001b[0m\n\u001b[1;32m    872\u001b[0m                 \u001b[0mself\u001b[0m\u001b[0;34m.\u001b[0m\u001b[0mclose\u001b[0m\u001b[0;34m(\u001b[0m\u001b[0;34m)\u001b[0m\u001b[0;34m\u001b[0m\u001b[0;34m\u001b[0m\u001b[0m\n",
            "\u001b[0;32m/usr/lib/python3.7/ssl.py\u001b[0m in \u001b[0;36mdo_handshake\u001b[0;34m(self, block)\u001b[0m\n\u001b[1;32m   1137\u001b[0m             \u001b[0;32mif\u001b[0m \u001b[0mtimeout\u001b[0m \u001b[0;34m==\u001b[0m \u001b[0;36m0.0\u001b[0m \u001b[0;32mand\u001b[0m \u001b[0mblock\u001b[0m\u001b[0;34m:\u001b[0m\u001b[0;34m\u001b[0m\u001b[0;34m\u001b[0m\u001b[0m\n\u001b[1;32m   1138\u001b[0m                 \u001b[0mself\u001b[0m\u001b[0;34m.\u001b[0m\u001b[0msettimeout\u001b[0m\u001b[0;34m(\u001b[0m\u001b[0;32mNone\u001b[0m\u001b[0;34m)\u001b[0m\u001b[0;34m\u001b[0m\u001b[0;34m\u001b[0m\u001b[0m\n\u001b[0;32m-> 1139\u001b[0;31m             \u001b[0mself\u001b[0m\u001b[0;34m.\u001b[0m\u001b[0m_sslobj\u001b[0m\u001b[0;34m.\u001b[0m\u001b[0mdo_handshake\u001b[0m\u001b[0;34m(\u001b[0m\u001b[0;34m)\u001b[0m\u001b[0;34m\u001b[0m\u001b[0;34m\u001b[0m\u001b[0m\n\u001b[0m\u001b[1;32m   1140\u001b[0m         \u001b[0;32mfinally\u001b[0m\u001b[0;34m:\u001b[0m\u001b[0;34m\u001b[0m\u001b[0;34m\u001b[0m\u001b[0m\n\u001b[1;32m   1141\u001b[0m             \u001b[0mself\u001b[0m\u001b[0;34m.\u001b[0m\u001b[0msettimeout\u001b[0m\u001b[0;34m(\u001b[0m\u001b[0mtimeout\u001b[0m\u001b[0;34m)\u001b[0m\u001b[0;34m\u001b[0m\u001b[0;34m\u001b[0m\u001b[0m\n",
            "\u001b[0;31mKeyboardInterrupt\u001b[0m: "
          ]
        }
      ]
    }
  ]
}