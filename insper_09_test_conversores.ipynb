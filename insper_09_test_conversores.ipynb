{
  "nbformat": 4,
  "nbformat_minor": 0,
  "metadata": {
    "colab": {
      "name": "test_conversores.ipynb",
      "provenance": [],
      "include_colab_link": true
    },
    "kernelspec": {
      "name": "python3",
      "display_name": "Python 3"
    },
    "language_info": {
      "name": "python"
    }
  },
  "cells": [
    {
      "cell_type": "markdown",
      "metadata": {
        "id": "view-in-github",
        "colab_type": "text"
      },
      "source": [
        "<a href=\"https://colab.research.google.com/github/carinadourado/carinadourado/blob/main/insper_09_test_conversores.ipynb\" target=\"_parent\"><img src=\"https://colab.research.google.com/assets/colab-badge.svg\" alt=\"Open In Colab\"/></a>"
      ]
    },
    {
      "cell_type": "code",
      "metadata": {
        "id": "KAQh2DGjnmLi"
      },
      "source": [
        "from conversores import converte_valor_monetario\n",
        "\n",
        "def test_converte_valor_monetario():\n",
        "  valores_esperados = {\n",
        "      \"\": None,\n",
        "      \"R$ \": None,\n",
        "      \"      R$ \": None,\n",
        "      \"R$ 123,00\": 123.0,\n",
        "      \"R$ 5.123,00\": 5123.0,\n",
        "      \"Cr$ 1.235,79\": 1235.79,\n",
        "      \"cr$ 1.235,79\": 1235.79,\n",
        "      \"us$ 1.235,79\": 1235.79,\n",
        "      \"u$ 1.235,79\": 1235.79,\n",
        "  }\n",
        "\n",
        "  for valor_entrada, valor_esperado in valores_esperados.items():\n",
        "    resultado = converte_valor_monetario(valor_entrada)\n",
        "    assert resultado == valor_esperado, f\"Resultado: {resultado}, esperado: {valor_esperado}\"\n",
        "\n",
        "test_converte_valor_monetario()"
      ],
      "execution_count": null,
      "outputs": []
    }
  ]
}