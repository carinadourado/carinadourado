{
  "nbformat": 4,
  "nbformat_minor": 0,
  "metadata": {
    "colab": {
      "name": "01_ python_introducao_basica.ipynb",
      "provenance": [],
      "collapsed_sections": [],
      "authorship_tag": "ABX9TyNXUf6CbNI02cci/5JquVpa",
      "include_colab_link": true
    },
    "kernelspec": {
      "name": "python3",
      "display_name": "Python 3"
    },
    "language_info": {
      "name": "python"
    }
  },
  "cells": [
    {
      "cell_type": "markdown",
      "metadata": {
        "id": "view-in-github",
        "colab_type": "text"
      },
      "source": [
        "<a href=\"https://colab.research.google.com/github/carinadourado/carinadourado/blob/main/01__python_introducao_basica.ipynb\" target=\"_parent\"><img src=\"https://colab.research.google.com/assets/colab-badge.svg\" alt=\"Open In Colab\"/></a>"
      ]
    },
    {
      "cell_type": "markdown",
      "metadata": {
        "id": "cn4DjUxH4_L1"
      },
      "source": [
        "#Introdução a Python\n",
        "\n",
        "\n",
        "*(Dica - livro de introdução a Phyton - de graça e constantemente atualizado: **PensePython2e** - de Allen B. Downey - https://penseallen.github.io/PensePython2e/ )* \n"
      ]
    },
    {
      "cell_type": "markdown",
      "metadata": {
        "id": "oDHudBhv8Rxb"
      },
      "source": [
        "Uma das formas mais simples de começar sem ter que instalar programa no seu computador é usar o Phyton em um navegador. O [Google Colab](https://colab.research.google.com/) é um desses navegadores gratuitos e que pode ser usado tranquilamenta para desenvolver projetos."
      ]
    },
    {
      "cell_type": "markdown",
      "metadata": {
        "id": "3ImkDsp75pUl"
      },
      "source": [
        "Por tradição, o primeiro programa que é feito em Python se escreve: **“Hello, World!”**, para ser exibido na tela. Para isso, vamos usar a função **print()**, que representa o que você quer que apareça escrito na tela"
      ]
    },
    {
      "cell_type": "code",
      "metadata": {
        "colab": {
          "base_uri": "https://localhost:8080/"
        },
        "id": "iVHiPiXLOQw7",
        "outputId": "bf2639ec-6b52-4f33-c141-6e1025d9cb55"
      },
      "source": [
        "print (\"Olá, mundo!\") "
      ],
      "execution_count": null,
      "outputs": [
        {
          "output_type": "stream",
          "text": [
            "Olá, mundo!\n"
          ],
          "name": "stdout"
        }
      ]
    },
    {
      "cell_type": "markdown",
      "metadata": {
        "id": "_mWKPfWL-pOc"
      },
      "source": [
        "As aspas duplas **\" \"** ou simples **' '** são usadas quando o que está entre parênteses é um texto, o que no Python é chamado de **string (str)**.\n",
        "\n",
        "O `input( )` é uma função em que se digita algo e isso é armazenado como uma variável. No caso **nome** é a variável criada."
      ]
    },
    {
      "cell_type": "code",
      "metadata": {
        "colab": {
          "base_uri": "https://localhost:8080/"
        },
        "id": "bxvX7tuvedPM",
        "outputId": "8454b79e-7b75-4c2e-f250-c4150aaf4ab7"
      },
      "source": [
        "nome = input (\"Qual o seu nome?\")\n",
        "print (\"Olá, \" + nome)"
      ],
      "execution_count": null,
      "outputs": [
        {
          "output_type": "stream",
          "name": "stdout",
          "text": [
            "Qual o seu nome?Carina\n",
            "Olá, Carina\n"
          ]
        }
      ]
    },
    {
      "cell_type": "markdown",
      "metadata": {
        "id": "C97nFlt28SXI"
      },
      "source": [
        "O Python aceita operações, sem grandes códigos para isso. Por exemplo:"
      ]
    },
    {
      "cell_type": "code",
      "metadata": {
        "colab": {
          "base_uri": "https://localhost:8080/"
        },
        "id": "wblo7u-s4_v2",
        "outputId": "17c060bc-399f-4e8e-8002-bb54701e9626"
      },
      "source": [
        "(20 + 30) / 2\n"
      ],
      "execution_count": null,
      "outputs": [
        {
          "output_type": "execute_result",
          "data": {
            "text/plain": [
              "25.0"
            ]
          },
          "metadata": {},
          "execution_count": 6
        }
      ]
    },
    {
      "cell_type": "code",
      "metadata": {
        "colab": {
          "base_uri": "https://localhost:8080/"
        },
        "id": "Jj7UdGXbjSTR",
        "outputId": "761c2c0d-800a-4fb2-a607-656c85430035"
      },
      "source": [
        "43 - 1"
      ],
      "execution_count": null,
      "outputs": [
        {
          "output_type": "execute_result",
          "data": {
            "text/plain": [
              "42"
            ]
          },
          "metadata": {},
          "execution_count": 7
        }
      ]
    },
    {
      "cell_type": "code",
      "metadata": {
        "colab": {
          "base_uri": "https://localhost:8080/"
        },
        "id": "_w2Brbn_jTCr",
        "outputId": "1b82de0a-11bf-471e-96d1-2e5b8c81c2ad"
      },
      "source": [
        "9 * 7"
      ],
      "execution_count": null,
      "outputs": [
        {
          "output_type": "execute_result",
          "data": {
            "text/plain": [
              "63"
            ]
          },
          "metadata": {},
          "execution_count": 8
        }
      ]
    },
    {
      "cell_type": "code",
      "metadata": {
        "colab": {
          "base_uri": "https://localhost:8080/"
        },
        "id": "oHmkby27jWA5",
        "outputId": "ed70d5e0-d3f6-4d06-ba17-ddc62633120a"
      },
      "source": [
        "82/2"
      ],
      "execution_count": null,
      "outputs": [
        {
          "output_type": "execute_result",
          "data": {
            "text/plain": [
              "41.0"
            ]
          },
          "metadata": {},
          "execution_count": 9
        }
      ]
    },
    {
      "cell_type": "code",
      "metadata": {
        "colab": {
          "base_uri": "https://localhost:8080/"
        },
        "id": "b35cMWm2L6Qo",
        "outputId": "62fb36cb-ab11-418f-cafc-f83fc91525a5"
      },
      "source": [
        "(20+30)/2 <= 100  # O <= significa menor ou igual, assim como >= (maior ou igual), == (igual) e != (diferente)"
      ],
      "execution_count": null,
      "outputs": [
        {
          "output_type": "execute_result",
          "data": {
            "text/plain": [
              "True"
            ]
          },
          "metadata": {},
          "execution_count": 2
        }
      ]
    },
    {
      "cell_type": "markdown",
      "metadata": {
        "id": "6N51zjm7mI-o"
      },
      "source": [
        "Nestes casos de operações:\n",
        "\n",
        "- Soma: `1 + 2` (devolve `3`)\n",
        "- Subtração: `4 - 1` (devolve `3`)\n",
        "- Multiplicação: `3 * 4` (devolve `12`)\n",
        "- Divisão: `5 / 2` (devolve `2.5`)\n",
        "- Divisão inteira: `13 // 3` (devolve `4`)\n",
        "- Resto da divisão inteira: `13 % 3` (devolve `1`)\n",
        "- Exponenciação: `2 ** 10` (devolve `1024`)\n",
        "\n",
        "\n",
        "Lembre-se: as **operações possuem precedência** (como na matemática), então na expressão `3 + 4 * 2` primeiro será computado `4 * 2`, para então o resultado ser somado a `3`, resultando em `11`. Você pode trocar a precedência utilizando parenteses, por exemplo: `(3 + 4) * 2` resulta em `14`."
      ]
    },
    {
      "cell_type": "markdown",
      "metadata": {
        "id": "LvCUrtWDqfA4"
      },
      "source": [
        "Assim como existem as strings (os textos), também há outros tipos de variáveis. Para descobrir qual é, basta digitar **type()**"
      ]
    },
    {
      "cell_type": "code",
      "metadata": {
        "colab": {
          "base_uri": "https://localhost:8080/"
        },
        "id": "ONo4GrD2qoWj",
        "outputId": "7b2aa512-d735-461b-d628-280702bb9dbc"
      },
      "source": [
        "type(2)\n"
      ],
      "execution_count": null,
      "outputs": [
        {
          "output_type": "execute_result",
          "data": {
            "text/plain": [
              "int"
            ]
          },
          "metadata": {},
          "execution_count": 11
        }
      ]
    },
    {
      "cell_type": "code",
      "metadata": {
        "colab": {
          "base_uri": "https://localhost:8080/"
        },
        "id": "ih7NgrAAqwFa",
        "outputId": "8d04797c-730a-4596-f68e-ea26c410fb32"
      },
      "source": [
        "type(41.0)\n"
      ],
      "execution_count": null,
      "outputs": [
        {
          "output_type": "execute_result",
          "data": {
            "text/plain": [
              "float"
            ]
          },
          "metadata": {},
          "execution_count": 14
        }
      ]
    },
    {
      "cell_type": "code",
      "metadata": {
        "colab": {
          "base_uri": "https://localhost:8080/"
        },
        "id": "agrdmyn6qxH1",
        "outputId": "c04cec27-bd5c-4746-e383-3eca712ab783"
      },
      "source": [
        "type('Hello, World!')"
      ],
      "execution_count": null,
      "outputs": [
        {
          "output_type": "execute_result",
          "data": {
            "text/plain": [
              "str"
            ]
          },
          "metadata": {},
          "execution_count": 13
        }
      ]
    },
    {
      "cell_type": "markdown",
      "metadata": {
        "id": "exTtyZ91rLQ4"
      },
      "source": [
        "#Dados Básicos\n",
        "\n",
        "**str** = string = texto (lembrando que numerais podem ser texto)\n",
        "\n",
        "**int** = inteiro = número inteiro\n",
        "\n",
        "**float** = número decimal (que é separado por vírgula = 2,9)\n",
        "\n",
        "**bool** = variáveis booleanas - retornam a resposta True ou False\n",
        "\n"
      ]
    },
    {
      "cell_type": "code",
      "metadata": {
        "colab": {
          "base_uri": "https://localhost:8080/"
        },
        "id": "dFd0OtbBsaT3",
        "outputId": "b5442bb5-c741-4043-bf49-f27f3f01e071"
      },
      "source": [
        "a = True\n",
        "print(type(a))"
      ],
      "execution_count": null,
      "outputs": [
        {
          "output_type": "stream",
          "name": "stdout",
          "text": [
            "<class 'bool'>\n"
          ]
        }
      ]
    },
    {
      "cell_type": "code",
      "metadata": {
        "colab": {
          "base_uri": "https://localhost:8080/"
        },
        "id": "f1Rp62_ksh-o",
        "outputId": "d044e691-5e00-445b-d3ad-f4feb6004dc4"
      },
      "source": [
        "a = 4 < 0\n",
        "print(a)"
      ],
      "execution_count": null,
      "outputs": [
        {
          "output_type": "stream",
          "name": "stdout",
          "text": [
            "False\n"
          ]
        }
      ]
    },
    {
      "cell_type": "code",
      "metadata": {
        "colab": {
          "base_uri": "https://localhost:8080/"
        },
        "id": "0H26DOwtsojR",
        "outputId": "33e3f05e-53d0-4d8e-c3e5-f8507fa1b597"
      },
      "source": [
        "x = y = 7\n",
        "print(x <= y and y <= x)"
      ],
      "execution_count": null,
      "outputs": [
        {
          "output_type": "stream",
          "name": "stdout",
          "text": [
            "True\n"
          ]
        }
      ]
    },
    {
      "cell_type": "code",
      "metadata": {
        "colab": {
          "base_uri": "https://localhost:8080/"
        },
        "id": "3ZtrHYKasyBl",
        "outputId": "88de3f56-e036-4eb7-85af-6f9822f699ba"
      },
      "source": [
        "b = \"abacate\" > \"banana\"  #No caso de strings, as variáveis booleanas são calculadas em ordem alfabética\n",
        "print(b)"
      ],
      "execution_count": null,
      "outputs": [
        {
          "output_type": "stream",
          "name": "stdout",
          "text": [
            "False\n"
          ]
        }
      ]
    },
    {
      "cell_type": "code",
      "metadata": {
        "colab": {
          "base_uri": "https://localhost:8080/"
        },
        "id": "p7LSKxOFs7a4",
        "outputId": "fa7b5211-7bab-4545-f5d2-b973d2107293"
      },
      "source": [
        "b = \"abacate\" < \"abacaxi\"\n",
        "print (b)"
      ],
      "execution_count": null,
      "outputs": [
        {
          "output_type": "stream",
          "name": "stdout",
          "text": [
            "True\n"
          ]
        }
      ]
    }
  ]
}