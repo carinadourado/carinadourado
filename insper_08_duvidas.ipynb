{
  "nbformat": 4,
  "nbformat_minor": 0,
  "metadata": {
    "colab": {
      "name": "insper_08_duvidas.ipynb",
      "provenance": [],
      "include_colab_link": true
    },
    "kernelspec": {
      "name": "python3",
      "display_name": "Python 3"
    },
    "language_info": {
      "name": "python"
    }
  },
  "cells": [
    {
      "cell_type": "markdown",
      "metadata": {
        "id": "view-in-github",
        "colab_type": "text"
      },
      "source": [
        "<a href=\"https://colab.research.google.com/github/carinadourado/carinadourado/blob/main/insper_08_duvidas.ipynb\" target=\"_parent\"><img src=\"https://colab.research.google.com/assets/colab-badge.svg\" alt=\"Open In Colab\"/></a>"
      ]
    },
    {
      "cell_type": "code",
      "metadata": {
        "id": "JDwushWW1maR"
      },
      "source": [
        ""
      ],
      "execution_count": null,
      "outputs": []
    },
    {
      "cell_type": "markdown",
      "metadata": {
        "id": "bsSv9BRz1-N7"
      },
      "source": [
        "Indique abaixo os exercícios nos quais você sentiu mais dificuldade (se possível, também especifique as partes do exercício que foram mais desafiadoras):\n",
        "\n",
        "Com todo o conteúdo, me sinto um pouco perdida de saber o que usar exatamente, o que é o mais fácil ou prático para chegar ao resultado.\n",
        "\n",
        "\n",
        "Tem algum conteúdo específico que você deseja rever na aula de reforço?\n",
        "\n",
        "\"Dicionários... acho difícil entender alguns pontos... como  os dicionários que são criados quando a gente usa o for … in… , também o método get() ... \n",
        "\"\n"
      ]
    },
    {
      "cell_type": "code",
      "metadata": {
        "id": "aK4_s_xV2pA0"
      },
      "source": [
        "registro_1 = {\n",
        "    \"nome\": \"Álvaro\",\n",
        "    \"sobrenome\": \"Justen\",\n",
        "    \"email\": \"AlvaroFAJ@insper.edu.br\",\n",
        "    \"municipio\": \"São Paulo\",\n",
        "    \"idade\": 34,\n",
        "    \"altura\": 1.85,\n",
        "}\n",
        "registro_2 = {\n",
        "    \"nome\": \"Carina\",\n",
        "    \"email\": \"carina@gmail.com\",\n",
        "    \"municipio\": \"Brasília\",\n",
        "    \"idade\": None,\n",
        "    \"altura\": None,\n",
        "}"
      ],
      "execution_count": null,
      "outputs": []
    },
    {
      "cell_type": "code",
      "metadata": {
        "colab": {
          "base_uri": "https://localhost:8080/"
        },
        "id": "iVvPX6ov4AiA",
        "outputId": "243f78c7-072a-4c88-c86d-7b81ff334980"
      },
      "source": [
        "print(f'{registro_1[\"nome\"]} {registro_1[\"sobrenome\"]}')"
      ],
      "execution_count": null,
      "outputs": [
        {
          "output_type": "stream",
          "name": "stdout",
          "text": [
            "Álvaro Justen\n"
          ]
        }
      ]
    },
    {
      "cell_type": "code",
      "metadata": {
        "colab": {
          "base_uri": "https://localhost:8080/"
        },
        "id": "HEO-MQRs4gHs",
        "outputId": "001afc43-ba03-4763-c1b3-03f096f40412"
      },
      "source": [
        "if \"sobrenome\" in registro_2:\n",
        "  print(f'{registro_2[\"nome\"]} {registro_2[\"sobrenome\"]}')\n",
        "else:\n",
        "  print(registro_2[\"nome\"])"
      ],
      "execution_count": null,
      "outputs": [
        {
          "output_type": "stream",
          "name": "stdout",
          "text": [
            "Carina\n"
          ]
        }
      ]
    },
    {
      "cell_type": "code",
      "metadata": {
        "colab": {
          "base_uri": "https://localhost:8080/"
        },
        "id": "nZw5pVxG4287",
        "outputId": "92e4a61e-6228-4d56-cd95-1e17ae5c0dc5"
      },
      "source": [
        "print(f'{registro_1[\"nome\"]} {registro_1.get(\"sobrenome\", \"(sobrenome não preenchido)\")}')\n",
        "print(f'{registro_2[\"nome\"]} {registro_2.get(\"sobrenome\", \"(sobrenome não preenchido)\")}')"
      ],
      "execution_count": null,
      "outputs": [
        {
          "output_type": "stream",
          "name": "stdout",
          "text": [
            "Álvaro Justen\n",
            "Carina (sobrenome não preenchido)\n"
          ]
        }
      ]
    },
    {
      "cell_type": "code",
      "metadata": {
        "colab": {
          "base_uri": "https://localhost:8080/"
        },
        "id": "C3HZduK65qKo",
        "outputId": "3b30c9d6-bca7-4e81-b894-1e5e7ca48cf0"
      },
      "source": [
        "traducao_en_pt = {\n",
        "    \"blue\": \"azul\",\n",
        "    \"yellow\": \"amarelo\",\n",
        "    \"light yellow\": \"amarelo\",\n",
        "}\n",
        "\n",
        "print(traducao_en_pt[\"blue\"])\n",
        "print(traducao_en_pt[\"yellow\"])\n",
        "print(traducao_en_pt[\"light yellow\"])\n",
        "\n",
        "traducao_pt_en = {}\n",
        "for chave, valor in traducao_en_pt.items():\n",
        "  traducao_pt_en[valor] = chave\n",
        "\n",
        "print(traducao_pt_en[\"azul\"])\n",
        "print(traducao_pt_en[\"amarelo\"])\n",
        "print(traducao_pt_en)"
      ],
      "execution_count": null,
      "outputs": [
        {
          "output_type": "stream",
          "name": "stdout",
          "text": [
            "azul\n",
            "amarelo\n",
            "amarelo\n",
            "blue\n",
            "light yellow\n",
            "{'azul': 'blue', 'amarelo': 'light yellow'}\n"
          ]
        }
      ]
    },
    {
      "cell_type": "code",
      "metadata": {
        "colab": {
          "base_uri": "https://localhost:8080/"
        },
        "id": "CPuH2jON6jn6",
        "outputId": "abe0d85c-d807-42f8-e5b4-e1fff5eff809"
      },
      "source": [
        "for batata in traducao_pt_en:\n",
        "  print(batata, traducao_pt_en[batata])"
      ],
      "execution_count": null,
      "outputs": [
        {
          "output_type": "stream",
          "name": "stdout",
          "text": [
            "azul blue\n",
            "amarelo light yellow\n"
          ]
        }
      ]
    },
    {
      "cell_type": "code",
      "metadata": {
        "colab": {
          "base_uri": "https://localhost:8080/"
        },
        "id": "o-KKb1c367yY",
        "outputId": "d8b6286c-c741-4ac9-f40b-bcc0bb60a606"
      },
      "source": [
        "pessoas = [registro_1, registro_2]\n",
        "# `pessoas` é uma lista de dicionários\n",
        "for pessoa in pessoas:\n",
        "  print(pessoa[\"nome\"])"
      ],
      "execution_count": null,
      "outputs": [
        {
          "output_type": "stream",
          "name": "stdout",
          "text": [
            "Álvaro\n",
            "Carina\n"
          ]
        }
      ]
    },
    {
      "cell_type": "code",
      "metadata": {
        "id": "WIVR1XXQ8W01"
      },
      "source": [
        "valor = \"R$ 1.234,56\"\n",
        "\n",
        "valor_float = valor.replace(\"R$ \", \"\").replace(\".\", \"\").replace(\",\", \".\")\n",
        "valor_float = float(valor_float)"
      ],
      "execution_count": null,
      "outputs": []
    },
    {
      "cell_type": "code",
      "metadata": {
        "colab": {
          "base_uri": "https://localhost:8080/"
        },
        "id": "6x-mZaKk9cOK",
        "outputId": "0ab48765-d255-4643-8296-e70fce63a11d"
      },
      "source": [
        "gasto = {\n",
        "    \"data\": \"01/01/2001\",\n",
        "    \"valor\": valor_float,\n",
        "    \"valor_original\": valor,\n",
        "}\n",
        "print(gasto)"
      ],
      "execution_count": null,
      "outputs": [
        {
          "output_type": "stream",
          "name": "stdout",
          "text": [
            "{'data': '01/01/2001', 'valor': 1234.56, 'valor_original': 'R$ 1.234,56'}\n"
          ]
        }
      ]
    },
    {
      "cell_type": "markdown",
      "metadata": {
        "id": "iv0KHxwY-FBp"
      },
      "source": [
        "Uma dúvida conceitual sobre definição de funções. \n",
        "\n",
        "\n",
        "Entendi que dá para definir uma função e chamá-la no código em outro momento para deixar o código mais limpo. Mas qual a real utilidade de definir uma função? De qualquer forma você vai ter que escrever o código e se for usar em outro momento vai ter que recriar a função. Certo? Ou ela fica armazenada no Python como uma biblioteca?\n",
        "\n",
        "Raspagem em sites com Json"
      ]
    },
    {
      "cell_type": "code",
      "metadata": {
        "id": "MElOHaz_AGMH"
      },
      "source": [
        "def converte_para_float(numero, inteiro=False, moeda=\"R$ \"):\n",
        "  \"\"\"Transforma string no formato 'R$ xxxx,xx' em float\"\"\"\n",
        "\n",
        "  valor_float = numero.replace(moeda, \"\").replace(\".\", \"\").replace(\",\", \".\")\n",
        "  valor_float = float(valor_float)\n",
        "  if inteiro:\n",
        "    valor_float = int(valor_float)\n",
        "  return valor_float"
      ],
      "execution_count": null,
      "outputs": []
    },
    {
      "cell_type": "code",
      "metadata": {
        "colab": {
          "base_uri": "https://localhost:8080/"
        },
        "id": "EulGPhH9AJ78",
        "outputId": "02318888-0e82-4e5a-a5e4-a210435ea3ad"
      },
      "source": [
        "print(converte_para_float(\"R$ 1.234,56\"))  # inteiro = False\n",
        "print(converte_para_float(\"R$ 1.234,56\", False))   # inteiro = False\n",
        "print(converte_para_float(\"R$ 1.234,56\", True))  # inteiro = True\n",
        "print(converte_para_float(\"Cr$ 1.234,56\", moeda=\"Cr$\"))  # inteiro = False, moeda = \"Cr$\""
      ],
      "execution_count": null,
      "outputs": [
        {
          "output_type": "stream",
          "name": "stdout",
          "text": [
            "1234.56\n",
            "1234.56\n",
            "1234\n",
            "1234.56\n"
          ]
        }
      ]
    },
    {
      "cell_type": "code",
      "metadata": {
        "id": "4o_gQx4XCsoI"
      },
      "source": [
        "def mostra_pessoa(pessoa):\n",
        "  print(f'{pessoa[\"nome\"]} {pessoa.get(\"sobrenome\", \"(sobrenome não especificado)\")} - {pessoa[\"email\"]} ({pessoa[\"municipio\"]})')\n",
        "  "
      ],
      "execution_count": null,
      "outputs": []
    },
    {
      "cell_type": "code",
      "metadata": {
        "colab": {
          "base_uri": "https://localhost:8080/"
        },
        "id": "XfjT4vzzEftR",
        "outputId": "6c79b16d-aa35-49fa-c793-962adc022a74"
      },
      "source": [
        "mostra_pessoa(registro_1)\n",
        "mostra_pessoa(registro_2)"
      ],
      "execution_count": null,
      "outputs": [
        {
          "output_type": "stream",
          "name": "stdout",
          "text": [
            "Álvaro Justen - AlvaroFAJ@insper.edu.br (São Paulo)\n",
            "Carina (sobrenome não especificado) - carina@gmail.com (Brasília)\n"
          ]
        }
      ]
    },
    {
      "cell_type": "code",
      "metadata": {
        "colab": {
          "base_uri": "https://localhost:8080/"
        },
        "id": "A4wgYBHmE8DK",
        "outputId": "a963b35d-9e99-432a-d58b-42012bd9d056"
      },
      "source": [
        "import datetime\n",
        "agora = datetime.datetime.now()\n",
        "\n",
        "print(agora)"
      ],
      "execution_count": null,
      "outputs": [
        {
          "output_type": "stream",
          "name": "stdout",
          "text": [
            "2021-09-30 23:40:01.902717\n"
          ]
        }
      ]
    },
    {
      "cell_type": "code",
      "metadata": {
        "colab": {
          "base_uri": "https://localhost:8080/"
        },
        "id": "7iFtoq_kFNlD",
        "outputId": "44ddb0f2-9a72-4ec6-b5a3-a3985a1ffd3d"
      },
      "source": [
        "valor = \"R$ 1.234,56\"\n",
        "\n",
        "valor_float_mensal = converte_para_float(valor)\n",
        "valor_float_anual = valor_float_mensal * 12\n",
        "print(f\"Você precisará pagar {valor_float_anual} por ano.\")"
      ],
      "execution_count": null,
      "outputs": [
        {
          "output_type": "stream",
          "name": "stdout",
          "text": [
            "Você precisará pagar 14814.72 por ano.\n"
          ]
        }
      ]
    },
    {
      "cell_type": "code",
      "metadata": {
        "id": "8BFHH9CCLnpg"
      },
      "source": [
        "import scrapy\n",
        "\n",
        "class BlogSpider(scrapy.Spider):\n",
        "    name = 'blogspider'\n",
        "    \n",
        "    def start_requests(self):\n",
        "      url = [\"https://blog.brasil.io/\", 'https://www.zyte.com/blog/']\n",
        "      for url in urls:\n",
        "        response = requests.get(url)\n",
        "\n",
        "    def parse(self, response):\n",
        "        for title in response.css('.oxy-post-title'):\n",
        "            yield {'title': title.css('::text').get()}\n",
        "\n",
        "        for next_page in response.css('a.next'):\n",
        "            yield response.follow(next_page, self.parse)"
      ],
      "execution_count": null,
      "outputs": []
    },
    {
      "cell_type": "markdown",
      "metadata": {
        "id": "HxwNlLIeKH4C"
      },
      "source": [
        "Não consegui compreender bem como devemos utlizar as classes e de que modo ela de fato ajuda a otimizar os programas."
      ]
    },
    {
      "cell_type": "markdown",
      "metadata": {
        "id": "xHJ4IdFDMhFW"
      },
      "source": [
        "Webscraping e funções"
      ]
    },
    {
      "cell_type": "markdown",
      "metadata": {
        "id": "xC3_ceTHMvAc"
      },
      "source": [
        "\"No código para automatizar links do Chat, estou com uma dúvida beeem básica do uso do \"\".lower()\"\" no seguinte trecho:\n",
        "\n",
        "HTTPS://WWW.SAUDE.GOV.BR/\n",
        "\n",
        "```python\n",
        "for palavra in palavras:\n",
        "      palavra = palavra.strip()\n",
        "      palavra_minuscula = palavra.lower()\n",
        "      if \"http://\" in palavra_minuscula or \"https://\" in palavra_minuscula or \"www.\" in palavra_minuscula or \".com\" in palavra_minuscula:\n",
        "        print(palavra)\n",
        "```\n",
        "\n",
        "Eu entendo que o \"\".lower()\"\" irá passar todos os caracteres do link para letra minúscula, mas eu não estou verificando o link inteiro, certo? Porque no IF eu informo apenas os trechos \"\"http://\"\" e \"\"https://\"\". Minha dúvida é: a normalização foi feita porque pode haver links em que  especificamente estes trechos (\"\"https:// e http://\"\") estarão com letra maiúscula?  \n",
        "\""
      ]
    },
    {
      "cell_type": "code",
      "metadata": {
        "colab": {
          "base_uri": "https://localhost:8080/"
        },
        "id": "ld4_0xWFOTZB",
        "outputId": "12ee58ea-df86-4158-cea7-b9fea28a5842"
      },
      "source": [
        "nomes = [\"álvaro justen\", \"erika yukari\"]\n",
        "for nome in nomes:\n",
        "  print(nome.title())"
      ],
      "execution_count": null,
      "outputs": [
        {
          "output_type": "stream",
          "name": "stdout",
          "text": [
            "Álvaro Justen\n",
            "Erika Yukari\n"
          ]
        }
      ]
    },
    {
      "cell_type": "code",
      "metadata": {
        "colab": {
          "base_uri": "https://localhost:8080/"
        },
        "id": "IhYKlyC8PBEX",
        "outputId": "89016605-3f8b-4327-dbc3-5ec623854f89"
      },
      "source": [
        "texto = \"\"\"APÓS PERDER O PRAZO DE RESPOSTA AO PEDIDO DE ACESSO À INFORMAÇÃO, REQUISITAR ADIAMENTO E PERDER O PRAZO DO ADIAMENTO, O MINISTÉRIO DA SAÚDE FINALMENTE RESPONDEU À NOSSA REQUISIÇÃO, NA QUAL QUESTIONAMOS OS PROBLEMAS DOS MICRODADOS DE VACINAÇÃO DISPONÍVEIS NO OPENDATASUS.\n",
        "\n",
        "DESDE FEVEREIRO ACOMPANHAMOS ESSA BASE DE DADOS, QUANDO ENTÃO INICIAMOS A PUBLICAÇÃO DE UMA VERSÃO “CORRIGIDA” DELA (COM DIVERSAS LIMPEZAS E MODIFICAÇÕES QUE FACILITAM A ANÁLISE). PORÉM, AO FAZER ANÁLISES EXPLORATÓRIAS NOS DEPARAMOS COM DIVERSOS PROBLEMAS (RELATADOS NO ARTIGO OS PROBLEMAS NOS MICRODADOS DE VACINAÇÃO) E CRIAMOS UM PEDIDO DE ACESSO À INFORMAÇÃO AO MINISTÉRIO DA SAÚDE, QUESTIONANDO E SOLICITANDO CORREÇÕES.\n",
        "\n",
        "O PEDIDO FOI CRIADO NO DIA 17 DE MAIO DE 2021 NA PLATAFORMA FALABR, MANTIDA PELA CONTROLADORIA GERAL DA UNIÃO E SÓ FOI RESPONDIDO NO DIA 12 DE JULHO, QUASE 2 MESES DEPOIS, APÓS A CRIAÇÃO DE UM RECURSO POR CONTA DO ATRASO. APESAR DA UTILIZAÇÃO DO FALABR, O PEDIDO TRAMITOU INTERNAMENTE PELO SISTEMA OUVIDORSUS, QUE MOSTRA QUE APENAS NO DIA 30 DE JUNHO (DEPOIS DE JÁ VENCIDO O PRAZO DO ADIAMENTO) O PEDIDO FOI ENCAMINHADO AO DEPARTAMENTO RESPONSÁVEL (DATASUS):\"\"\"\n",
        "\n",
        "frases = texto.split(\".\")\n",
        "resultado = []\n",
        "for frase in frases:\n",
        "  resultado.append(frase.strip().capitalize())\n",
        "texto_final = \".\\n\".join(resultado) + \".\"\n",
        "print(texto_final)"
      ],
      "execution_count": null,
      "outputs": [
        {
          "output_type": "stream",
          "name": "stdout",
          "text": [
            "Após perder o prazo de resposta ao pedido de acesso à informação, requisitar adiamento e perder o prazo do adiamento, o ministério da saúde finalmente respondeu à nossa requisição, na qual questionamos os problemas dos microdados de vacinação disponíveis no opendatasus.\n",
            "Desde fevereiro acompanhamos essa base de dados, quando então iniciamos a publicação de uma versão “corrigida” dela (com diversas limpezas e modificações que facilitam a análise).\n",
            "Porém, ao fazer análises exploratórias nos deparamos com diversos problemas (relatados no artigo os problemas nos microdados de vacinação) e criamos um pedido de acesso à informação ao ministério da saúde, questionando e solicitando correções.\n",
            "O pedido foi criado no dia 17 de maio de 2021 na plataforma falabr, mantida pela controladoria geral da união e só foi respondido no dia 12 de julho, quase 2 meses depois, após a criação de um recurso por conta do atraso.\n",
            "Apesar da utilização do falabr, o pedido tramitou internamente pelo sistema ouvidorsus, que mostra que apenas no dia 30 de junho (depois de já vencido o prazo do adiamento) o pedido foi encaminhado ao departamento responsável (datasus):.\n"
          ]
        }
      ]
    },
    {
      "cell_type": "code",
      "metadata": {
        "colab": {
          "base_uri": "https://localhost:8080/"
        },
        "id": "kFonCRoqQWdL",
        "outputId": "18b4c679-8b38-4f69-8ccd-2440ef172556"
      },
      "source": [
        "resultado = [\"Primeira frase\", \"Segunda frase\", \"Terceira frase\"]\n",
        "texto_final = \".\\n\".join(resultado) + \".\"\n",
        "print(texto_final)"
      ],
      "execution_count": null,
      "outputs": [
        {
          "output_type": "stream",
          "name": "stdout",
          "text": [
            "Primeira frase.\n",
            "Segunda frase.\n",
            "Terceira frase.\n"
          ]
        }
      ]
    },
    {
      "cell_type": "markdown",
      "metadata": {
        "id": "kxAgoVPuOIQc"
      },
      "source": [
        "Se possível, gostaria de ter uma explicação mais minuciosa do desafio 1, da aula 4 (automação dos links do chat + dicionário )"
      ]
    },
    {
      "cell_type": "markdown",
      "metadata": {
        "id": "g7pE20cmRBzS"
      },
      "source": [
        "Seria importante revisar o conteúdo das últimas 3 aulas \tSeria importante uma revisão das últimas 3 aulas e alguns exemplos que podem nos ajudar no trabalho final "
      ]
    },
    {
      "cell_type": "markdown",
      "metadata": {
        "id": "ZkgvH7mmRXex"
      },
      "source": [
        "Aplicar funções e criar classes\tExercício de raspagem - Lara"
      ]
    }
  ]
}