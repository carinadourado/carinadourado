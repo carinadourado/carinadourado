{
  "nbformat": 4,
  "nbformat_minor": 0,
  "metadata": {
    "colab": {
      "name": "aula_6_modelo_teachable_machine.ipynb",
      "provenance": [],
      "collapsed_sections": [],
      "include_colab_link": true
    },
    "kernelspec": {
      "name": "python3",
      "display_name": "Python 3"
    },
    "language_info": {
      "name": "python"
    }
  },
  "cells": [
    {
      "cell_type": "markdown",
      "metadata": {
        "id": "view-in-github",
        "colab_type": "text"
      },
      "source": [
        "<a href=\"https://colab.research.google.com/github/carinadourado/carinadourado/blob/main/machine_learning/aula_6_modelo_teachable_machine.ipynb\" target=\"_parent\"><img src=\"https://colab.research.google.com/assets/colab-badge.svg\" alt=\"Open In Colab\"/></a>"
      ]
    },
    {
      "cell_type": "markdown",
      "metadata": {
        "id": "CjtY0Y-1qmj7"
      },
      "source": [
        "<img src=\"https://www.insper.edu.br/wp-content/themes/insper/dist/image/logo.png\" width=\"80\">. \n",
        "\n",
        "## Machine Learning Aplicado ao Jornalismo\n",
        "Aula 6: Usando o [Teachable Machine](https://teachablemachine.withgoogle.com/) do Google para reconhecer a presença de pessoas em determinadas imagens.\n",
        "\n",
        "Este código presume que você já capturou uma grande quantidade de imagens. Para mais detalhes do experimento com a raspagem do Instagram, leia o outro notebook, disponibilizado no Blackboard (é necessário rodá-lo localmente)."
      ]
    },
    {
      "cell_type": "code",
      "metadata": {
        "colab": {
          "base_uri": "https://localhost:8080/"
        },
        "id": "HrRraiuSYbvL",
        "outputId": "5350b99d-b85d-41f1-db1b-d05f0a81f020"
      },
      "source": [
        "# Para facilitar o trabalho com arquivos, \"montamos\" o Google Drive desta forma:\n",
        "from google.colab import drive\n",
        "drive.mount('/content/gdrive')"
      ],
      "execution_count": null,
      "outputs": [
        {
          "output_type": "stream",
          "name": "stdout",
          "text": [
            "Mounted at /content/gdrive\n"
          ]
        }
      ]
    },
    {
      "cell_type": "code",
      "metadata": {
        "id": "voXd93LMdW9H"
      },
      "source": [
        "# Importamos as bibliotecas Keras (Uma biblioteca open-source de rede neural), que trabalha em cima do TensorFlow\n",
        "# PIL é uma biblioteca que faz diversas operações com imagens\n",
        "# Numpy é usada para representar e manipular elementos matemáticos como matrizes e \"data series\"\n",
        "\n",
        "from keras.models import load_model\n",
        "from PIL import Image, ImageOps\n",
        "import numpy as np\n",
        "\n",
        "# Carregamos o modelo que salvamos usando o https://teachablemachine.withgoogle.com/train/image\n",
        "model = load_model('/content/gdrive/MyDrive/Master em Jornalismo de Dados 2021/Machine Learning Aplicado ao Jornalismo/arquivos_notebook_ml_insta/keras_model.h5', compile=False)"
      ],
      "execution_count": null,
      "outputs": []
    },
    {
      "cell_type": "markdown",
      "metadata": {
        "id": "_XHlwa_qPt6L"
      },
      "source": [
        "Agora testamos o modelo com fotos armazenadas no Google Drive. \n",
        "\n",
        "📁 Navegue na barra lateral, clique na pasta onde estão as fotos e depois clique em . . . ➡️ `\"Copiar caminho\"`. Este é o endereço que você usará no código seguinte.  "
      ]
    },
    {
      "cell_type": "code",
      "metadata": {
        "colab": {
          "base_uri": "https://localhost:8080/"
        },
        "id": "XBY5cJ1mXD3y",
        "outputId": "70262e9e-4774-4b03-910e-d513cc2ec961"
      },
      "source": [
        "# Criamos uma matriz de 3 dimensões, de 224x224 para armazenar a foto. O primeiro número é a quantidade de imagens. \n",
        "data = np.ndarray(shape=(1, 224, 224, 3), dtype=np.float32)\n",
        "\n",
        "# Abrimos a imagem (lembre de mudar o caminho para o endereço da imagem no seu drive, ou em algum lugar na web)\n",
        "caminho = '/content/gdrive/MyDrive/Master em Jornalismo de Dados 2021/Machine Learning Aplicado ao Jornalismo/arquivos_notebook_ml_insta/imagens/minfraestrutura_84.jpeg'\n",
        "image = Image.open(caminho)\n",
        "\n",
        "# Convertemos a imagem para \"RGB\"\n",
        "image = image.convert('RGB')\n",
        "\n",
        "# Depois mudamos o seu tamanho para 224x224 pixels, e recortando o centro para ficar um quadrado\n",
        "size = (224, 224)\n",
        "image = ImageOps.fit(image, size, Image.ANTIALIAS)\n",
        "\n",
        "# Transformamos a imagem em uma matriz do Numpy\n",
        "image_array = np.asarray(image)\n",
        "\n",
        "# Normalizamos a imagem\n",
        "normalized_image_array = (image_array.astype(np.float32) / 127.0) - 1\n",
        "\n",
        "# Colocamos a imagem na matriz criada no início\n",
        "data[0] = normalized_image_array\n",
        "\n",
        "# Rodamos o modelo\n",
        "prediction = model.predict(data)\n",
        "print(prediction)\n"
      ],
      "execution_count": null,
      "outputs": [
        {
          "output_type": "stream",
          "name": "stdout",
          "text": [
            "[[6.9890276e-04 9.9930108e-01]]\n"
          ]
        }
      ]
    },
    {
      "cell_type": "markdown",
      "metadata": {
        "id": "539bd1_XcAOj"
      },
      "source": [
        "O Que esta \"previsão\" significa? Olhando a imagem em questão:\n",
        "\n",
        "\n",
        "\n",
        "![](https://drive.google.com/uc?id=1FX5sD2dmrZVsIqX64-D8geggIBFMtZHl)\n",
        "\n",
        "O preditor estimou que o a chance de a imagem ser da categoria \"0\" (Tarcisio) era significativamente maior do que a de ser não-Tarcisio \"1\". Como há apenas duas categorias, o preditor irá dar o resultado em forma de matriz com dois elementos. O primeiro é a chance para a categoria 0, o segundo é a categoria 1"
      ]
    },
    {
      "cell_type": "code",
      "metadata": {
        "colab": {
          "base_uri": "https://localhost:8080/"
        },
        "id": "MwmpehHjfAKa",
        "outputId": "908abfa2-f2ba-461e-9e89-9cb1215e2065"
      },
      "source": [
        "# Uma maneira de simplificar o código é usar esta função.\n",
        "# Ela já diz qual é a categoria com maior probabilidade, de acordo com o preditor\n",
        "np.argmax(prediction)"
      ],
      "execution_count": null,
      "outputs": [
        {
          "output_type": "execute_result",
          "data": {
            "text/plain": [
              "1"
            ]
          },
          "metadata": {},
          "execution_count": 4
        }
      ]
    },
    {
      "cell_type": "code",
      "metadata": {
        "id": "r2qd33jYOvXF"
      },
      "source": [
        "# Agora fazemos um loop para rodar o preditor em cada uma das imagens\n",
        "resultados = {0: \"Ministro\", 1: \"Outras imagens\"}\n",
        "\n",
        "def predict_ministro(imagem):\n",
        "  data = np.ndarray(shape=(1, 224, 224, 3), dtype=np.float32)\n",
        "  image = Image.open(imagem)\n",
        "  image = image.convert('RGB')\n",
        "  size = (224, 224)\n",
        "  image = ImageOps.fit(image, size, Image.ANTIALIAS)\n",
        "  image_array = np.asarray(image)\n",
        "  normalized_image_array = (image_array.astype(np.float32) / 127.0) - 1\n",
        "  data[0] = normalized_image_array\n",
        "  prediction = model.predict(data)\n",
        "  categoria = np.argmax(prediction)\n",
        "  arquivo = imagem.split(\"/\")[-1] # Pegamos só o nome do arquivo, não o caminho completo\n",
        "  dicio = {\"resultado\": resultados[categoria], \"imagem\": arquivo, \"confiança\": prediction.max()}\n",
        "  return dicio"
      ],
      "execution_count": null,
      "outputs": []
    },
    {
      "cell_type": "code",
      "metadata": {
        "colab": {
          "base_uri": "https://localhost:8080/"
        },
        "id": "34U7962EfkDs",
        "outputId": "cb09e548-1873-4615-f872-9cd0b66fab3d"
      },
      "source": [
        "# Testamos a função com uma imagem\n",
        "predict_ministro(\"/content/gdrive/MyDrive/Master em Jornalismo de Dados 2021/Machine Learning Aplicado ao Jornalismo/arquivos_notebook_ml_insta/imagens/minfraestrutura_79.jpeg\")"
      ],
      "execution_count": null,
      "outputs": [
        {
          "output_type": "execute_result",
          "data": {
            "text/plain": [
              "{'confiança': 0.86160314,\n",
              " 'imagem': 'minfraestrutura_79.jpeg',\n",
              " 'resultado': 'Ministro'}"
            ]
          },
          "metadata": {},
          "execution_count": 6
        }
      ]
    },
    {
      "cell_type": "code",
      "metadata": {
        "id": "Ag5EvGdgf6Bu"
      },
      "source": [
        "# Agora criamos um loop. O endereço das imagens é igual salvo o número antes do .jpeg\n",
        "dados = []\n",
        "for i in range(1,109):\n",
        "  img = f'/content/gdrive/MyDrive/Master em Jornalismo de Dados 2021/Machine Learning Aplicado ao Jornalismo/arquivos_notebook_ml_insta/imagens/minfraestrutura_{i}.jpeg'\n",
        "  predicao = predict_ministro(img)\n",
        "  dados.append(predicao)"
      ],
      "execution_count": null,
      "outputs": []
    },
    {
      "cell_type": "code",
      "metadata": {
        "colab": {
          "base_uri": "https://localhost:8080/"
        },
        "id": "39hfPmAPgrFI",
        "outputId": "e89222dd-f33b-425b-da9b-363020eec015"
      },
      "source": [
        "dados"
      ],
      "execution_count": null,
      "outputs": [
        {
          "output_type": "execute_result",
          "data": {
            "text/plain": [
              "[{'confiança': 0.9999701,\n",
              "  'imagem': 'minfraestrutura_1.jpeg',\n",
              "  'resultado': 'Ministro'},\n",
              " {'confiança': 0.9991399,\n",
              "  'imagem': 'minfraestrutura_2.jpeg',\n",
              "  'resultado': 'Outras imagens'},\n",
              " {'confiança': 0.85392046,\n",
              "  'imagem': 'minfraestrutura_3.jpeg',\n",
              "  'resultado': 'Outras imagens'},\n",
              " {'confiança': 0.99999654,\n",
              "  'imagem': 'minfraestrutura_4.jpeg',\n",
              "  'resultado': 'Outras imagens'},\n",
              " {'confiança': 0.9989095,\n",
              "  'imagem': 'minfraestrutura_5.jpeg',\n",
              "  'resultado': 'Ministro'},\n",
              " {'confiança': 0.99996173,\n",
              "  'imagem': 'minfraestrutura_6.jpeg',\n",
              "  'resultado': 'Outras imagens'},\n",
              " {'confiança': 0.99995303,\n",
              "  'imagem': 'minfraestrutura_7.jpeg',\n",
              "  'resultado': 'Ministro'},\n",
              " {'confiança': 0.961404,\n",
              "  'imagem': 'minfraestrutura_8.jpeg',\n",
              "  'resultado': 'Ministro'},\n",
              " {'confiança': 0.99974054,\n",
              "  'imagem': 'minfraestrutura_9.jpeg',\n",
              "  'resultado': 'Outras imagens'},\n",
              " {'confiança': 0.9995696,\n",
              "  'imagem': 'minfraestrutura_10.jpeg',\n",
              "  'resultado': 'Ministro'},\n",
              " {'confiança': 0.99959844,\n",
              "  'imagem': 'minfraestrutura_11.jpeg',\n",
              "  'resultado': 'Outras imagens'},\n",
              " {'confiança': 0.9980209,\n",
              "  'imagem': 'minfraestrutura_12.jpeg',\n",
              "  'resultado': 'Outras imagens'},\n",
              " {'confiança': 0.99898,\n",
              "  'imagem': 'minfraestrutura_13.jpeg',\n",
              "  'resultado': 'Ministro'},\n",
              " {'confiança': 0.99998975,\n",
              "  'imagem': 'minfraestrutura_14.jpeg',\n",
              "  'resultado': 'Outras imagens'},\n",
              " {'confiança': 0.9998319,\n",
              "  'imagem': 'minfraestrutura_15.jpeg',\n",
              "  'resultado': 'Ministro'},\n",
              " {'confiança': 0.9939221,\n",
              "  'imagem': 'minfraestrutura_16.jpeg',\n",
              "  'resultado': 'Outras imagens'},\n",
              " {'confiança': 0.99980146,\n",
              "  'imagem': 'minfraestrutura_17.jpeg',\n",
              "  'resultado': 'Ministro'},\n",
              " {'confiança': 0.99980694,\n",
              "  'imagem': 'minfraestrutura_18.jpeg',\n",
              "  'resultado': 'Ministro'},\n",
              " {'confiança': 0.999985,\n",
              "  'imagem': 'minfraestrutura_19.jpeg',\n",
              "  'resultado': 'Ministro'},\n",
              " {'confiança': 0.9998491,\n",
              "  'imagem': 'minfraestrutura_20.jpeg',\n",
              "  'resultado': 'Ministro'},\n",
              " {'confiança': 0.9993205,\n",
              "  'imagem': 'minfraestrutura_21.jpeg',\n",
              "  'resultado': 'Ministro'},\n",
              " {'confiança': 0.9998859,\n",
              "  'imagem': 'minfraestrutura_22.jpeg',\n",
              "  'resultado': 'Outras imagens'},\n",
              " {'confiança': 0.98301816,\n",
              "  'imagem': 'minfraestrutura_23.jpeg',\n",
              "  'resultado': 'Outras imagens'},\n",
              " {'confiança': 0.99879956,\n",
              "  'imagem': 'minfraestrutura_24.jpeg',\n",
              "  'resultado': 'Ministro'},\n",
              " {'confiança': 0.9997173,\n",
              "  'imagem': 'minfraestrutura_25.jpeg',\n",
              "  'resultado': 'Ministro'},\n",
              " {'confiança': 0.99999034,\n",
              "  'imagem': 'minfraestrutura_26.jpeg',\n",
              "  'resultado': 'Outras imagens'},\n",
              " {'confiança': 0.9999769,\n",
              "  'imagem': 'minfraestrutura_27.jpeg',\n",
              "  'resultado': 'Ministro'},\n",
              " {'confiança': 0.99999917,\n",
              "  'imagem': 'minfraestrutura_28.jpeg',\n",
              "  'resultado': 'Outras imagens'},\n",
              " {'confiança': 0.9995485,\n",
              "  'imagem': 'minfraestrutura_29.jpeg',\n",
              "  'resultado': 'Outras imagens'},\n",
              " {'confiança': 0.99961984,\n",
              "  'imagem': 'minfraestrutura_30.jpeg',\n",
              "  'resultado': 'Outras imagens'},\n",
              " {'confiança': 0.9999229,\n",
              "  'imagem': 'minfraestrutura_31.jpeg',\n",
              "  'resultado': 'Ministro'},\n",
              " {'confiança': 0.99997556,\n",
              "  'imagem': 'minfraestrutura_32.jpeg',\n",
              "  'resultado': 'Outras imagens'},\n",
              " {'confiança': 0.99971,\n",
              "  'imagem': 'minfraestrutura_33.jpeg',\n",
              "  'resultado': 'Ministro'},\n",
              " {'confiança': 0.9989838,\n",
              "  'imagem': 'minfraestrutura_34.jpeg',\n",
              "  'resultado': 'Outras imagens'},\n",
              " {'confiança': 0.9999968,\n",
              "  'imagem': 'minfraestrutura_35.jpeg',\n",
              "  'resultado': 'Outras imagens'},\n",
              " {'confiança': 0.9998629,\n",
              "  'imagem': 'minfraestrutura_36.jpeg',\n",
              "  'resultado': 'Outras imagens'},\n",
              " {'confiança': 0.98910284,\n",
              "  'imagem': 'minfraestrutura_37.jpeg',\n",
              "  'resultado': 'Outras imagens'},\n",
              " {'confiança': 0.99994683,\n",
              "  'imagem': 'minfraestrutura_38.jpeg',\n",
              "  'resultado': 'Outras imagens'},\n",
              " {'confiança': 0.9887107,\n",
              "  'imagem': 'minfraestrutura_39.jpeg',\n",
              "  'resultado': 'Outras imagens'},\n",
              " {'confiança': 0.99993265,\n",
              "  'imagem': 'minfraestrutura_40.jpeg',\n",
              "  'resultado': 'Outras imagens'},\n",
              " {'confiança': 0.99927133,\n",
              "  'imagem': 'minfraestrutura_41.jpeg',\n",
              "  'resultado': 'Outras imagens'},\n",
              " {'confiança': 0.99899584,\n",
              "  'imagem': 'minfraestrutura_42.jpeg',\n",
              "  'resultado': 'Ministro'},\n",
              " {'confiança': 0.9998857,\n",
              "  'imagem': 'minfraestrutura_43.jpeg',\n",
              "  'resultado': 'Ministro'},\n",
              " {'confiança': 0.99965847,\n",
              "  'imagem': 'minfraestrutura_44.jpeg',\n",
              "  'resultado': 'Outras imagens'},\n",
              " {'confiança': 0.9999616,\n",
              "  'imagem': 'minfraestrutura_45.jpeg',\n",
              "  'resultado': 'Outras imagens'},\n",
              " {'confiança': 0.9999927,\n",
              "  'imagem': 'minfraestrutura_46.jpeg',\n",
              "  'resultado': 'Outras imagens'},\n",
              " {'confiança': 0.99888617,\n",
              "  'imagem': 'minfraestrutura_47.jpeg',\n",
              "  'resultado': 'Ministro'},\n",
              " {'confiança': 0.9998667,\n",
              "  'imagem': 'minfraestrutura_48.jpeg',\n",
              "  'resultado': 'Ministro'},\n",
              " {'confiança': 0.98508203,\n",
              "  'imagem': 'minfraestrutura_49.jpeg',\n",
              "  'resultado': 'Ministro'},\n",
              " {'confiança': 0.99957997,\n",
              "  'imagem': 'minfraestrutura_50.jpeg',\n",
              "  'resultado': 'Outras imagens'},\n",
              " {'confiança': 0.99839777,\n",
              "  'imagem': 'minfraestrutura_51.jpeg',\n",
              "  'resultado': 'Ministro'},\n",
              " {'confiança': 0.9994025,\n",
              "  'imagem': 'minfraestrutura_52.jpeg',\n",
              "  'resultado': 'Ministro'},\n",
              " {'confiança': 0.99581957,\n",
              "  'imagem': 'minfraestrutura_53.jpeg',\n",
              "  'resultado': 'Outras imagens'},\n",
              " {'confiança': 0.7046502,\n",
              "  'imagem': 'minfraestrutura_54.jpeg',\n",
              "  'resultado': 'Outras imagens'},\n",
              " {'confiança': 0.9999863,\n",
              "  'imagem': 'minfraestrutura_55.jpeg',\n",
              "  'resultado': 'Outras imagens'},\n",
              " {'confiança': 0.98927325,\n",
              "  'imagem': 'minfraestrutura_56.jpeg',\n",
              "  'resultado': 'Ministro'},\n",
              " {'confiança': 0.9978417,\n",
              "  'imagem': 'minfraestrutura_57.jpeg',\n",
              "  'resultado': 'Outras imagens'},\n",
              " {'confiança': 0.98598236,\n",
              "  'imagem': 'minfraestrutura_58.jpeg',\n",
              "  'resultado': 'Ministro'},\n",
              " {'confiança': 0.98508203,\n",
              "  'imagem': 'minfraestrutura_59.jpeg',\n",
              "  'resultado': 'Ministro'},\n",
              " {'confiança': 0.99989736,\n",
              "  'imagem': 'minfraestrutura_60.jpeg',\n",
              "  'resultado': 'Outras imagens'},\n",
              " {'confiança': 0.99999857,\n",
              "  'imagem': 'minfraestrutura_61.jpeg',\n",
              "  'resultado': 'Outras imagens'},\n",
              " {'confiança': 0.98159385,\n",
              "  'imagem': 'minfraestrutura_62.jpeg',\n",
              "  'resultado': 'Ministro'},\n",
              " {'confiança': 0.99774075,\n",
              "  'imagem': 'minfraestrutura_63.jpeg',\n",
              "  'resultado': 'Outras imagens'},\n",
              " {'confiança': 0.99685895,\n",
              "  'imagem': 'minfraestrutura_64.jpeg',\n",
              "  'resultado': 'Outras imagens'},\n",
              " {'confiança': 0.99997914,\n",
              "  'imagem': 'minfraestrutura_65.jpeg',\n",
              "  'resultado': 'Outras imagens'},\n",
              " {'confiança': 0.54699415,\n",
              "  'imagem': 'minfraestrutura_66.jpeg',\n",
              "  'resultado': 'Outras imagens'},\n",
              " {'confiança': 0.98041075,\n",
              "  'imagem': 'minfraestrutura_67.jpeg',\n",
              "  'resultado': 'Outras imagens'},\n",
              " {'confiança': 0.9999671,\n",
              "  'imagem': 'minfraestrutura_68.jpeg',\n",
              "  'resultado': 'Outras imagens'},\n",
              " {'confiança': 0.97843057,\n",
              "  'imagem': 'minfraestrutura_69.jpeg',\n",
              "  'resultado': 'Outras imagens'},\n",
              " {'confiança': 0.99932516,\n",
              "  'imagem': 'minfraestrutura_70.jpeg',\n",
              "  'resultado': 'Outras imagens'},\n",
              " {'confiança': 0.99955124,\n",
              "  'imagem': 'minfraestrutura_71.jpeg',\n",
              "  'resultado': 'Ministro'},\n",
              " {'confiança': 0.99588746,\n",
              "  'imagem': 'minfraestrutura_72.jpeg',\n",
              "  'resultado': 'Outras imagens'},\n",
              " {'confiança': 0.9989115,\n",
              "  'imagem': 'minfraestrutura_73.jpeg',\n",
              "  'resultado': 'Outras imagens'},\n",
              " {'confiança': 0.9998653,\n",
              "  'imagem': 'minfraestrutura_74.jpeg',\n",
              "  'resultado': 'Outras imagens'},\n",
              " {'confiança': 0.8713928,\n",
              "  'imagem': 'minfraestrutura_75.jpeg',\n",
              "  'resultado': 'Ministro'},\n",
              " {'confiança': 0.99906474,\n",
              "  'imagem': 'minfraestrutura_76.jpeg',\n",
              "  'resultado': 'Outras imagens'},\n",
              " {'confiança': 0.9989114,\n",
              "  'imagem': 'minfraestrutura_77.jpeg',\n",
              "  'resultado': 'Outras imagens'},\n",
              " {'confiança': 0.9976909,\n",
              "  'imagem': 'minfraestrutura_78.jpeg',\n",
              "  'resultado': 'Outras imagens'},\n",
              " {'confiança': 0.86160314,\n",
              "  'imagem': 'minfraestrutura_79.jpeg',\n",
              "  'resultado': 'Ministro'},\n",
              " {'confiança': 0.99478275,\n",
              "  'imagem': 'minfraestrutura_80.jpeg',\n",
              "  'resultado': 'Ministro'},\n",
              " {'confiança': 0.9996476,\n",
              "  'imagem': 'minfraestrutura_81.jpeg',\n",
              "  'resultado': 'Ministro'},\n",
              " {'confiança': 0.9999238,\n",
              "  'imagem': 'minfraestrutura_82.jpeg',\n",
              "  'resultado': 'Outras imagens'},\n",
              " {'confiança': 0.99804115,\n",
              "  'imagem': 'minfraestrutura_83.jpeg',\n",
              "  'resultado': 'Ministro'},\n",
              " {'confiança': 0.9993011,\n",
              "  'imagem': 'minfraestrutura_84.jpeg',\n",
              "  'resultado': 'Outras imagens'},\n",
              " {'confiança': 0.99990904,\n",
              "  'imagem': 'minfraestrutura_85.jpeg',\n",
              "  'resultado': 'Outras imagens'},\n",
              " {'confiança': 0.99983776,\n",
              "  'imagem': 'minfraestrutura_86.jpeg',\n",
              "  'resultado': 'Ministro'},\n",
              " {'confiança': 0.96064395,\n",
              "  'imagem': 'minfraestrutura_87.jpeg',\n",
              "  'resultado': 'Outras imagens'},\n",
              " {'confiança': 0.9996189,\n",
              "  'imagem': 'minfraestrutura_88.jpeg',\n",
              "  'resultado': 'Outras imagens'},\n",
              " {'confiança': 0.9997403,\n",
              "  'imagem': 'minfraestrutura_89.jpeg',\n",
              "  'resultado': 'Ministro'},\n",
              " {'confiança': 0.99999845,\n",
              "  'imagem': 'minfraestrutura_90.jpeg',\n",
              "  'resultado': 'Outras imagens'},\n",
              " {'confiança': 0.9530219,\n",
              "  'imagem': 'minfraestrutura_91.jpeg',\n",
              "  'resultado': 'Ministro'},\n",
              " {'confiança': 0.76346385,\n",
              "  'imagem': 'minfraestrutura_92.jpeg',\n",
              "  'resultado': 'Ministro'},\n",
              " {'confiança': 0.97664684,\n",
              "  'imagem': 'minfraestrutura_93.jpeg',\n",
              "  'resultado': 'Ministro'},\n",
              " {'confiança': 0.9981629,\n",
              "  'imagem': 'minfraestrutura_94.jpeg',\n",
              "  'resultado': 'Outras imagens'},\n",
              " {'confiança': 0.99669904,\n",
              "  'imagem': 'minfraestrutura_95.jpeg',\n",
              "  'resultado': 'Outras imagens'},\n",
              " {'confiança': 0.9947673,\n",
              "  'imagem': 'minfraestrutura_96.jpeg',\n",
              "  'resultado': 'Outras imagens'},\n",
              " {'confiança': 0.9738011,\n",
              "  'imagem': 'minfraestrutura_97.jpeg',\n",
              "  'resultado': 'Outras imagens'},\n",
              " {'confiança': 0.9705321,\n",
              "  'imagem': 'minfraestrutura_98.jpeg',\n",
              "  'resultado': 'Outras imagens'},\n",
              " {'confiança': 0.9999453,\n",
              "  'imagem': 'minfraestrutura_99.jpeg',\n",
              "  'resultado': 'Outras imagens'},\n",
              " {'confiança': 0.99981934,\n",
              "  'imagem': 'minfraestrutura_100.jpeg',\n",
              "  'resultado': 'Outras imagens'},\n",
              " {'confiança': 0.5036182,\n",
              "  'imagem': 'minfraestrutura_101.jpeg',\n",
              "  'resultado': 'Ministro'},\n",
              " {'confiança': 0.9988825,\n",
              "  'imagem': 'minfraestrutura_102.jpeg',\n",
              "  'resultado': 'Outras imagens'},\n",
              " {'confiança': 0.8149634,\n",
              "  'imagem': 'minfraestrutura_103.jpeg',\n",
              "  'resultado': 'Ministro'},\n",
              " {'confiança': 0.99695885,\n",
              "  'imagem': 'minfraestrutura_104.jpeg',\n",
              "  'resultado': 'Outras imagens'},\n",
              " {'confiança': 0.99750584,\n",
              "  'imagem': 'minfraestrutura_105.jpeg',\n",
              "  'resultado': 'Outras imagens'},\n",
              " {'confiança': 0.98951936,\n",
              "  'imagem': 'minfraestrutura_106.jpeg',\n",
              "  'resultado': 'Outras imagens'},\n",
              " {'confiança': 0.9919084,\n",
              "  'imagem': 'minfraestrutura_107.jpeg',\n",
              "  'resultado': 'Outras imagens'},\n",
              " {'confiança': 0.9999417,\n",
              "  'imagem': 'minfraestrutura_108.jpeg',\n",
              "  'resultado': 'Outras imagens'}]"
            ]
          },
          "metadata": {},
          "execution_count": 8
        }
      ]
    },
    {
      "cell_type": "code",
      "metadata": {
        "id": "SITkB4nUiGs7"
      },
      "source": [
        "# Criamos um dataframe para ficar mais fácil enxergar os dados\n",
        "import pandas as pd\n",
        "\n",
        "df = pd.DataFrame(dados)"
      ],
      "execution_count": null,
      "outputs": []
    },
    {
      "cell_type": "code",
      "metadata": {
        "colab": {
          "base_uri": "https://localhost:8080/"
        },
        "id": "XlZtN4OHiZHr",
        "outputId": "2804b60b-ae7a-4d54-9696-0953ae8996df"
      },
      "source": [
        "# E este é o resultado da nossa investigação\n",
        "df['resultado'].value_counts()"
      ],
      "execution_count": null,
      "outputs": [
        {
          "output_type": "execute_result",
          "data": {
            "text/plain": [
              "Outras imagens    67\n",
              "Ministro          41\n",
              "Name: resultado, dtype: int64"
            ]
          },
          "metadata": {},
          "execution_count": 10
        }
      ]
    },
    {
      "cell_type": "code",
      "metadata": {
        "colab": {
          "base_uri": "https://localhost:8080/",
          "height": 17
        },
        "id": "zV00WGVbnS4y",
        "outputId": "9f80c72c-aa5e-4fe5-95cf-bc52066d1fa8"
      },
      "source": [
        "# Agora baixamos os dados para checar manualmente se o modelo está prevendo bem.\n",
        "from google.colab import files\n",
        "\n",
        "df.to_csv(\"resultados_tarcisio.csv\")\n",
        "files.download('resultados_tarcisio.csv')"
      ],
      "execution_count": null,
      "outputs": [
        {
          "output_type": "display_data",
          "data": {
            "application/javascript": [
              "\n",
              "    async function download(id, filename, size) {\n",
              "      if (!google.colab.kernel.accessAllowed) {\n",
              "        return;\n",
              "      }\n",
              "      const div = document.createElement('div');\n",
              "      const label = document.createElement('label');\n",
              "      label.textContent = `Downloading \"${filename}\": `;\n",
              "      div.appendChild(label);\n",
              "      const progress = document.createElement('progress');\n",
              "      progress.max = size;\n",
              "      div.appendChild(progress);\n",
              "      document.body.appendChild(div);\n",
              "\n",
              "      const buffers = [];\n",
              "      let downloaded = 0;\n",
              "\n",
              "      const channel = await google.colab.kernel.comms.open(id);\n",
              "      // Send a message to notify the kernel that we're ready.\n",
              "      channel.send({})\n",
              "\n",
              "      for await (const message of channel.messages) {\n",
              "        // Send a message to notify the kernel that we're ready.\n",
              "        channel.send({})\n",
              "        if (message.buffers) {\n",
              "          for (const buffer of message.buffers) {\n",
              "            buffers.push(buffer);\n",
              "            downloaded += buffer.byteLength;\n",
              "            progress.value = downloaded;\n",
              "          }\n",
              "        }\n",
              "      }\n",
              "      const blob = new Blob(buffers, {type: 'application/binary'});\n",
              "      const a = document.createElement('a');\n",
              "      a.href = window.URL.createObjectURL(blob);\n",
              "      a.download = filename;\n",
              "      div.appendChild(a);\n",
              "      a.click();\n",
              "      div.remove();\n",
              "    }\n",
              "  "
            ],
            "text/plain": [
              "<IPython.core.display.Javascript object>"
            ]
          },
          "metadata": {}
        },
        {
          "output_type": "display_data",
          "data": {
            "application/javascript": [
              "download(\"download_586fdfc2-3939-47a6-9740-0ee666dbc190\", \"resultados_tarcisio.csv\", 41137)"
            ],
            "text/plain": [
              "<IPython.core.display.Javascript object>"
            ]
          },
          "metadata": {}
        }
      ]
    },
    {
      "cell_type": "code",
      "metadata": {
        "id": "HKdYF6RQnV3o"
      },
      "source": [
        ""
      ],
      "execution_count": null,
      "outputs": []
    }
  ]
}