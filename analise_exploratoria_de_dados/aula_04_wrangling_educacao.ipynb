{
  "nbformat": 4,
  "nbformat_minor": 0,
  "metadata": {
    "colab": {
      "name": "Aula - Master - Wrangling - Educação - 25/08.ipynb",
      "provenance": [],
      "collapsed_sections": [],
      "include_colab_link": true
    },
    "kernelspec": {
      "name": "python3",
      "display_name": "Python 3"
    },
    "language_info": {
      "name": "python"
    }
  },
  "cells": [
    {
      "cell_type": "markdown",
      "metadata": {
        "id": "view-in-github",
        "colab_type": "text"
      },
      "source": [
        "<a href=\"https://colab.research.google.com/github/carinadourado/carinadourado/blob/main/analise_exploratoria_de_dados/aula_04_wrangling_educacao.ipynb\" target=\"_parent\"><img src=\"https://colab.research.google.com/assets/colab-badge.svg\" alt=\"Open In Colab\"/></a>"
      ]
    },
    {
      "cell_type": "code",
      "metadata": {
        "id": "wZr6maRhqFDD"
      },
      "source": [
        ""
      ],
      "execution_count": null,
      "outputs": []
    },
    {
      "cell_type": "markdown",
      "metadata": {
        "id": "TvRrxMO1qv6Y"
      },
      "source": [
        "# Data Wrangling com dados de educação do Banco Mundial"
      ]
    },
    {
      "cell_type": "code",
      "metadata": {
        "id": "z7HChI-qqyyF"
      },
      "source": [
        ""
      ],
      "execution_count": null,
      "outputs": []
    },
    {
      "cell_type": "markdown",
      "metadata": {
        "id": "B25rK1SsqzZt"
      },
      "source": [
        "### Instalando o que vamos precisar"
      ]
    },
    {
      "cell_type": "code",
      "metadata": {
        "id": "g_cFshS2q1oa"
      },
      "source": [
        "!pip install geopandas mapclassify quickda \n",
        "### Geopandas - biblioteca para trabalhar com dados geo\n",
        "### mapclassify - para trabalhar com mapas temáticos\n",
        "### quickda - biblioteca para acelerar as atividades de analise exploratoria"
      ],
      "execution_count": null,
      "outputs": []
    },
    {
      "cell_type": "code",
      "metadata": {
        "id": "PuW_me8argnV"
      },
      "source": [
        ""
      ],
      "execution_count": null,
      "outputs": []
    },
    {
      "cell_type": "markdown",
      "metadata": {
        "id": "rifOypZArrCs"
      },
      "source": [
        "# importar os dados"
      ]
    },
    {
      "cell_type": "code",
      "metadata": {
        "id": "7T-ZK94Brrym"
      },
      "source": [
        "import pandas as pd "
      ],
      "execution_count": null,
      "outputs": []
    },
    {
      "cell_type": "code",
      "metadata": {
        "id": "yj9UXLB9rtiI"
      },
      "source": [
        "dados = pd.read_csv('https://s3.amazonaws.com/datascope-ast-datasets-nov29/datasets/53/data.csv')"
      ],
      "execution_count": null,
      "outputs": []
    },
    {
      "cell_type": "code",
      "metadata": {
        "colab": {
          "base_uri": "https://localhost:8080/",
          "height": 474
        },
        "id": "o97unXwQrxuJ",
        "outputId": "4c2c0768-126a-4adc-88f9-62aa6b1d790e"
      },
      "source": [
        "dados.head()"
      ],
      "execution_count": null,
      "outputs": [
        {
          "output_type": "execute_result",
          "data": {
            "text/html": [
              "<div>\n",
              "<style scoped>\n",
              "    .dataframe tbody tr th:only-of-type {\n",
              "        vertical-align: middle;\n",
              "    }\n",
              "\n",
              "    .dataframe tbody tr th {\n",
              "        vertical-align: top;\n",
              "    }\n",
              "\n",
              "    .dataframe thead th {\n",
              "        text-align: right;\n",
              "    }\n",
              "</style>\n",
              "<table border=\"1\" class=\"dataframe\">\n",
              "  <thead>\n",
              "    <tr style=\"text-align: right;\">\n",
              "      <th></th>\n",
              "      <th>Country ISO3</th>\n",
              "      <th>Country Name</th>\n",
              "      <th>Indicator Id</th>\n",
              "      <th>Indicator</th>\n",
              "      <th>Subindicator Type</th>\n",
              "      <th>2007-2008</th>\n",
              "      <th>2008-2009</th>\n",
              "      <th>2009-2010</th>\n",
              "      <th>2010-2011</th>\n",
              "      <th>2011-2012</th>\n",
              "      <th>2012-2013</th>\n",
              "      <th>2013-2014</th>\n",
              "      <th>2014-2015</th>\n",
              "      <th>2015-2016</th>\n",
              "      <th>2016-2017</th>\n",
              "      <th>2017</th>\n",
              "      <th>2017-2018</th>\n",
              "      <th>2018</th>\n",
              "      <th>2019</th>\n",
              "    </tr>\n",
              "  </thead>\n",
              "  <tbody>\n",
              "    <tr>\n",
              "      <th>0</th>\n",
              "      <td>AGO</td>\n",
              "      <td>Angola</td>\n",
              "      <td>495</td>\n",
              "      <td>GDP (PPP) as % of world total</td>\n",
              "      <td>Value</td>\n",
              "      <td>NaN</td>\n",
              "      <td>NaN</td>\n",
              "      <td>NaN</td>\n",
              "      <td>0.153000</td>\n",
              "      <td>0.145000</td>\n",
              "      <td>NaN</td>\n",
              "      <td>0.154000</td>\n",
              "      <td>NaN</td>\n",
              "      <td>NaN</td>\n",
              "      <td>NaN</td>\n",
              "      <td>NaN</td>\n",
              "      <td>NaN</td>\n",
              "      <td>NaN</td>\n",
              "      <td>NaN</td>\n",
              "    </tr>\n",
              "    <tr>\n",
              "      <th>1</th>\n",
              "      <td>AGO</td>\n",
              "      <td>Angola</td>\n",
              "      <td>496</td>\n",
              "      <td>GDP (PPP) as % of world total</td>\n",
              "      <td>Rank</td>\n",
              "      <td>NaN</td>\n",
              "      <td>NaN</td>\n",
              "      <td>NaN</td>\n",
              "      <td>62.000000</td>\n",
              "      <td>63.000000</td>\n",
              "      <td>NaN</td>\n",
              "      <td>63.000000</td>\n",
              "      <td>NaN</td>\n",
              "      <td>NaN</td>\n",
              "      <td>NaN</td>\n",
              "      <td>NaN</td>\n",
              "      <td>NaN</td>\n",
              "      <td>NaN</td>\n",
              "      <td>NaN</td>\n",
              "    </tr>\n",
              "    <tr>\n",
              "      <th>2</th>\n",
              "      <td>AGO</td>\n",
              "      <td>Angola</td>\n",
              "      <td>509</td>\n",
              "      <td>Domestic market size index, 1-7 (best)</td>\n",
              "      <td>Value</td>\n",
              "      <td>NaN</td>\n",
              "      <td>NaN</td>\n",
              "      <td>NaN</td>\n",
              "      <td>3.428947</td>\n",
              "      <td>3.582865</td>\n",
              "      <td>NaN</td>\n",
              "      <td>3.490087</td>\n",
              "      <td>3.502455</td>\n",
              "      <td>NaN</td>\n",
              "      <td>NaN</td>\n",
              "      <td>NaN</td>\n",
              "      <td>NaN</td>\n",
              "      <td>NaN</td>\n",
              "      <td>NaN</td>\n",
              "    </tr>\n",
              "    <tr>\n",
              "      <th>3</th>\n",
              "      <td>AGO</td>\n",
              "      <td>Angola</td>\n",
              "      <td>510</td>\n",
              "      <td>Domestic market size index, 1-7 (best)</td>\n",
              "      <td>Rank</td>\n",
              "      <td>NaN</td>\n",
              "      <td>NaN</td>\n",
              "      <td>NaN</td>\n",
              "      <td>72.000000</td>\n",
              "      <td>64.000000</td>\n",
              "      <td>NaN</td>\n",
              "      <td>67.000000</td>\n",
              "      <td>69.000000</td>\n",
              "      <td>NaN</td>\n",
              "      <td>NaN</td>\n",
              "      <td>NaN</td>\n",
              "      <td>NaN</td>\n",
              "      <td>NaN</td>\n",
              "      <td>NaN</td>\n",
              "    </tr>\n",
              "    <tr>\n",
              "      <th>4</th>\n",
              "      <td>AGO</td>\n",
              "      <td>Angola</td>\n",
              "      <td>511</td>\n",
              "      <td>Foreign market size index, 1-7 (best)</td>\n",
              "      <td>Value</td>\n",
              "      <td>NaN</td>\n",
              "      <td>NaN</td>\n",
              "      <td>NaN</td>\n",
              "      <td>4.743048</td>\n",
              "      <td>4.589237</td>\n",
              "      <td>NaN</td>\n",
              "      <td>4.871807</td>\n",
              "      <td>4.839048</td>\n",
              "      <td>NaN</td>\n",
              "      <td>NaN</td>\n",
              "      <td>NaN</td>\n",
              "      <td>NaN</td>\n",
              "      <td>NaN</td>\n",
              "      <td>NaN</td>\n",
              "    </tr>\n",
              "  </tbody>\n",
              "</table>\n",
              "</div>"
            ],
            "text/plain": [
              "  Country ISO3 Country Name  Indicator Id  ... 2017-2018 2018  2019\n",
              "0          AGO       Angola           495  ...       NaN  NaN   NaN\n",
              "1          AGO       Angola           496  ...       NaN  NaN   NaN\n",
              "2          AGO       Angola           509  ...       NaN  NaN   NaN\n",
              "3          AGO       Angola           510  ...       NaN  NaN   NaN\n",
              "4          AGO       Angola           511  ...       NaN  NaN   NaN\n",
              "\n",
              "[5 rows x 19 columns]"
            ]
          },
          "metadata": {},
          "execution_count": 26
        }
      ]
    },
    {
      "cell_type": "code",
      "metadata": {
        "colab": {
          "base_uri": "https://localhost:8080/",
          "height": 154
        },
        "id": "_aPTdJi9r345",
        "outputId": "45243057-0059-455d-84d8-566cab02c956"
      },
      "source": [
        "dados.head(1)"
      ],
      "execution_count": null,
      "outputs": [
        {
          "output_type": "execute_result",
          "data": {
            "text/html": [
              "<div>\n",
              "<style scoped>\n",
              "    .dataframe tbody tr th:only-of-type {\n",
              "        vertical-align: middle;\n",
              "    }\n",
              "\n",
              "    .dataframe tbody tr th {\n",
              "        vertical-align: top;\n",
              "    }\n",
              "\n",
              "    .dataframe thead th {\n",
              "        text-align: right;\n",
              "    }\n",
              "</style>\n",
              "<table border=\"1\" class=\"dataframe\">\n",
              "  <thead>\n",
              "    <tr style=\"text-align: right;\">\n",
              "      <th></th>\n",
              "      <th>Country ISO3</th>\n",
              "      <th>Country Name</th>\n",
              "      <th>Indicator Id</th>\n",
              "      <th>Indicator</th>\n",
              "      <th>Subindicator Type</th>\n",
              "      <th>2007-2008</th>\n",
              "      <th>2008-2009</th>\n",
              "      <th>2009-2010</th>\n",
              "      <th>2010-2011</th>\n",
              "      <th>2011-2012</th>\n",
              "      <th>2012-2013</th>\n",
              "      <th>2013-2014</th>\n",
              "      <th>2014-2015</th>\n",
              "      <th>2015-2016</th>\n",
              "      <th>2016-2017</th>\n",
              "      <th>2017</th>\n",
              "      <th>2017-2018</th>\n",
              "      <th>2018</th>\n",
              "      <th>2019</th>\n",
              "    </tr>\n",
              "  </thead>\n",
              "  <tbody>\n",
              "    <tr>\n",
              "      <th>0</th>\n",
              "      <td>AGO</td>\n",
              "      <td>Angola</td>\n",
              "      <td>495</td>\n",
              "      <td>GDP (PPP) as % of world total</td>\n",
              "      <td>Value</td>\n",
              "      <td>NaN</td>\n",
              "      <td>NaN</td>\n",
              "      <td>NaN</td>\n",
              "      <td>0.153</td>\n",
              "      <td>0.145</td>\n",
              "      <td>NaN</td>\n",
              "      <td>0.154</td>\n",
              "      <td>NaN</td>\n",
              "      <td>NaN</td>\n",
              "      <td>NaN</td>\n",
              "      <td>NaN</td>\n",
              "      <td>NaN</td>\n",
              "      <td>NaN</td>\n",
              "      <td>NaN</td>\n",
              "    </tr>\n",
              "  </tbody>\n",
              "</table>\n",
              "</div>"
            ],
            "text/plain": [
              "  Country ISO3 Country Name  Indicator Id  ... 2017-2018 2018  2019\n",
              "0          AGO       Angola           495  ...       NaN  NaN   NaN\n",
              "\n",
              "[1 rows x 19 columns]"
            ]
          },
          "metadata": {},
          "execution_count": 27
        }
      ]
    },
    {
      "cell_type": "markdown",
      "metadata": {
        "id": "ZSlOltT_tnob"
      },
      "source": [
        "# Padronizar o nome das variáveis"
      ]
    },
    {
      "cell_type": "code",
      "metadata": {
        "id": "YO8W8Bbqtpox"
      },
      "source": [
        "from quickda.clean_data import *"
      ],
      "execution_count": null,
      "outputs": []
    },
    {
      "cell_type": "code",
      "metadata": {
        "id": "I-1Ue7qPuHWj"
      },
      "source": [
        "dados = clean(dados, method='standardize') #ajusta o nome das colunas , padroniza."
      ],
      "execution_count": null,
      "outputs": []
    },
    {
      "cell_type": "markdown",
      "metadata": {
        "id": "6JZqEKL1u6AB"
      },
      "source": [
        "# Obter as estatísticas descritivas"
      ]
    },
    {
      "cell_type": "code",
      "metadata": {
        "id": "62CpN_S9vLZ8"
      },
      "source": [
        "from quickda.explore_data import *"
      ],
      "execution_count": null,
      "outputs": []
    },
    {
      "cell_type": "code",
      "metadata": {
        "colab": {
          "base_uri": "https://localhost:8080/",
          "height": 705
        },
        "id": "lSh-YMEjvPMI",
        "outputId": "d84c386d-07df-4d49-c439-49f09a93478f"
      },
      "source": [
        "explore(dados, method='summarize')"
      ],
      "execution_count": null,
      "outputs": [
        {
          "output_type": "execute_result",
          "data": {
            "text/html": [
              "<div>\n",
              "<style scoped>\n",
              "    .dataframe tbody tr th:only-of-type {\n",
              "        vertical-align: middle;\n",
              "    }\n",
              "\n",
              "    .dataframe tbody tr th {\n",
              "        vertical-align: top;\n",
              "    }\n",
              "\n",
              "    .dataframe thead th {\n",
              "        text-align: right;\n",
              "    }\n",
              "</style>\n",
              "<table border=\"1\" class=\"dataframe\">\n",
              "  <thead>\n",
              "    <tr style=\"text-align: right;\">\n",
              "      <th></th>\n",
              "      <th>dtypes</th>\n",
              "      <th>count</th>\n",
              "      <th>null_sum</th>\n",
              "      <th>null_pct</th>\n",
              "      <th>nunique</th>\n",
              "      <th>min</th>\n",
              "      <th>25%</th>\n",
              "      <th>50%</th>\n",
              "      <th>75%</th>\n",
              "      <th>max</th>\n",
              "      <th>mean</th>\n",
              "      <th>median</th>\n",
              "      <th>std</th>\n",
              "      <th>skew</th>\n",
              "    </tr>\n",
              "  </thead>\n",
              "  <tbody>\n",
              "    <tr>\n",
              "      <th>2007-2008</th>\n",
              "      <td>float64</td>\n",
              "      <td>9112</td>\n",
              "      <td>61045</td>\n",
              "      <td>0.870</td>\n",
              "      <td>4417</td>\n",
              "      <td>0</td>\n",
              "      <td>4.03298</td>\n",
              "      <td>10</td>\n",
              "      <td>69</td>\n",
              "      <td>47842.7</td>\n",
              "      <td>65.0879</td>\n",
              "      <td>10</td>\n",
              "      <td>790.744</td>\n",
              "      <td>39.764</td>\n",
              "    </tr>\n",
              "    <tr>\n",
              "      <th>2008-2009</th>\n",
              "      <td>float64</td>\n",
              "      <td>9658</td>\n",
              "      <td>60499</td>\n",
              "      <td>0.862</td>\n",
              "      <td>4530</td>\n",
              "      <td>0</td>\n",
              "      <td>4</td>\n",
              "      <td>10</td>\n",
              "      <td>71</td>\n",
              "      <td>44368</td>\n",
              "      <td>70.0994</td>\n",
              "      <td>10</td>\n",
              "      <td>831.044</td>\n",
              "      <td>34.0665</td>\n",
              "    </tr>\n",
              "    <tr>\n",
              "      <th>2009-2010</th>\n",
              "      <td>float64</td>\n",
              "      <td>9658</td>\n",
              "      <td>60499</td>\n",
              "      <td>0.862</td>\n",
              "      <td>4537</td>\n",
              "      <td>0</td>\n",
              "      <td>3.96826</td>\n",
              "      <td>10</td>\n",
              "      <td>71</td>\n",
              "      <td>52881</td>\n",
              "      <td>110.581</td>\n",
              "      <td>10</td>\n",
              "      <td>1567.82</td>\n",
              "      <td>23.6465</td>\n",
              "    </tr>\n",
              "    <tr>\n",
              "      <th>2010-2011</th>\n",
              "      <td>float64</td>\n",
              "      <td>10686</td>\n",
              "      <td>59471</td>\n",
              "      <td>0.848</td>\n",
              "      <td>5140</td>\n",
              "      <td>0</td>\n",
              "      <td>3.92214</td>\n",
              "      <td>10</td>\n",
              "      <td>74</td>\n",
              "      <td>47481.5</td>\n",
              "      <td>108.975</td>\n",
              "      <td>10</td>\n",
              "      <td>1496.23</td>\n",
              "      <td>23.3771</td>\n",
              "    </tr>\n",
              "    <tr>\n",
              "      <th>2011-2012</th>\n",
              "      <td>float64</td>\n",
              "      <td>10917</td>\n",
              "      <td>59240</td>\n",
              "      <td>0.844</td>\n",
              "      <td>5177</td>\n",
              "      <td>0</td>\n",
              "      <td>3.91689</td>\n",
              "      <td>11</td>\n",
              "      <td>76</td>\n",
              "      <td>47481.5</td>\n",
              "      <td>108.233</td>\n",
              "      <td>11</td>\n",
              "      <td>1480.36</td>\n",
              "      <td>23.628</td>\n",
              "    </tr>\n",
              "    <tr>\n",
              "      <th>2012-2013</th>\n",
              "      <td>float64</td>\n",
              "      <td>11071</td>\n",
              "      <td>59086</td>\n",
              "      <td>0.842</td>\n",
              "      <td>5334</td>\n",
              "      <td>0</td>\n",
              "      <td>3.92134</td>\n",
              "      <td>11</td>\n",
              "      <td>76</td>\n",
              "      <td>39709.6</td>\n",
              "      <td>100.831</td>\n",
              "      <td>11</td>\n",
              "      <td>1294.78</td>\n",
              "      <td>23.7455</td>\n",
              "    </tr>\n",
              "    <tr>\n",
              "      <th>2013-2014</th>\n",
              "      <td>float64</td>\n",
              "      <td>12270</td>\n",
              "      <td>57887</td>\n",
              "      <td>0.825</td>\n",
              "      <td>5915</td>\n",
              "      <td>0</td>\n",
              "      <td>3.88124</td>\n",
              "      <td>10</td>\n",
              "      <td>78</td>\n",
              "      <td>37575.1</td>\n",
              "      <td>94.5501</td>\n",
              "      <td>10</td>\n",
              "      <td>1166.69</td>\n",
              "      <td>24.2386</td>\n",
              "    </tr>\n",
              "    <tr>\n",
              "      <th>2014-2015</th>\n",
              "      <td>float64</td>\n",
              "      <td>11588</td>\n",
              "      <td>58569</td>\n",
              "      <td>0.835</td>\n",
              "      <td>5654</td>\n",
              "      <td>0</td>\n",
              "      <td>3.9261</td>\n",
              "      <td>10.8389</td>\n",
              "      <td>75</td>\n",
              "      <td>38423.7</td>\n",
              "      <td>87.315</td>\n",
              "      <td>10.8389</td>\n",
              "      <td>1050.98</td>\n",
              "      <td>25.33</td>\n",
              "    </tr>\n",
              "    <tr>\n",
              "      <th>2015-2016</th>\n",
              "      <td>float64</td>\n",
              "      <td>11264</td>\n",
              "      <td>58893</td>\n",
              "      <td>0.839</td>\n",
              "      <td>5490</td>\n",
              "      <td>0</td>\n",
              "      <td>3.93666</td>\n",
              "      <td>10.65</td>\n",
              "      <td>73</td>\n",
              "      <td>38423.7</td>\n",
              "      <td>87.2062</td>\n",
              "      <td>10.65</td>\n",
              "      <td>1069.65</td>\n",
              "      <td>24.8225</td>\n",
              "    </tr>\n",
              "    <tr>\n",
              "      <th>2016-2017</th>\n",
              "      <td>float64</td>\n",
              "      <td>11092</td>\n",
              "      <td>59065</td>\n",
              "      <td>0.842</td>\n",
              "      <td>5408</td>\n",
              "      <td>0</td>\n",
              "      <td>3.99668</td>\n",
              "      <td>10</td>\n",
              "      <td>72</td>\n",
              "      <td>42725</td>\n",
              "      <td>87.6195</td>\n",
              "      <td>10</td>\n",
              "      <td>1156.59</td>\n",
              "      <td>27.0736</td>\n",
              "    </tr>\n",
              "    <tr>\n",
              "      <th>2017</th>\n",
              "      <td>float64</td>\n",
              "      <td>54355</td>\n",
              "      <td>15802</td>\n",
              "      <td>0.225</td>\n",
              "      <td>27639</td>\n",
              "      <td>-52.0398</td>\n",
              "      <td>13.8019</td>\n",
              "      <td>49.3071</td>\n",
              "      <td>79</td>\n",
              "      <td>8.18502e+06</td>\n",
              "      <td>688.811</td>\n",
              "      <td>49.3071</td>\n",
              "      <td>44668.5</td>\n",
              "      <td>145.826</td>\n",
              "    </tr>\n",
              "    <tr>\n",
              "      <th>2017-2018</th>\n",
              "      <td>float64</td>\n",
              "      <td>11020</td>\n",
              "      <td>59137</td>\n",
              "      <td>0.843</td>\n",
              "      <td>5358</td>\n",
              "      <td>0</td>\n",
              "      <td>3.9829</td>\n",
              "      <td>10</td>\n",
              "      <td>71</td>\n",
              "      <td>46030.7</td>\n",
              "      <td>85.1547</td>\n",
              "      <td>10</td>\n",
              "      <td>1103.91</td>\n",
              "      <td>27.2748</td>\n",
              "    </tr>\n",
              "    <tr>\n",
              "      <th>2018</th>\n",
              "      <td>float64</td>\n",
              "      <td>55681</td>\n",
              "      <td>14476</td>\n",
              "      <td>0.206</td>\n",
              "      <td>28293</td>\n",
              "      <td>-40.6496</td>\n",
              "      <td>14</td>\n",
              "      <td>50</td>\n",
              "      <td>80</td>\n",
              "      <td>7.29352e+06</td>\n",
              "      <td>625.38</td>\n",
              "      <td>50</td>\n",
              "      <td>40036.5</td>\n",
              "      <td>145.087</td>\n",
              "    </tr>\n",
              "    <tr>\n",
              "      <th>2019</th>\n",
              "      <td>float64</td>\n",
              "      <td>55190</td>\n",
              "      <td>14967</td>\n",
              "      <td>0.213</td>\n",
              "      <td>28261</td>\n",
              "      <td>-52.4694</td>\n",
              "      <td>14.3493</td>\n",
              "      <td>50.2305</td>\n",
              "      <td>80</td>\n",
              "      <td>7.29352e+06</td>\n",
              "      <td>638.107</td>\n",
              "      <td>50.2305</td>\n",
              "      <td>40261.2</td>\n",
              "      <td>143.968</td>\n",
              "    </tr>\n",
              "    <tr>\n",
              "      <th>country_iso3</th>\n",
              "      <td>object</td>\n",
              "      <td>70157</td>\n",
              "      <td>0</td>\n",
              "      <td>0.000</td>\n",
              "      <td>152</td>\n",
              "      <td>AGO</td>\n",
              "      <td>-</td>\n",
              "      <td>-</td>\n",
              "      <td>-</td>\n",
              "      <td>ZWE</td>\n",
              "      <td>-</td>\n",
              "      <td>-</td>\n",
              "      <td>-</td>\n",
              "      <td>-</td>\n",
              "    </tr>\n",
              "    <tr>\n",
              "      <th>country_name</th>\n",
              "      <td>object</td>\n",
              "      <td>70157</td>\n",
              "      <td>0</td>\n",
              "      <td>0.000</td>\n",
              "      <td>152</td>\n",
              "      <td>Albania</td>\n",
              "      <td>-</td>\n",
              "      <td>-</td>\n",
              "      <td>-</td>\n",
              "      <td>Zimbabwe</td>\n",
              "      <td>-</td>\n",
              "      <td>-</td>\n",
              "      <td>-</td>\n",
              "      <td>-</td>\n",
              "    </tr>\n",
              "    <tr>\n",
              "      <th>indicator</th>\n",
              "      <td>object</td>\n",
              "      <td>70157</td>\n",
              "      <td>0</td>\n",
              "      <td>0.000</td>\n",
              "      <td>205</td>\n",
              "      <td>Affordability of financial services, 1-7 (best)</td>\n",
              "      <td>-</td>\n",
              "      <td>-</td>\n",
              "      <td>-</td>\n",
              "      <td>Women in labor force, ratio to men</td>\n",
              "      <td>-</td>\n",
              "      <td>-</td>\n",
              "      <td>-</td>\n",
              "      <td>-</td>\n",
              "    </tr>\n",
              "    <tr>\n",
              "      <th>indicator_id</th>\n",
              "      <td>int64</td>\n",
              "      <td>70157</td>\n",
              "      <td>0</td>\n",
              "      <td>0.000</td>\n",
              "      <td>505</td>\n",
              "      <td>495</td>\n",
              "      <td>41375</td>\n",
              "      <td>41536</td>\n",
              "      <td>41667</td>\n",
              "      <td>43087</td>\n",
              "      <td>34283.9</td>\n",
              "      <td>41536</td>\n",
              "      <td>15787.6</td>\n",
              "      <td>-1.6567</td>\n",
              "    </tr>\n",
              "    <tr>\n",
              "      <th>subindicator_type</th>\n",
              "      <td>object</td>\n",
              "      <td>70157</td>\n",
              "      <td>0</td>\n",
              "      <td>0.000</td>\n",
              "      <td>4</td>\n",
              "      <td>Index 1-7 (best)</td>\n",
              "      <td>-</td>\n",
              "      <td>-</td>\n",
              "      <td>-</td>\n",
              "      <td>Value</td>\n",
              "      <td>-</td>\n",
              "      <td>-</td>\n",
              "      <td>-</td>\n",
              "      <td>-</td>\n",
              "    </tr>\n",
              "  </tbody>\n",
              "</table>\n",
              "</div>"
            ],
            "text/plain": [
              "                    dtypes  count  null_sum  ...   median      std     skew\n",
              "2007-2008          float64   9112     61045  ...       10  790.744   39.764\n",
              "2008-2009          float64   9658     60499  ...       10  831.044  34.0665\n",
              "2009-2010          float64   9658     60499  ...       10  1567.82  23.6465\n",
              "2010-2011          float64  10686     59471  ...       10  1496.23  23.3771\n",
              "2011-2012          float64  10917     59240  ...       11  1480.36   23.628\n",
              "2012-2013          float64  11071     59086  ...       11  1294.78  23.7455\n",
              "2013-2014          float64  12270     57887  ...       10  1166.69  24.2386\n",
              "2014-2015          float64  11588     58569  ...  10.8389  1050.98    25.33\n",
              "2015-2016          float64  11264     58893  ...    10.65  1069.65  24.8225\n",
              "2016-2017          float64  11092     59065  ...       10  1156.59  27.0736\n",
              "2017               float64  54355     15802  ...  49.3071  44668.5  145.826\n",
              "2017-2018          float64  11020     59137  ...       10  1103.91  27.2748\n",
              "2018               float64  55681     14476  ...       50  40036.5  145.087\n",
              "2019               float64  55190     14967  ...  50.2305  40261.2  143.968\n",
              "country_iso3        object  70157         0  ...        -        -        -\n",
              "country_name        object  70157         0  ...        -        -        -\n",
              "indicator           object  70157         0  ...        -        -        -\n",
              "indicator_id         int64  70157         0  ...    41536  15787.6  -1.6567\n",
              "subindicator_type   object  70157         0  ...        -        -        -\n",
              "\n",
              "[19 rows x 14 columns]"
            ]
          },
          "metadata": {},
          "execution_count": 31
        }
      ]
    },
    {
      "cell_type": "markdown",
      "metadata": {
        "id": "84QgLoItsh5d"
      },
      "source": [
        "# Filtrar"
      ]
    },
    {
      "cell_type": "code",
      "metadata": {
        "colab": {
          "base_uri": "https://localhost:8080/",
          "height": 154
        },
        "id": "TruXIcuX18wE",
        "outputId": "b443c2c3-e11c-44ce-bf76-340e6f53a3e4"
      },
      "source": [
        "dados.head(1)"
      ],
      "execution_count": null,
      "outputs": [
        {
          "output_type": "execute_result",
          "data": {
            "text/html": [
              "<div>\n",
              "<style scoped>\n",
              "    .dataframe tbody tr th:only-of-type {\n",
              "        vertical-align: middle;\n",
              "    }\n",
              "\n",
              "    .dataframe tbody tr th {\n",
              "        vertical-align: top;\n",
              "    }\n",
              "\n",
              "    .dataframe thead th {\n",
              "        text-align: right;\n",
              "    }\n",
              "</style>\n",
              "<table border=\"1\" class=\"dataframe\">\n",
              "  <thead>\n",
              "    <tr style=\"text-align: right;\">\n",
              "      <th></th>\n",
              "      <th>country_iso3</th>\n",
              "      <th>country_name</th>\n",
              "      <th>indicator_id</th>\n",
              "      <th>indicator</th>\n",
              "      <th>subindicator_type</th>\n",
              "      <th>2007-2008</th>\n",
              "      <th>2008-2009</th>\n",
              "      <th>2009-2010</th>\n",
              "      <th>2010-2011</th>\n",
              "      <th>2011-2012</th>\n",
              "      <th>2012-2013</th>\n",
              "      <th>2013-2014</th>\n",
              "      <th>2014-2015</th>\n",
              "      <th>2015-2016</th>\n",
              "      <th>2016-2017</th>\n",
              "      <th>2017</th>\n",
              "      <th>2017-2018</th>\n",
              "      <th>2018</th>\n",
              "      <th>2019</th>\n",
              "    </tr>\n",
              "  </thead>\n",
              "  <tbody>\n",
              "    <tr>\n",
              "      <th>0</th>\n",
              "      <td>AGO</td>\n",
              "      <td>Angola</td>\n",
              "      <td>495</td>\n",
              "      <td>GDP (PPP) as % of world total</td>\n",
              "      <td>Value</td>\n",
              "      <td>NaN</td>\n",
              "      <td>NaN</td>\n",
              "      <td>NaN</td>\n",
              "      <td>0.153</td>\n",
              "      <td>0.145</td>\n",
              "      <td>NaN</td>\n",
              "      <td>0.154</td>\n",
              "      <td>NaN</td>\n",
              "      <td>NaN</td>\n",
              "      <td>NaN</td>\n",
              "      <td>NaN</td>\n",
              "      <td>NaN</td>\n",
              "      <td>NaN</td>\n",
              "      <td>NaN</td>\n",
              "    </tr>\n",
              "  </tbody>\n",
              "</table>\n",
              "</div>"
            ],
            "text/plain": [
              "  country_iso3 country_name  indicator_id  ... 2017-2018 2018  2019\n",
              "0          AGO       Angola           495  ...       NaN  NaN   NaN\n",
              "\n",
              "[1 rows x 19 columns]"
            ]
          },
          "metadata": {},
          "execution_count": 32
        }
      ]
    },
    {
      "cell_type": "code",
      "metadata": {
        "colab": {
          "base_uri": "https://localhost:8080/"
        },
        "id": "av-hPgnM2FHM",
        "outputId": "a4bd7ac8-ff57-4c46-d393-50fe33ae6866"
      },
      "source": [
        "dados.columns"
      ],
      "execution_count": null,
      "outputs": [
        {
          "output_type": "execute_result",
          "data": {
            "text/plain": [
              "Index(['country_iso3', 'country_name', 'indicator_id', 'indicator',\n",
              "       'subindicator_type', '2007-2008', '2008-2009', '2009-2010', '2010-2011',\n",
              "       '2011-2012', '2012-2013', '2013-2014', '2014-2015', '2015-2016',\n",
              "       '2016-2017', '2017', '2017-2018', '2018', '2019'],\n",
              "      dtype='object')"
            ]
          },
          "metadata": {},
          "execution_count": 33
        }
      ]
    },
    {
      "cell_type": "code",
      "metadata": {
        "id": "u0SxZ8TM2JvE"
      },
      "source": [
        "remover = ['2007-2008', '2008-2009', '2009-2010', '2010-2011',\n",
        "       '2011-2012', '2012-2013', '2013-2014', '2014-2015', '2015-2016',\n",
        "       '2016-2017', '2017', '2017-2018', '2018']"
      ],
      "execution_count": null,
      "outputs": []
    },
    {
      "cell_type": "code",
      "metadata": {
        "id": "UU3JcEB82Sh3"
      },
      "source": [
        "dados = clean(dados, method='dropcols', columns=remover)"
      ],
      "execution_count": null,
      "outputs": []
    },
    {
      "cell_type": "code",
      "metadata": {
        "colab": {
          "base_uri": "https://localhost:8080/",
          "height": 101
        },
        "id": "34JAZVgw22lQ",
        "outputId": "6c5f1744-78ed-4251-de4d-c3790c161036"
      },
      "source": [
        "dados.head(1)"
      ],
      "execution_count": null,
      "outputs": [
        {
          "output_type": "execute_result",
          "data": {
            "text/html": [
              "<div>\n",
              "<style scoped>\n",
              "    .dataframe tbody tr th:only-of-type {\n",
              "        vertical-align: middle;\n",
              "    }\n",
              "\n",
              "    .dataframe tbody tr th {\n",
              "        vertical-align: top;\n",
              "    }\n",
              "\n",
              "    .dataframe thead th {\n",
              "        text-align: right;\n",
              "    }\n",
              "</style>\n",
              "<table border=\"1\" class=\"dataframe\">\n",
              "  <thead>\n",
              "    <tr style=\"text-align: right;\">\n",
              "      <th></th>\n",
              "      <th>country_iso3</th>\n",
              "      <th>country_name</th>\n",
              "      <th>indicator_id</th>\n",
              "      <th>indicator</th>\n",
              "      <th>subindicator_type</th>\n",
              "      <th>2019</th>\n",
              "    </tr>\n",
              "  </thead>\n",
              "  <tbody>\n",
              "    <tr>\n",
              "      <th>0</th>\n",
              "      <td>AGO</td>\n",
              "      <td>Angola</td>\n",
              "      <td>495</td>\n",
              "      <td>GDP (PPP) as % of world total</td>\n",
              "      <td>Value</td>\n",
              "      <td>NaN</td>\n",
              "    </tr>\n",
              "  </tbody>\n",
              "</table>\n",
              "</div>"
            ],
            "text/plain": [
              "  country_iso3 country_name  ...  subindicator_type 2019\n",
              "0          AGO       Angola  ...              Value  NaN\n",
              "\n",
              "[1 rows x 6 columns]"
            ]
          },
          "metadata": {},
          "execution_count": 36
        }
      ]
    },
    {
      "cell_type": "code",
      "metadata": {
        "colab": {
          "base_uri": "https://localhost:8080/"
        },
        "id": "fUJq2CXd4J_d",
        "outputId": "2b715113-5424-4b70-cdc5-4614ad5ce0d0"
      },
      "source": [
        "dados['subindicator_type'].unique()\n",
        "\n",
        "### ou\n",
        "\n",
        "# set(dados['subindicator_type'])"
      ],
      "execution_count": null,
      "outputs": [
        {
          "output_type": "execute_result",
          "data": {
            "text/plain": [
              "array(['Value', 'Rank', 'Index 1-7 (best)', 'Score'], dtype=object)"
            ]
          },
          "metadata": {},
          "execution_count": 39
        }
      ]
    },
    {
      "cell_type": "code",
      "metadata": {
        "id": "0BqclGZ2sijY"
      },
      "source": [
        "dados = dados.query(\" subindicator_type == 'Value' \")                          "
      ],
      "execution_count": null,
      "outputs": []
    },
    {
      "cell_type": "code",
      "metadata": {
        "colab": {
          "base_uri": "https://localhost:8080/",
          "height": 101
        },
        "id": "WQ0r2YlX5PUH",
        "outputId": "efb614e0-cfc7-461d-a939-b6046a9d5b0c"
      },
      "source": [
        "dados.head(1)"
      ],
      "execution_count": null,
      "outputs": [
        {
          "output_type": "execute_result",
          "data": {
            "text/html": [
              "<div>\n",
              "<style scoped>\n",
              "    .dataframe tbody tr th:only-of-type {\n",
              "        vertical-align: middle;\n",
              "    }\n",
              "\n",
              "    .dataframe tbody tr th {\n",
              "        vertical-align: top;\n",
              "    }\n",
              "\n",
              "    .dataframe thead th {\n",
              "        text-align: right;\n",
              "    }\n",
              "</style>\n",
              "<table border=\"1\" class=\"dataframe\">\n",
              "  <thead>\n",
              "    <tr style=\"text-align: right;\">\n",
              "      <th></th>\n",
              "      <th>country_iso3</th>\n",
              "      <th>country_name</th>\n",
              "      <th>indicator_id</th>\n",
              "      <th>indicator</th>\n",
              "      <th>subindicator_type</th>\n",
              "      <th>2019</th>\n",
              "    </tr>\n",
              "  </thead>\n",
              "  <tbody>\n",
              "    <tr>\n",
              "      <th>0</th>\n",
              "      <td>AGO</td>\n",
              "      <td>Angola</td>\n",
              "      <td>495</td>\n",
              "      <td>GDP (PPP) as % of world total</td>\n",
              "      <td>Value</td>\n",
              "      <td>NaN</td>\n",
              "    </tr>\n",
              "  </tbody>\n",
              "</table>\n",
              "</div>"
            ],
            "text/plain": [
              "  country_iso3 country_name  ...  subindicator_type 2019\n",
              "0          AGO       Angola  ...              Value  NaN\n",
              "\n",
              "[1 rows x 6 columns]"
            ]
          },
          "metadata": {},
          "execution_count": 42
        }
      ]
    },
    {
      "cell_type": "code",
      "metadata": {
        "id": "jmfEust05a88"
      },
      "source": [
        "dados['indicator'].unique()"
      ],
      "execution_count": null,
      "outputs": []
    },
    {
      "cell_type": "code",
      "metadata": {
        "id": "w_Qw854A5i5N"
      },
      "source": [
        "dados = dados.query(\"indicator == 'GCI 4.0: Pupil-to-teacher ratio in primary education'  \")"
      ],
      "execution_count": null,
      "outputs": []
    },
    {
      "cell_type": "code",
      "metadata": {
        "colab": {
          "base_uri": "https://localhost:8080/",
          "height": 228
        },
        "id": "C4-Mo1rh5w7e",
        "outputId": "827e7f29-c700-409f-b654-e42c00506940"
      },
      "source": [
        "dados.head()"
      ],
      "execution_count": null,
      "outputs": [
        {
          "output_type": "execute_result",
          "data": {
            "text/html": [
              "<div>\n",
              "<style scoped>\n",
              "    .dataframe tbody tr th:only-of-type {\n",
              "        vertical-align: middle;\n",
              "    }\n",
              "\n",
              "    .dataframe tbody tr th {\n",
              "        vertical-align: top;\n",
              "    }\n",
              "\n",
              "    .dataframe thead th {\n",
              "        text-align: right;\n",
              "    }\n",
              "</style>\n",
              "<table border=\"1\" class=\"dataframe\">\n",
              "  <thead>\n",
              "    <tr style=\"text-align: right;\">\n",
              "      <th></th>\n",
              "      <th>country_iso3</th>\n",
              "      <th>country_name</th>\n",
              "      <th>indicator_id</th>\n",
              "      <th>indicator</th>\n",
              "      <th>subindicator_type</th>\n",
              "      <th>2019</th>\n",
              "    </tr>\n",
              "  </thead>\n",
              "  <tbody>\n",
              "    <tr>\n",
              "      <th>135</th>\n",
              "      <td>AGO</td>\n",
              "      <td>Angola</td>\n",
              "      <td>41406</td>\n",
              "      <td>GCI 4.0: Pupil-to-teacher ratio in primary edu...</td>\n",
              "      <td>Value</td>\n",
              "      <td>50.029511</td>\n",
              "    </tr>\n",
              "    <tr>\n",
              "      <th>634</th>\n",
              "      <td>ALB</td>\n",
              "      <td>Albania</td>\n",
              "      <td>41406</td>\n",
              "      <td>GCI 4.0: Pupil-to-teacher ratio in primary edu...</td>\n",
              "      <td>Value</td>\n",
              "      <td>17.944780</td>\n",
              "    </tr>\n",
              "    <tr>\n",
              "      <th>1134</th>\n",
              "      <td>ARE</td>\n",
              "      <td>United Arab Emirates</td>\n",
              "      <td>41406</td>\n",
              "      <td>GCI 4.0: Pupil-to-teacher ratio in primary edu...</td>\n",
              "      <td>Value</td>\n",
              "      <td>24.522779</td>\n",
              "    </tr>\n",
              "    <tr>\n",
              "      <th>1633</th>\n",
              "      <td>ARG</td>\n",
              "      <td>Argentina</td>\n",
              "      <td>41406</td>\n",
              "      <td>GCI 4.0: Pupil-to-teacher ratio in primary edu...</td>\n",
              "      <td>Value</td>\n",
              "      <td>17.000000</td>\n",
              "    </tr>\n",
              "    <tr>\n",
              "      <th>2137</th>\n",
              "      <td>ARM</td>\n",
              "      <td>Armenia</td>\n",
              "      <td>41406</td>\n",
              "      <td>GCI 4.0: Pupil-to-teacher ratio in primary edu...</td>\n",
              "      <td>Value</td>\n",
              "      <td>17.600000</td>\n",
              "    </tr>\n",
              "  </tbody>\n",
              "</table>\n",
              "</div>"
            ],
            "text/plain": [
              "     country_iso3          country_name  ...  subindicator_type       2019\n",
              "135           AGO                Angola  ...              Value  50.029511\n",
              "634           ALB               Albania  ...              Value  17.944780\n",
              "1134          ARE  United Arab Emirates  ...              Value  24.522779\n",
              "1633          ARG             Argentina  ...              Value  17.000000\n",
              "2137          ARM               Armenia  ...              Value  17.600000\n",
              "\n",
              "[5 rows x 6 columns]"
            ]
          },
          "metadata": {},
          "execution_count": 46
        }
      ]
    },
    {
      "cell_type": "code",
      "metadata": {
        "colab": {
          "base_uri": "https://localhost:8080/",
          "height": 295
        },
        "id": "exq8YWNF6dyP",
        "outputId": "325b8ac0-535a-423e-a03f-4a838a4fb7d7"
      },
      "source": [
        "explore(dados, method='summarize')"
      ],
      "execution_count": null,
      "outputs": [
        {
          "output_type": "execute_result",
          "data": {
            "text/html": [
              "<div>\n",
              "<style scoped>\n",
              "    .dataframe tbody tr th:only-of-type {\n",
              "        vertical-align: middle;\n",
              "    }\n",
              "\n",
              "    .dataframe tbody tr th {\n",
              "        vertical-align: top;\n",
              "    }\n",
              "\n",
              "    .dataframe thead th {\n",
              "        text-align: right;\n",
              "    }\n",
              "</style>\n",
              "<table border=\"1\" class=\"dataframe\">\n",
              "  <thead>\n",
              "    <tr style=\"text-align: right;\">\n",
              "      <th></th>\n",
              "      <th>dtypes</th>\n",
              "      <th>count</th>\n",
              "      <th>null_sum</th>\n",
              "      <th>null_pct</th>\n",
              "      <th>nunique</th>\n",
              "      <th>min</th>\n",
              "      <th>25%</th>\n",
              "      <th>50%</th>\n",
              "      <th>75%</th>\n",
              "      <th>max</th>\n",
              "      <th>mean</th>\n",
              "      <th>median</th>\n",
              "      <th>std</th>\n",
              "      <th>skew</th>\n",
              "    </tr>\n",
              "  </thead>\n",
              "  <tbody>\n",
              "    <tr>\n",
              "      <th>2019</th>\n",
              "      <td>float64</td>\n",
              "      <td>135</td>\n",
              "      <td>3</td>\n",
              "      <td>0.022</td>\n",
              "      <td>135</td>\n",
              "      <td>8.30333</td>\n",
              "      <td>13.1276</td>\n",
              "      <td>18.4051</td>\n",
              "      <td>28.3979</td>\n",
              "      <td>69.5097</td>\n",
              "      <td>22.6543</td>\n",
              "      <td>18.4051</td>\n",
              "      <td>12.4649</td>\n",
              "      <td>1.3249</td>\n",
              "    </tr>\n",
              "    <tr>\n",
              "      <th>country_iso3</th>\n",
              "      <td>object</td>\n",
              "      <td>138</td>\n",
              "      <td>0</td>\n",
              "      <td>0.000</td>\n",
              "      <td>138</td>\n",
              "      <td>AGO</td>\n",
              "      <td>-</td>\n",
              "      <td>-</td>\n",
              "      <td>-</td>\n",
              "      <td>ZWE</td>\n",
              "      <td>-</td>\n",
              "      <td>-</td>\n",
              "      <td>-</td>\n",
              "      <td>-</td>\n",
              "    </tr>\n",
              "    <tr>\n",
              "      <th>country_name</th>\n",
              "      <td>object</td>\n",
              "      <td>138</td>\n",
              "      <td>0</td>\n",
              "      <td>0.000</td>\n",
              "      <td>138</td>\n",
              "      <td>Albania</td>\n",
              "      <td>-</td>\n",
              "      <td>-</td>\n",
              "      <td>-</td>\n",
              "      <td>Zimbabwe</td>\n",
              "      <td>-</td>\n",
              "      <td>-</td>\n",
              "      <td>-</td>\n",
              "      <td>-</td>\n",
              "    </tr>\n",
              "    <tr>\n",
              "      <th>indicator</th>\n",
              "      <td>object</td>\n",
              "      <td>138</td>\n",
              "      <td>0</td>\n",
              "      <td>0.000</td>\n",
              "      <td>1</td>\n",
              "      <td>GCI 4.0: Pupil-to-teacher ratio in primary edu...</td>\n",
              "      <td>-</td>\n",
              "      <td>-</td>\n",
              "      <td>-</td>\n",
              "      <td>GCI 4.0: Pupil-to-teacher ratio in primary edu...</td>\n",
              "      <td>-</td>\n",
              "      <td>-</td>\n",
              "      <td>-</td>\n",
              "      <td>-</td>\n",
              "    </tr>\n",
              "    <tr>\n",
              "      <th>indicator_id</th>\n",
              "      <td>int64</td>\n",
              "      <td>138</td>\n",
              "      <td>0</td>\n",
              "      <td>0.000</td>\n",
              "      <td>1</td>\n",
              "      <td>41406</td>\n",
              "      <td>41406</td>\n",
              "      <td>41406</td>\n",
              "      <td>41406</td>\n",
              "      <td>41406</td>\n",
              "      <td>41406</td>\n",
              "      <td>41406</td>\n",
              "      <td>0</td>\n",
              "      <td>0</td>\n",
              "    </tr>\n",
              "    <tr>\n",
              "      <th>subindicator_type</th>\n",
              "      <td>object</td>\n",
              "      <td>138</td>\n",
              "      <td>0</td>\n",
              "      <td>0.000</td>\n",
              "      <td>1</td>\n",
              "      <td>Value</td>\n",
              "      <td>-</td>\n",
              "      <td>-</td>\n",
              "      <td>-</td>\n",
              "      <td>Value</td>\n",
              "      <td>-</td>\n",
              "      <td>-</td>\n",
              "      <td>-</td>\n",
              "      <td>-</td>\n",
              "    </tr>\n",
              "  </tbody>\n",
              "</table>\n",
              "</div>"
            ],
            "text/plain": [
              "                    dtypes  count  null_sum  ...   median      std    skew\n",
              "2019               float64    135         3  ...  18.4051  12.4649  1.3249\n",
              "country_iso3        object    138         0  ...        -        -       -\n",
              "country_name        object    138         0  ...        -        -       -\n",
              "indicator           object    138         0  ...        -        -       -\n",
              "indicator_id         int64    138         0  ...    41406        0       0\n",
              "subindicator_type   object    138         0  ...        -        -       -\n",
              "\n",
              "[6 rows x 14 columns]"
            ]
          },
          "metadata": {},
          "execution_count": 47
        }
      ]
    },
    {
      "cell_type": "code",
      "metadata": {
        "id": "JDV1w27h6q9Q"
      },
      "source": [
        "dados = clean(dados, method='dropmissing')\n"
      ],
      "execution_count": null,
      "outputs": []
    },
    {
      "cell_type": "code",
      "metadata": {
        "colab": {
          "base_uri": "https://localhost:8080/",
          "height": 101
        },
        "id": "OIbLDpsa7Puz",
        "outputId": "8302cb70-843f-444d-985c-858f8ef245c0"
      },
      "source": [
        "dados.head(1)"
      ],
      "execution_count": null,
      "outputs": [
        {
          "output_type": "execute_result",
          "data": {
            "text/html": [
              "<div>\n",
              "<style scoped>\n",
              "    .dataframe tbody tr th:only-of-type {\n",
              "        vertical-align: middle;\n",
              "    }\n",
              "\n",
              "    .dataframe tbody tr th {\n",
              "        vertical-align: top;\n",
              "    }\n",
              "\n",
              "    .dataframe thead th {\n",
              "        text-align: right;\n",
              "    }\n",
              "</style>\n",
              "<table border=\"1\" class=\"dataframe\">\n",
              "  <thead>\n",
              "    <tr style=\"text-align: right;\">\n",
              "      <th></th>\n",
              "      <th>country_iso3</th>\n",
              "      <th>country_name</th>\n",
              "      <th>indicator_id</th>\n",
              "      <th>indicator</th>\n",
              "      <th>subindicator_type</th>\n",
              "      <th>2019</th>\n",
              "    </tr>\n",
              "  </thead>\n",
              "  <tbody>\n",
              "    <tr>\n",
              "      <th>135</th>\n",
              "      <td>AGO</td>\n",
              "      <td>Angola</td>\n",
              "      <td>41406</td>\n",
              "      <td>GCI 4.0: Pupil-to-teacher ratio in primary edu...</td>\n",
              "      <td>Value</td>\n",
              "      <td>50.029511</td>\n",
              "    </tr>\n",
              "  </tbody>\n",
              "</table>\n",
              "</div>"
            ],
            "text/plain": [
              "    country_iso3 country_name  ...  subindicator_type       2019\n",
              "135          AGO       Angola  ...              Value  50.029511\n",
              "\n",
              "[1 rows x 6 columns]"
            ]
          },
          "metadata": {},
          "execution_count": 50
        }
      ]
    },
    {
      "cell_type": "markdown",
      "metadata": {
        "id": "_mvLsMKj9BFu"
      },
      "source": [
        "# Dados Geo"
      ]
    },
    {
      "cell_type": "code",
      "metadata": {
        "id": "LSRJzftP8vgZ"
      },
      "source": [
        "import geopandas as gpd\n",
        "import matplotlib.pyplot as plt\n",
        "%matplotlib inline #quero os graficos no notebook"
      ],
      "execution_count": null,
      "outputs": []
    },
    {
      "cell_type": "code",
      "metadata": {
        "id": "hsH6XmEV9EFO"
      },
      "source": [
        "mundo = gpd.read_file('WB_countries_Admin0_topojson.json')"
      ],
      "execution_count": null,
      "outputs": []
    },
    {
      "cell_type": "code",
      "metadata": {
        "id": "qVtXc5yV9L6M"
      },
      "source": [
        "mundo.head()"
      ],
      "execution_count": null,
      "outputs": []
    },
    {
      "cell_type": "code",
      "metadata": {
        "colab": {
          "base_uri": "https://localhost:8080/",
          "height": 290
        },
        "id": "3kbujd549PpT",
        "outputId": "6ae0202e-d8da-4e90-9f24-1708e898e83a"
      },
      "source": [
        "mundo.plot(figsize=(10,5))\n",
        "plt.show()"
      ],
      "execution_count": null,
      "outputs": [
        {
          "output_type": "display_data",
          "data": {
            "image/png": "[encoded data removed]",
            "text/plain": [
              "<Figure size 720x360 with 1 Axes>"
            ]
          },
          "metadata": {
            "needs_background": "light"
          }
        }
      ]
    },
    {
      "cell_type": "code",
      "metadata": {
        "colab": {
          "base_uri": "https://localhost:8080/",
          "height": 154
        },
        "id": "PLNXnXTT9wlA",
        "outputId": "4e0466bb-4204-4be7-d6bd-f176d6bc2008"
      },
      "source": [
        "mundo.head(1)"
      ],
      "execution_count": null,
      "outputs": [
        {
          "output_type": "execute_result",
          "data": {
            "text/html": [
              "<div>\n",
              "<style scoped>\n",
              "    .dataframe tbody tr th:only-of-type {\n",
              "        vertical-align: middle;\n",
              "    }\n",
              "\n",
              "    .dataframe tbody tr th {\n",
              "        vertical-align: top;\n",
              "    }\n",
              "\n",
              "    .dataframe thead th {\n",
              "        text-align: right;\n",
              "    }\n",
              "</style>\n",
              "<table border=\"1\" class=\"dataframe\">\n",
              "  <thead>\n",
              "    <tr style=\"text-align: right;\">\n",
              "      <th></th>\n",
              "      <th>id</th>\n",
              "      <th>FID</th>\n",
              "      <th>OBJECTID</th>\n",
              "      <th>featurecla</th>\n",
              "      <th>LEVEL</th>\n",
              "      <th>TYPE</th>\n",
              "      <th>FORMAL_EN</th>\n",
              "      <th>FORMAL_FR</th>\n",
              "      <th>POP_EST</th>\n",
              "      <th>POP_RANK</th>\n",
              "      <th>GDP_MD_EST</th>\n",
              "      <th>POP_YEAR</th>\n",
              "      <th>LASTCENSUS</th>\n",
              "      <th>GDP_YEAR</th>\n",
              "      <th>ECONOMY</th>\n",
              "      <th>INCOME_GRP</th>\n",
              "      <th>FIPS_10_</th>\n",
              "      <th>ISO_A2</th>\n",
              "      <th>ISO_A3</th>\n",
              "      <th>ISO_A3_EH</th>\n",
              "      <th>ISO_N3</th>\n",
              "      <th>UN_A3</th>\n",
              "      <th>WB_A2</th>\n",
              "      <th>WB_A3</th>\n",
              "      <th>CONTINENT</th>\n",
              "      <th>REGION_UN</th>\n",
              "      <th>SUBREGION</th>\n",
              "      <th>REGION_WB</th>\n",
              "      <th>NAME_AR</th>\n",
              "      <th>NAME_BN</th>\n",
              "      <th>NAME_DE</th>\n",
              "      <th>NAME_EN</th>\n",
              "      <th>NAME_ES</th>\n",
              "      <th>NAME_FR</th>\n",
              "      <th>NAME_EL</th>\n",
              "      <th>NAME_HI</th>\n",
              "      <th>NAME_HU</th>\n",
              "      <th>NAME_ID</th>\n",
              "      <th>NAME_IT</th>\n",
              "      <th>NAME_JA</th>\n",
              "      <th>NAME_KO</th>\n",
              "      <th>NAME_NL</th>\n",
              "      <th>NAME_PL</th>\n",
              "      <th>NAME_PT</th>\n",
              "      <th>NAME_RU</th>\n",
              "      <th>NAME_SV</th>\n",
              "      <th>NAME_TR</th>\n",
              "      <th>NAME_VI</th>\n",
              "      <th>NAME_ZH</th>\n",
              "      <th>WB_NAME</th>\n",
              "      <th>WB_RULES</th>\n",
              "      <th>WB_REGION</th>\n",
              "      <th>Shape_Leng</th>\n",
              "      <th>Shape_Area</th>\n",
              "      <th>geometry</th>\n",
              "    </tr>\n",
              "  </thead>\n",
              "  <tbody>\n",
              "    <tr>\n",
              "      <th>0</th>\n",
              "      <td>0</td>\n",
              "      <td>0</td>\n",
              "      <td>1</td>\n",
              "      <td>Admin-0 country</td>\n",
              "      <td>2</td>\n",
              "      <td>Sovereign country</td>\n",
              "      <td>Republic of Indonesia</td>\n",
              "      <td></td>\n",
              "      <td>260580739</td>\n",
              "      <td>17</td>\n",
              "      <td>3028000.0</td>\n",
              "      <td>2017</td>\n",
              "      <td>2010</td>\n",
              "      <td>2016</td>\n",
              "      <td>4. Emerging region: MIKT</td>\n",
              "      <td>4. Lower middle income</td>\n",
              "      <td>ID</td>\n",
              "      <td>ID</td>\n",
              "      <td>IDN</td>\n",
              "      <td>IDN</td>\n",
              "      <td>360</td>\n",
              "      <td>360</td>\n",
              "      <td>ID</td>\n",
              "      <td>IDN</td>\n",
              "      <td>Asia</td>\n",
              "      <td>Asia</td>\n",
              "      <td>South-Eastern Asia</td>\n",
              "      <td>East Asia &amp; Pacific</td>\n",
              "      <td>إندونيسيا</td>\n",
              "      <td>ইন্দোনেশিয়া</td>\n",
              "      <td>Indonesien</td>\n",
              "      <td>Indonesia</td>\n",
              "      <td>Indonesia</td>\n",
              "      <td>Indonésie</td>\n",
              "      <td>Ινδονησία</td>\n",
              "      <td>इंडोनेशिया</td>\n",
              "      <td>Indonézia</td>\n",
              "      <td>Indonesia</td>\n",
              "      <td>Indonesia</td>\n",
              "      <td>インドネシア</td>\n",
              "      <td>인도네시아</td>\n",
              "      <td>Indonesië</td>\n",
              "      <td>Indonezja</td>\n",
              "      <td>Indonésia</td>\n",
              "      <td>Индонезия</td>\n",
              "      <td>Indonesien</td>\n",
              "      <td>Endonezya</td>\n",
              "      <td>Indonesia</td>\n",
              "      <td>印度尼西亚</td>\n",
              "      <td>Indonesia</td>\n",
              "      <td>None</td>\n",
              "      <td>EAP</td>\n",
              "      <td>495.029918</td>\n",
              "      <td>153.078608</td>\n",
              "      <td>MULTIPOLYGON (((117.67777 4.15892, 117.71377 4...</td>\n",
              "    </tr>\n",
              "  </tbody>\n",
              "</table>\n",
              "</div>"
            ],
            "text/plain": [
              "  id  FID  ...  Shape_Area                                           geometry\n",
              "0  0    0  ...  153.078608  MULTIPOLYGON (((117.67777 4.15892, 117.71377 4...\n",
              "\n",
              "[1 rows x 55 columns]"
            ]
          },
          "metadata": {},
          "execution_count": 74
        }
      ]
    },
    {
      "cell_type": "code",
      "metadata": {
        "id": "Dd8Mf-5h_reb"
      },
      "source": [
        "mundo = mundo[['ISO_A3', 'CONTINENT', 'INCOME_GRP', 'geometry']]"
      ],
      "execution_count": null,
      "outputs": []
    },
    {
      "cell_type": "code",
      "metadata": {
        "colab": {
          "base_uri": "https://localhost:8080/",
          "height": 101
        },
        "id": "0mvxGvBk_5Ks",
        "outputId": "bb40b0e2-cbb0-4b80-9b5f-f34931491f34"
      },
      "source": [
        "mundo.head(1)"
      ],
      "execution_count": null,
      "outputs": [
        {
          "output_type": "execute_result",
          "data": {
            "text/html": [
              "<div>\n",
              "<style scoped>\n",
              "    .dataframe tbody tr th:only-of-type {\n",
              "        vertical-align: middle;\n",
              "    }\n",
              "\n",
              "    .dataframe tbody tr th {\n",
              "        vertical-align: top;\n",
              "    }\n",
              "\n",
              "    .dataframe thead th {\n",
              "        text-align: right;\n",
              "    }\n",
              "</style>\n",
              "<table border=\"1\" class=\"dataframe\">\n",
              "  <thead>\n",
              "    <tr style=\"text-align: right;\">\n",
              "      <th></th>\n",
              "      <th>ISO_A3</th>\n",
              "      <th>CONTINENT</th>\n",
              "      <th>INCOME_GRP</th>\n",
              "      <th>geometry</th>\n",
              "    </tr>\n",
              "  </thead>\n",
              "  <tbody>\n",
              "    <tr>\n",
              "      <th>0</th>\n",
              "      <td>IDN</td>\n",
              "      <td>Asia</td>\n",
              "      <td>4. Lower middle income</td>\n",
              "      <td>MULTIPOLYGON (((117.67777 4.15892, 117.71377 4...</td>\n",
              "    </tr>\n",
              "  </tbody>\n",
              "</table>\n",
              "</div>"
            ],
            "text/plain": [
              "  ISO_A3  ...                                           geometry\n",
              "0    IDN  ...  MULTIPOLYGON (((117.67777 4.15892, 117.71377 4...\n",
              "\n",
              "[1 rows x 4 columns]"
            ]
          },
          "metadata": {},
          "execution_count": 77
        }
      ]
    },
    {
      "cell_type": "code",
      "metadata": {
        "colab": {
          "base_uri": "https://localhost:8080/",
          "height": 101
        },
        "id": "GxAdNpwL_UkF",
        "outputId": "7620f251-0e11-4a9a-a9bc-9c408002f144"
      },
      "source": [
        "dados.head(1)"
      ],
      "execution_count": null,
      "outputs": [
        {
          "output_type": "execute_result",
          "data": {
            "text/html": [
              "<div>\n",
              "<style scoped>\n",
              "    .dataframe tbody tr th:only-of-type {\n",
              "        vertical-align: middle;\n",
              "    }\n",
              "\n",
              "    .dataframe tbody tr th {\n",
              "        vertical-align: top;\n",
              "    }\n",
              "\n",
              "    .dataframe thead th {\n",
              "        text-align: right;\n",
              "    }\n",
              "</style>\n",
              "<table border=\"1\" class=\"dataframe\">\n",
              "  <thead>\n",
              "    <tr style=\"text-align: right;\">\n",
              "      <th></th>\n",
              "      <th>country_iso3</th>\n",
              "      <th>country_name</th>\n",
              "      <th>indicator_id</th>\n",
              "      <th>indicator</th>\n",
              "      <th>subindicator_type</th>\n",
              "      <th>2019</th>\n",
              "    </tr>\n",
              "  </thead>\n",
              "  <tbody>\n",
              "    <tr>\n",
              "      <th>135</th>\n",
              "      <td>AGO</td>\n",
              "      <td>Angola</td>\n",
              "      <td>41406</td>\n",
              "      <td>GCI 4.0: Pupil-to-teacher ratio in primary edu...</td>\n",
              "      <td>Value</td>\n",
              "      <td>50.029511</td>\n",
              "    </tr>\n",
              "  </tbody>\n",
              "</table>\n",
              "</div>"
            ],
            "text/plain": [
              "    country_iso3 country_name  ...  subindicator_type       2019\n",
              "135          AGO       Angola  ...              Value  50.029511\n",
              "\n",
              "[1 rows x 6 columns]"
            ]
          },
          "metadata": {},
          "execution_count": 75
        }
      ]
    },
    {
      "cell_type": "code",
      "metadata": {
        "id": "2wtZG3aD_Yfw"
      },
      "source": [
        "dados_geo = pd.merge(dados, mundo, left_on = 'country_iso3', right_on = 'ISO_A3')"
      ],
      "execution_count": null,
      "outputs": []
    },
    {
      "cell_type": "code",
      "metadata": {
        "id": "XdFuHSPOAQKI"
      },
      "source": [
        "dados_geo.head()"
      ],
      "execution_count": null,
      "outputs": []
    },
    {
      "cell_type": "code",
      "metadata": {
        "id": "a4NiCZRoBs0w"
      },
      "source": [
        "# Preciso fazer com que dados_geo seja um GeoPandas novamente\n",
        "\n",
        "dados_geo = gpd.GeoDataFrame(dados_geo, geometry='geometry', crs=mundo.crs)"
      ],
      "execution_count": null,
      "outputs": []
    },
    {
      "cell_type": "code",
      "metadata": {
        "id": "p1LnYrNhCCzZ"
      },
      "source": [
        "dados_geo.head(1)"
      ],
      "execution_count": null,
      "outputs": []
    },
    {
      "cell_type": "code",
      "metadata": {
        "id": "MEGdnADFCYVs"
      },
      "source": [
        "dados_geo.plot(column='2019')"
      ],
      "execution_count": null,
      "outputs": []
    },
    {
      "cell_type": "code",
      "metadata": {
        "id": "DeYgvYZ7Cbub"
      },
      "source": [
        ""
      ],
      "execution_count": null,
      "outputs": []
    },
    {
      "cell_type": "markdown",
      "metadata": {
        "id": "5pYmG-71CzM_"
      },
      "source": [
        "# Gráfico"
      ]
    },
    {
      "cell_type": "code",
      "metadata": {
        "colab": {
          "base_uri": "https://localhost:8080/",
          "height": 419
        },
        "id": "yqb55CPeC0V0",
        "outputId": "9253c1bc-1d9c-4eeb-d47c-e66a1c1ceef2"
      },
      "source": [
        "fig, ax = plt.subplots(figsize=(15, 10))\n",
        "ax.set_facecolor('white')\n",
        "mundo.plot(ax = ax, color='lightgray', edgecolor='white')\n",
        "dados_geo.plot(ax = ax , column='2019', cmap='OrRd', scheme='equal_interval', k=7, legend=True)"
      ],
      "execution_count": null,
      "outputs": [
        {
          "output_type": "execute_result",
          "data": {
            "text/plain": [
              "<matplotlib.axes._subplots.AxesSubplot at 0x7f50c75e4910>"
            ]
          },
          "metadata": {},
          "execution_count": 92
        },
        {
          "output_type": "display_data",
          "data": {
            "image/png": "[encoded data removed]",
            "text/plain": [
              "<Figure size 1080x720 with 1 Axes>"
            ]
          },
          "metadata": {
            "needs_background": "light"
          }
        }
      ]
    },
    {
      "cell_type": "code",
      "metadata": {
        "colab": {
          "base_uri": "https://localhost:8080/",
          "height": 236
        },
        "id": "CbMgnSPEDSzp",
        "outputId": "f3d8b58f-2d68-439d-dbb4-a6076e8be581"
      },
      "source": [
        "fig, ax = plt.subplots(nrows=1, ncols=2, figsize=(15, 10))\n",
        "ax[0].set_facecolor('white')\n",
        "ax[1].set_facecolor('white')\n",
        "mundo.plot(ax = ax[0], color='lightgray', edgecolor='white')\n",
        "dados_geo.plot(ax = ax[1] , column='2019', cmap='OrRd', scheme='equal_interval', k=7, legend=True)"
      ],
      "execution_count": null,
      "outputs": [
        {
          "output_type": "execute_result",
          "data": {
            "text/plain": [
              "<matplotlib.axes._subplots.AxesSubplot at 0x7f50c745d7d0>"
            ]
          },
          "metadata": {},
          "execution_count": 93
        },
        {
          "output_type": "display_data",
          "data": {
            "image/png": "[encoded data removed]",
            "text/plain": [
              "<Figure size 1080x720 with 2 Axes>"
            ]
          },
          "metadata": {
            "needs_background": "light"
          }
        }
      ]
    },
    {
      "cell_type": "code",
      "metadata": {
        "id": "2Mm5gy1IEyfB"
      },
      "source": [
        ""
      ],
      "execution_count": null,
      "outputs": []
    }
  ]
}